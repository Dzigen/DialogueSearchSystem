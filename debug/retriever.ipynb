{
 "cells": [
  {
   "cell_type": "code",
   "execution_count": 1,
   "metadata": {},
   "outputs": [],
   "source": [
    "import sys\n",
    "sys.path.insert(0, \"/home/aisummer/mikhail_workspace/nlp_service\")"
   ]
  },
  {
   "cell_type": "code",
   "execution_count": 2,
   "metadata": {},
   "outputs": [],
   "source": [
    "from src.DocumentsRetriever.Retriever import RetrieverModule\n",
    "from src.DocumentsRetriever.utils import RetrieverConfig\n",
    "from src.utils import DialogueState\n",
    "from src.logger import Logger"
   ]
  },
  {
   "cell_type": "code",
   "execution_count": 3,
   "metadata": {},
   "outputs": [],
   "source": [
    "config = RetrieverConfig.load(config_path='../config.yaml')"
   ]
  },
  {
   "cell_type": "code",
   "execution_count": 4,
   "metadata": {},
   "outputs": [],
   "source": [
    "state = DialogueState(query=\"определение термина алгоритм зашифрования\")"
   ]
  },
  {
   "cell_type": "code",
   "execution_count": 5,
   "metadata": {},
   "outputs": [
    {
     "name": "stderr",
     "output_type": "stream",
     "text": [
      "/home/aisummer/.nlp_env/lib/python3.12/site-packages/sentence_transformers/cross_encoder/CrossEncoder.py:11: TqdmExperimentalWarning: Using `tqdm.autonotebook.tqdm` in notebook mode. Use `tqdm.tqdm` instead to force console mode (e.g. in jupyter console)\n",
      "  from tqdm.autonotebook import tqdm, trange\n",
      "No sentence-transformers model found with name /home/aisummer/nlp_models/intfloat/multilingual-e5-small. Creating a new one with mean pooling.\n"
     ]
    }
   ],
   "source": [
    "logger = Logger(False)\n",
    "log = logger.get_logger(__name__)\n",
    "\n",
    "retriever = RetrieverModule(config, log)"
   ]
  },
  {
   "cell_type": "code",
   "execution_count": 8,
   "metadata": {},
   "outputs": [],
   "source": [
    "retriever.base_search(state)"
   ]
  },
  {
   "cell_type": "code",
   "execution_count": 9,
   "metadata": {},
   "outputs": [
    {
     "data": {
      "text/plain": [
       "[Document(metadata={'Header 1': 'КРИПТОГРАФИЧЕСКАЯ ЗАЩИТА ИНФОРМАЦИИ', 'Header 2': 'Блочные шифры', 'doc_id': 'doc3.pdf'}, page_content='В настоящем стандарте применены следующие термины с соответствующими определениями.\\n2.1.1  \\n**алгоритм зашифрования** (encryption algorithm): Алгоритм, реализующий зашифрование, т.е.\\nпреобразующий открытый текст в шифртекст.'),\n",
       " Document(metadata={'Header 2': 'ГОСТ Р 34.13 —', 'doc_id': 'doc4.pdf'}, page_content='2.1.1  \\n**алгоритм зашифрования** (encryption algorithm): Алгоритм, реализующий зашифрование, т.е.  \\nпреобразующий открытый текст в шифртекст.  \\n[ИСО/МЭК 18033-1, статья 2.19]  \\n2.1.2'),\n",
       " Document(metadata={'Header 1': 'КРИПТОГРАФИЧЕСКАЯ ЗАЩИТА ИНФОРМАЦИИ', 'Header 2': 'Форматы сообщений, защищенных', 'doc_id': 'doc31.pdf'}, page_content='-  `keyEncryptionAlgorithm` — определение алгоритма зашифрования ключа шифрования со  \\nдержимого и его параметров; процесс зашифрования описан и значения параметров определены в 8.4;'),\n",
       " Document(metadata={'Header 2': 'ГОСТ Р 34.13 —', 'doc_id': 'doc4.pdf'}, page_content='2.1.2  \\n**алгоритм расшифрования** (decryption algorithm): Алгоритм, реализующий расшифрование,  \\nт.е. преобразующий шифртекст в открытый текст.  \\n[ИСО/МЭК 18033-1, статья 2.14]  \\n2.1.3'),\n",
       " Document(metadata={'Header 1': 'КРИПТОГРАФИЧЕСКАЯ ЗАЩИТА ИНФОРМАЦИИ', 'Header 2': 'Блочные шифры', 'doc_id': 'doc3.pdf'}, page_content='[ИСО/МЭК 18033-1, статья 2.19]\\n2.1.2  \\n**алгоритм расшифрования** (decryption algorithm): Алгоритм, реализующий расшифрование, т.е.\\nпреобразующий шифртекст в открытый текст.  \\n[ИСО/МЭК 18033-1, статья 2.14]\\n2.1.3')]"
      ]
     },
     "execution_count": 9,
     "metadata": {},
     "output_type": "execute_result"
    }
   ],
   "source": [
    "state.base_relevant_docs"
   ]
  },
  {
   "cell_type": "code",
   "execution_count": null,
   "metadata": {},
   "outputs": [],
   "source": []
  },
  {
   "cell_type": "code",
   "execution_count": null,
   "metadata": {},
   "outputs": [],
   "source": []
  }
 ],
 "metadata": {
  "kernelspec": {
   "display_name": "nlp_env",
   "language": "python",
   "name": "nlp_env"
  },
  "orig_nbformat": 4
 },
 "nbformat": 4,
 "nbformat_minor": 2
}
