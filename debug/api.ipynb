{
 "cells": [
  {
   "cell_type": "code",
   "execution_count": 2,
   "metadata": {},
   "outputs": [],
   "source": [
    "import requests\n",
    "import json"
   ]
  },
  {
   "cell_type": "code",
   "execution_count": 24,
   "metadata": {},
   "outputs": [],
   "source": [
    "queries = [\n",
    "    \"Какое определение термина 'алгоритм зашифрования'?\", # doc3\n",
    "    \"Какое определение термина 'атака'?\", # doc20\n",
    "    \"Что такое синхропосылка?\", # doc38\n",
    "    \"Какую информацию о СОПС должен указывать изготовитель?\" # doc68\n",
    "]"
   ]
  },
  {
   "cell_type": "code",
   "execution_count": 25,
   "metadata": {},
   "outputs": [],
   "source": [
    "body = {'query': queries[3]}"
   ]
  },
  {
   "cell_type": "code",
   "execution_count": 26,
   "metadata": {},
   "outputs": [],
   "source": [
    "response = requests.post('http://0.0.0.0:8008/question_answering_service', json=body)"
   ]
  },
  {
   "cell_type": "code",
   "execution_count": 27,
   "metadata": {},
   "outputs": [],
   "source": [
    "response = json.loads(response.content.decode('utf-8'))"
   ]
  },
  {
   "cell_type": "code",
   "execution_count": 29,
   "metadata": {},
   "outputs": [
    {
     "name": "stdout",
     "output_type": "stream",
     "text": [
      "Изготовитель при необходимости может указывать следующею информацию об электронных устройствах (СОПС):\n",
      "\n",
      "а) положение нормальной установки при монтаже, если это имеет значение;\n",
      "б) идентификация выводов;\n",
      "в) ток утечки или дифференциальный ток.\n"
     ]
    }
   ],
   "source": [
    "print(response['answer'])"
   ]
  },
  {
   "cell_type": "code",
   "execution_count": 30,
   "metadata": {},
   "outputs": [
    {
     "data": {
      "text/plain": [
       "{'answer': 'Изготовитель при необходимости может указывать следующею информацию об электронных устройствах (СОПС):\\n\\nа) положение нормальной установки при монтаже, если это имеет значение;\\nб) идентификация выводов;\\nв) ток утечки или дифференциальный ток.',\n",
       " 'context': [{'id': None,\n",
       "   'metadata': {'Header 1': 'АВТОМАТИЗИРОВАННЫЕ СИСТЕМЫ',\n",
       "    'Header 2': 'Общие требования',\n",
       "    'doc_id': 'doc68.pdf'},\n",
       "   'page_content': '5.3.2 Изготовитель при необходимости может указывать следующую информацию о СОПС:\\nа) положение нормальной установки при монтаже (если это имеет значение);\\nб) идентификация выводов;\\nв) ток утечки или дифференциальный ток.',\n",
       "   'type': 'Document'},\n",
       "  {'id': None,\n",
       "   'metadata': {'Header 1': 'АВТОМАТИЗИРОВАННЫЕ СИСТЕМЫ',\n",
       "    'Header 2': 'Общие требования',\n",
       "    'doc_id': 'doc68.pdf'},\n",
       "   'page_content': '**5.3 Идентификация**  \\n5.3.1 Изготовитель должен указывать следующую информацию о СОПС:\\nа) наименование изготовителя или торговую марку и номер модели;\\nб) класс условий эксплуатации;\\nв) типовое обозначение СОПС согласно таблицам 5—8;',\n",
       "   'type': 'Document'},\n",
       "  {'id': None,\n",
       "   'metadata': {'Header 1': 'АВТОМАТИЗИРОВАННЫЕ СИСТЕМЫ',\n",
       "    'Header 2': 'Общие требования',\n",
       "    'doc_id': 'doc68.pdf'},\n",
       "   'page_content': '**9.1 Общие требования**  \\nСОПС должны быть безопасны при работе в нормальных условиях эксплуатации согласно реко  \\nмендациям изготовителя. Требования безопасности к СОПС должны соответствовать ГОСТ 12.1.004,',\n",
       "   'type': 'Document'}]}"
      ]
     },
     "execution_count": 30,
     "metadata": {},
     "output_type": "execute_result"
    }
   ],
   "source": [
    "response"
   ]
  },
  {
   "cell_type": "code",
   "execution_count": null,
   "metadata": {},
   "outputs": [],
   "source": []
  }
 ],
 "metadata": {
  "kernelspec": {
   "display_name": ".nlp_env",
   "language": "python",
   "name": ".nlp_env"
  },
  "language_info": {
   "codemirror_mode": {
    "name": "ipython",
    "version": 3
   },
   "file_extension": ".py",
   "mimetype": "text/x-python",
   "name": "python",
   "nbconvert_exporter": "python",
   "pygments_lexer": "ipython3",
   "version": "3.12.3"
  },
  "orig_nbformat": 4
 },
 "nbformat": 4,
 "nbformat_minor": 2
}
