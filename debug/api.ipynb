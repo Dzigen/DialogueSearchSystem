{
 "cells": [
  {
   "cell_type": "code",
   "execution_count": 2,
   "metadata": {},
   "outputs": [],
   "source": [
    "import requests\n",
    "import json"
   ]
  },
  {
   "cell_type": "code",
   "execution_count": 9,
   "metadata": {},
   "outputs": [],
   "source": [
    "queries = [\n",
    "    \"Что такое алгоритм зашифрования?\", # doc3\n",
    "    \"Какое определение термина 'атака'?\", # doc20\n",
    "    \"Что такое синхропосылка?\", # doc38\n",
    "    \"Какую информацию о СОПС должен указывать изготовитель?\" # doc68\n",
    "]"
   ]
  },
  {
   "cell_type": "code",
   "execution_count": 10,
   "metadata": {},
   "outputs": [],
   "source": [
    "body = {'query': queries[0]}"
   ]
  },
  {
   "cell_type": "code",
   "execution_count": 11,
   "metadata": {},
   "outputs": [],
   "source": [
    "response = requests.post('http://0.0.0.0:8008/question_answering_service', json=body)"
   ]
  },
  {
   "cell_type": "code",
   "execution_count": 6,
   "metadata": {},
   "outputs": [],
   "source": [
    "response = json.loads(response.content.decode('utf-8'))"
   ]
  },
  {
   "cell_type": "code",
   "execution_count": 7,
   "metadata": {},
   "outputs": [
    {
     "name": "stdout",
     "output_type": "stream",
     "text": [
      "Алгоритм зашифровывания (encryption algorithm): Алгорим, реализующий шифрование, т.е преобразуйте тен текст в shielding text.\n"
     ]
    }
   ],
   "source": [
    "print(response['answer'])"
   ]
  },
  {
   "cell_type": "code",
   "execution_count": 8,
   "metadata": {},
   "outputs": [
    {
     "data": {
      "text/plain": [
       "{'answer': 'Алгоритм зашифровывания (encryption algorithm): Алгорим, реализующий шифрование, т.е преобразуйте тен текст в shielding text.',\n",
       " 'context': [{'id': None,\n",
       "   'metadata': {'Header 2': 'ГОСТ Р 34.13 —', 'doc_id': 'doc4.pdf'},\n",
       "   'page_content': '2.1.1  \\n**алгоритм зашифрования** (encryption algorithm): Алгоритм, реализующий зашифрование, т.е.  \\nпреобразующий открытый текст в шифртекст.  \\n[ИСО/МЭК 18033-1, статья 2.19]  \\n2.1.2',\n",
       "   'type': 'Document'},\n",
       "  {'id': None,\n",
       "   'metadata': {'Header 1': 'ПНСТ 799—',\n",
       "    'Header 2': '2022',\n",
       "    'doc_id': 'doc5.pdf'},\n",
       "   'page_content': '1 См. [5], пункт 3.28.  \\n2 См. определение термина «аутентификация стороны» в приложении Б, статья  \\nБ.2.9.  \\n180 **криптографический протокол аутентификации сторон:** Криптогра',\n",
       "   'type': 'Document'},\n",
       "  {'id': None,\n",
       "   'metadata': {'Header 1': 'КРИПТОГРАФИЧЕСКАЯ ЗАЩИТА ИНФОРМАЦИИ',\n",
       "    'Header 2': 'Блочные шифры',\n",
       "    'doc_id': 'doc3.pdf'},\n",
       "   'page_content': 'В настоящем стандарте применены следующие термины с соответствующими определениями.\\n2.1.1  \\n**алгоритм зашифрования** (encryption algorithm): Алгоритм, реализующий зашифрование, т.е.\\nпреобразующий открытый текст в шифртекст.',\n",
       "   'type': 'Document'}]}"
      ]
     },
     "execution_count": 8,
     "metadata": {},
     "output_type": "execute_result"
    }
   ],
   "source": [
    "response"
   ]
  },
  {
   "cell_type": "code",
   "execution_count": null,
   "metadata": {},
   "outputs": [],
   "source": []
  }
 ],
 "metadata": {
  "kernelspec": {
   "display_name": "nlp_env",
   "language": "python",
   "name": "nlp_env"
  },
  "orig_nbformat": 4
 },
 "nbformat": 4,
 "nbformat_minor": 2
}
