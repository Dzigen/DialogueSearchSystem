{
 "cells": [
  {
   "cell_type": "code",
   "execution_count": 4,
   "metadata": {},
   "outputs": [],
   "source": [
    "import sys\n",
    "sys.path.insert(0, \"/home/aisummer/ssemenov_workspace/nlp-service\")\n",
    "from src.LLM_build.utils import llmConfig\n",
    "import requests\n",
    "import json\n"
   ]
  },
  {
   "cell_type": "code",
   "execution_count": 5,
   "metadata": {},
   "outputs": [],
   "source": [
    "def llm_question(config: llmConfig) -> None:\n",
    "\n",
    "    url = 'http://localhost:11434/api/chat'\n",
    "    data = {\n",
    "        \"model\": \"llama3\",\n",
    "        \"messages\": [\n",
    "            {\n",
    "                \"role\": \"user\",\n",
    "                \"content\": \"Ты вопросно-ответная система. Все ответы генерируешь на русском языке. Отвечай коротко по вопросам.\"\n",
    "            },\n",
    "            {\n",
    "                \"role\": \"assistant\",\n",
    "                \"content\": \"Твоя база знаний, все ответы генерируются на основе текста ниже: \\\n",
    "            4.1.2 Вагон должен соответствовать климатическому исполнению УХЛ1 по ГОСТ 15150 с  \\\n",
    "            обеспе-чением работоспособного состояния в диапазоне рабочих температур от минус 60 °С до плюс 50 °С. 4.1.3 \\\n",
    "            Габарит вагона должен соответствовать требованиям ГОСТ 9238. 4.1.4 Вагон должен иметь кузов, включающий в себя \\\n",
    "            раму с установленными на ней отдельными емкостями (бункерами) для размещения грузов, а также иные устройства, \\\n",
    "            предусмотренные конструк-торской документацией, и должен быть оборудован: а) тележками по ГОСТ 9246 или иному стандарту, \\\n",
    "                распространяющемуся на тележки грузовых вагонов железных дорог; 6) автосцепными устройствами по ГОСТ 33434 или иному стандарту, \\\n",
    "            распространяющемуся на автосцепные устройства грузовых вагонов, с контуром зацепления автосцепки по ГОСТ 21447, \\\n",
    "            с обо-рудованием автосцепок нижним ограничителем вертикальных перемещений и расцепным приводом с \\\n",
    "            блокировочной цепью и поглощающими аппаратами по ГОСТ 32913; в) автоматическим пневматическим тормозом по ГОСТ 34434; \\\n",
    "            г) стояночным тормозом по ГОСТ 32880. \"\n",
    "            },\n",
    "            {\n",
    "                \"role\": \"user\",\n",
    "                \"content\": 'Требованиями какого госта должен соответствовать габарит вагона?'\n",
    "            }\n",
    "        ],\n",
    "        \"stream\": config.stream,\n",
    "        \"options\": {\n",
    "            \"num_keep\": config.num_keep,\n",
    "            \"seed\": config.seed,\n",
    "            \"num_predict\": config.num_predict,\n",
    "            \"top_k\": config.top_k,\n",
    "            \"top_p\": config.top_p,\n",
    "            \"tfs_z\": config.tfs_z,\n",
    "            \"typical_p\": config.typical_p,\n",
    "            \"repeat_last_n\": config.repeat_last_n,\n",
    "            \"temperature\": config.temperature,\n",
    "            \"repeat_penalty\": config.repeat_penalty,\n",
    "            \"presence_penalty\": config.presence_penalty,\n",
    "            \"frequency_penalty\": config.frequency_penalty,\n",
    "            \"mirostat\": config.mirostat,\n",
    "            \"mirostat_tau\": config.mirostat_tau,\n",
    "            \"mirostat_eta\": config.mirostat_eta,\n",
    "            \"penalize_newline\": config.penalize_newline,\n",
    "            #\"stop\": config.stop,\n",
    "            \"numa\": config.numa,\n",
    "            \"num_ctx\": config.num_ctx,\n",
    "            \"num_batch\": config.num_batch,\n",
    "            \"num_gpu\": config.num_gpu,\n",
    "            \"main_gpu\": config.main_gpu,\n",
    "            \"low_vram\": config.low_vram,\n",
    "            \"f16_kv\": config.f16_kv,\n",
    "            \"vocab_only\": config.vocab_only,\n",
    "            \"use_mmap\": config.use_mmap,\n",
    "            \"use_mlock\": config.use_mlock,\n",
    "            \"num_thread\": config.num_thread\n",
    "        }\n",
    "    }\n",
    "\n",
    "    response = requests.post(url, json=data, stream=True)\n",
    "\n",
    "    if response.status_code == 200:\n",
    "        for chunk in response.iter_content(chunk_size=1024):\n",
    "            if chunk:\n",
    "                string_response = chunk.decode('utf-8')\n",
    "                json_data = json.loads(string_response)\n",
    "\n",
    "                # Извлечение значения content из JSON-данных\n",
    "                if 'message' in json_data and 'content' in json_data['message']:\n",
    "                    content = json_data['message']['content']\n",
    "                    print(content, end='')\n",
    "                else:\n",
    "                    print(\"Content field not found in JSON response.\")\n",
    "        print('\\n')\n",
    "\n",
    "    else:\n",
    "        print(\"Failed to get a successful response. Status code:\", response.status_code)"
   ]
  },
  {
   "cell_type": "code",
   "execution_count": 6,
   "metadata": {},
   "outputs": [
    {
     "name": "stdout",
     "output_type": "stream",
     "text": [
      "Габарит вагона должен соответствовать требованиям ГОСТ 9238.\n",
      "\n"
     ]
    }
   ],
   "source": [
    "config = llmConfig()\n",
    "llm_question(config)"
   ]
  }
 ],
 "metadata": {
  "kernelspec": {
   "display_name": ".nlp_env",
   "language": "python",
   "name": "python3"
  },
  "language_info": {
   "codemirror_mode": {
    "name": "ipython",
    "version": 3
   },
   "file_extension": ".py",
   "mimetype": "text/x-python",
   "name": "python",
   "nbconvert_exporter": "python",
   "pygments_lexer": "ipython3",
   "version": "3.12.3"
  }
 },
 "nbformat": 4,
 "nbformat_minor": 2
}
