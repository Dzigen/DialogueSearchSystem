{
 "cells": [
  {
   "cell_type": "code",
   "execution_count": 1,
   "metadata": {},
   "outputs": [],
   "source": [
    "import sys\n",
    "sys.path.insert(0, \"/home/aisummer/mikhail_workspace/nlp-service\")\n",
    "\n",
    "from src.DocumentsSummarizer.Summarizer import SummarizerModule\n",
    "from src.DocumentsSummarizer.utils import SummarizerConfig\n",
    "from src.utils import DialogueState\n",
    "from src.LLM_build.utils import llmConfig"
   ]
  },
  {
   "cell_type": "code",
   "execution_count": 2,
   "metadata": {},
   "outputs": [],
   "source": [
    "config = DialogueState()"
   ]
  },
  {
   "cell_type": "code",
   "execution_count": 3,
   "metadata": {},
   "outputs": [],
   "source": [
    "reader = SummarizerModule()"
   ]
  },
  {
   "cell_type": "code",
   "execution_count": 4,
   "metadata": {},
   "outputs": [],
   "source": [
    "conf2 = llmConfig()"
   ]
  },
  {
   "cell_type": "code",
   "execution_count": 5,
   "metadata": {},
   "outputs": [],
   "source": [
    "assist_prompt = \"Твоя база знаний, все ответы генерируются на основе текста ниже: \\\n",
    "        4.1.2 Вагон должен соответствовать климатическому исполнению УХЛ1 по ГОСТ 15150 с  \\\n",
    "        обеспе-чением работоспособного состояния в диапазоне рабочих температур от минус 60 °С до плюс 50 °С. 4.1.3 \\\n",
    "        Габарит вагона должен соответствовать требованиям ГОСТ 9238. 4.1.4 Вагон должен иметь кузов, включающий в себя \\\n",
    "        раму с установленными на ней отдельными емкостями (бункерами) для размещения грузов, а также иные устройства, \\\n",
    "        предусмотренные конструк-торской документацией, и должен быть оборудован: а) тележками по ГОСТ 9246 или иному стандарту, \\\n",
    "            распространяющемуся на тележки грузовых вагонов железных дорог; 6) автосцепными устройствами по ГОСТ 33434 или иному стандарту, \\\n",
    "        распространяющемуся на автосцепные устройства грузовых вагонов, с контуром зацепления автосцепки по ГОСТ 21447, \\\n",
    "        с обо-рудованием автосцепок нижним ограничителем вертикальных перемещений и расцепным приводом с \\\n",
    "        блокировочной цепью и поглощающими аппаратами по ГОСТ 32913; в) автоматическим пневматическим тормозом по ГОСТ 34434; \\\n",
    "        г) стояночным тормозом по ГОСТ 32880. \""
   ]
  },
  {
   "cell_type": "code",
   "execution_count": 8,
   "metadata": {},
   "outputs": [],
   "source": [
    "user_prompt = \"Требованиям какого ГОСТа должен соответствовать габарит вагона?\""
   ]
  },
  {
   "cell_type": "code",
   "execution_count": 10,
   "metadata": {},
   "outputs": [
    {
     "ename": "TypeError",
     "evalue": "Client.chat() got an unexpected keyword argument 'temperature'",
     "output_type": "error",
     "traceback": [
      "\u001b[0;31m---------------------------------------------------------------------------\u001b[0m",
      "\u001b[0;31mTypeError\u001b[0m                                 Traceback (most recent call last)",
      "Cell \u001b[0;32mIn[10], line 1\u001b[0m\n\u001b[0;32m----> 1\u001b[0m reader\u001b[39m.\u001b[39;49mcreate_answer(config, conf2, user_prompt, assist_prompt)\n",
      "File \u001b[0;32m~/mikhail_workspace/nlp-service/src/DocumentsSummarizer/Summarizer.py:17\u001b[0m, in \u001b[0;36mSummarizerModule.create_answer\u001b[0;34m(self, state, config, user_promt, assist_promt)\u001b[0m\n\u001b[1;32m     15\u001b[0m \u001b[39mdef\u001b[39;00m \u001b[39mcreate_answer\u001b[39m(\u001b[39mself\u001b[39m, state: DialogueState, config:llmConfig, user_promt:\u001b[39mstr\u001b[39m, assist_promt:\u001b[39mstr\u001b[39m) \u001b[39m-\u001b[39m\u001b[39m>\u001b[39m \u001b[39mNone\u001b[39;00m:\n\u001b[0;32m---> 17\u001b[0m     response \u001b[39m=\u001b[39m \u001b[39mself\u001b[39;49m\u001b[39m.\u001b[39;49mclient\u001b[39m.\u001b[39;49mchat(\n\u001b[1;32m     18\u001b[0m \n\u001b[1;32m     19\u001b[0m         model\u001b[39m=\u001b[39;49m\u001b[39m'\u001b[39;49m\u001b[39mllama3\u001b[39;49m\u001b[39m'\u001b[39;49m, \n\u001b[1;32m     20\u001b[0m         messages\u001b[39m=\u001b[39;49m[\n\u001b[1;32m     21\u001b[0m         {\u001b[39m\"\u001b[39;49m\u001b[39mrole\u001b[39;49m\u001b[39m\"\u001b[39;49m: \u001b[39m\"\u001b[39;49m\u001b[39msystem\u001b[39;49m\u001b[39m\"\u001b[39;49m, \u001b[39m\"\u001b[39;49m\u001b[39mcontent\u001b[39;49m\u001b[39m\"\u001b[39;49m: \u001b[39m\"\u001b[39;49m\u001b[39mТы вопросно-ответная система. Все ответы генерируешь на русском языке. Отвечай коротко по вопросам.\u001b[39;49m\u001b[39m\"\u001b[39;49m},\n\u001b[1;32m     22\u001b[0m         {\u001b[39m\"\u001b[39;49m\u001b[39mrole\u001b[39;49m\u001b[39m\"\u001b[39;49m: \u001b[39m\"\u001b[39;49m\u001b[39massistant\u001b[39;49m\u001b[39m\"\u001b[39;49m, \u001b[39m\"\u001b[39;49m\u001b[39mcontent\u001b[39;49m\u001b[39m\"\u001b[39;49m: assist_promt},\n\u001b[1;32m     23\u001b[0m         {\u001b[39m\"\u001b[39;49m\u001b[39mrole\u001b[39;49m\u001b[39m\"\u001b[39;49m: \u001b[39m\"\u001b[39;49m\u001b[39muser\u001b[39;49m\u001b[39m\"\u001b[39;49m, \u001b[39m\"\u001b[39;49m\u001b[39mcontent\u001b[39;49m\u001b[39m\"\u001b[39;49m: user_promt \u001b[39m+\u001b[39;49m \u001b[39m'\u001b[39;49m\u001b[39m\\n\u001b[39;49;00m\u001b[39m'\u001b[39;49m}],\n\u001b[1;32m     24\u001b[0m         stream\u001b[39m=\u001b[39;49mconfig\u001b[39m.\u001b[39;49mstream,\n\u001b[1;32m     25\u001b[0m         temperature\u001b[39m=\u001b[39;49mconfig\u001b[39m.\u001b[39;49mtemperature,\n\u001b[1;32m     26\u001b[0m         max_tokens\u001b[39m=\u001b[39;49mconfig\u001b[39m.\u001b[39;49mmax_tokens)\n\u001b[1;32m     28\u001b[0m     answer \u001b[39m=\u001b[39m response[\u001b[39m'\u001b[39m\u001b[39mmessage\u001b[39m\u001b[39m'\u001b[39m][\u001b[39m'\u001b[39m\u001b[39mcontent\u001b[39m\u001b[39m'\u001b[39m]\n\u001b[1;32m     29\u001b[0m     state\u001b[39m.\u001b[39manswer \u001b[39m=\u001b[39m answer\n",
      "\u001b[0;31mTypeError\u001b[0m: Client.chat() got an unexpected keyword argument 'temperature'"
     ]
    }
   ],
   "source": [
    "reader.create_answer(config, conf2, user_prompt, assist_prompt)"
   ]
  },
  {
   "cell_type": "code",
   "execution_count": null,
   "metadata": {},
   "outputs": [],
   "source": []
  }
 ],
 "metadata": {
  "kernelspec": {
   "display_name": ".nlp_env",
   "language": "python",
   "name": "python3"
  },
  "language_info": {
   "codemirror_mode": {
    "name": "ipython",
    "version": 3
   },
   "file_extension": ".py",
   "mimetype": "text/x-python",
   "name": "python",
   "nbconvert_exporter": "python",
   "pygments_lexer": "ipython3",
   "version": "3.12.3"
  },
  "orig_nbformat": 4
 },
 "nbformat": 4,
 "nbformat_minor": 2
}
