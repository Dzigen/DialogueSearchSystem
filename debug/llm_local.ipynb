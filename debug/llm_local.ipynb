{
 "cells": [
  {
   "cell_type": "code",
   "execution_count": 121,
   "metadata": {},
   "outputs": [],
   "source": [
    "import os\n",
    "import sys\n",
    "import re\n",
    "sys.path.insert(0, \"/home/dzigen/Desktop/nlp_service/\")\n",
    "import urllib.request\n",
    "import numpy as np\n",
    "from llama_cpp import Llama\n",
    "from src.DocumentsSummarizer.LLM_Local import LLM_model\n",
    "from src.DocumentsSummarizer.LLM_Local.utils import LLM_Hardw_Conf\n",
    "from src.DocumentsSummarizer.LLM_Local.utils import LLM_Hyper_Conf"
   ]
  },
  {
   "cell_type": "code",
   "execution_count": 124,
   "metadata": {},
   "outputs": [
    {
     "data": {
      "text/plain": [
       "['2']"
      ]
     },
     "execution_count": 124,
     "metadata": {},
     "output_type": "execute_result"
    }
   ],
   "source": [
    "re.findall('\\d+','asda2')[0]"
   ]
  },
  {
   "cell_type": "code",
   "execution_count": 2,
   "metadata": {},
   "outputs": [],
   "source": [
    "config_Hard = LLM_Hardw_Conf()\n",
    "config_Hyper = LLM_Hyper_Conf()"
   ]
  },
  {
   "cell_type": "code",
   "execution_count": 102,
   "metadata": {},
   "outputs": [
    {
     "data": {
      "text/plain": [
       "LLM_Hyper_Conf(temperature=0.8, top_k=40, top_p=0.95, min_p=0.05, typical_p=1, stream=True, max_tokens=80)"
      ]
     },
     "execution_count": 102,
     "metadata": {},
     "output_type": "execute_result"
    }
   ],
   "source": [
    "config_Hyper"
   ]
  },
  {
   "cell_type": "code",
   "execution_count": null,
   "metadata": {},
   "outputs": [],
   "source": [
    "model = LLM_model(config_Hard, config_Hyper)"
   ]
  },
  {
   "cell_type": "code",
   "execution_count": null,
   "metadata": {},
   "outputs": [],
   "source": [
    "#system_prompt = \"Ты вопросно-ответная система. Отвечай на русском языке.\"\n",
    "assistant_context = \"Это твоя база знаний. Используй её при ответе: Вектор – это направленный отрезок прямой, т. е. отрезок, имеющий определенную длину и определенное направление.\"\n",
    "user_prompt = 'Что такое вектор?'"
   ]
  },
  {
   "cell_type": "code",
   "execution_count": 151,
   "metadata": {},
   "outputs": [],
   "source": [
    "assistant_context = ''\n",
    "user_prompt = '''Оцени (Score) от 0 до 10 степень понимания/ясности информации в запросе (Query) для того, чтобы дать на него точный/чёткий/ожидаемый ответ. При оценке ты должна основываться только на структуре вопросительной конструкции данного запроса и не заниматься самостоятельным додумыванием его возможного скрытого смысла.  \n",
    "\n",
    "Примеры запросов и их оценок:\n",
    "- Query: Когда родился Александр Сергеевич Пушкин?\n",
    "  Score: 9.\n",
    "- Query: Александр Сергеевич Пушкин.\n",
    "  Score: 5.\n",
    "- Query: Александр. \n",
    "  Score: 1.\n",
    "\n",
    "\n",
    "Query: В какой териториальной местности находится мой знакомый, с которым я вижусь два раза в неделю в парке?'''"
   ]
  },
  {
   "cell_type": "code",
   "execution_count": 152,
   "metadata": {},
   "outputs": [
    {
     "name": "stderr",
     "output_type": "stream",
     "text": [
      "Llama.generate: prefix-match hit\n",
      "\n",
      "llama_print_timings:        load time =    4709.02 ms\n",
      "llama_print_timings:      sample time =      51.19 ms /    31 runs   (    1.65 ms per token,   605.63 tokens per second)\n",
      "llama_print_timings: prompt eval time =    1674.52 ms /    35 tokens (   47.84 ms per token,    20.90 tokens per second)\n",
      "llama_print_timings:        eval time =    5434.52 ms /    30 runs   (  181.15 ms per token,     5.52 tokens per second)\n",
      "llama_print_timings:       total time =    7179.67 ms /    65 tokens\n",
      "Llama.generate: prefix-match hit\n"
     ]
    },
    {
     "name": "stdout",
     "output_type": "stream",
     "text": [
      "Score: 2.\n",
      "\n",
      "(Оценка низкая из-за отсутствия конкретной информации о территориальной местности и знакомом)\n"
     ]
    },
    {
     "name": "stderr",
     "output_type": "stream",
     "text": [
      "\n",
      "llama_print_timings:        load time =    4709.02 ms\n",
      "llama_print_timings:      sample time =      73.69 ms /    45 runs   (    1.64 ms per token,   610.67 tokens per second)\n",
      "llama_print_timings: prompt eval time =       0.00 ms /     0 tokens (    -nan ms per token,     -nan tokens per second)\n",
      "llama_print_timings:        eval time =    8158.93 ms /    45 runs   (  181.31 ms per token,     5.52 tokens per second)\n",
      "llama_print_timings:       total time =    8260.78 ms /    45 tokens\n",
      "Llama.generate: prefix-match hit\n"
     ]
    },
    {
     "name": "stdout",
     "output_type": "stream",
     "text": [
      "Score: 2.\n",
      "\n",
      "(Оценка низкая, потому что запрос не содержит информации о месте, где находится знакомый. Понимание/ясность информации в запросе минимальная.)\n"
     ]
    },
    {
     "name": "stderr",
     "output_type": "stream",
     "text": [
      "\n",
      "llama_print_timings:        load time =    4709.02 ms\n",
      "llama_print_timings:      sample time =      52.68 ms /    35 runs   (    1.51 ms per token,   664.34 tokens per second)\n",
      "llama_print_timings: prompt eval time =       0.00 ms /     0 tokens (    -nan ms per token,     -nan tokens per second)\n",
      "llama_print_timings:        eval time =    6381.46 ms /    35 runs   (  182.33 ms per token,     5.48 tokens per second)\n",
      "llama_print_timings:       total time =    6456.28 ms /    35 tokens\n",
      "Llama.generate: prefix-match hit\n"
     ]
    },
    {
     "name": "stdout",
     "output_type": "stream",
     "text": [
      "Score: 2.\n",
      "\n",
      "(Оценка низкая из-за неопределенности и отсутствия конкретных признаков о территориальном расположении)\n"
     ]
    },
    {
     "name": "stderr",
     "output_type": "stream",
     "text": [
      "\n",
      "llama_print_timings:        load time =    4709.02 ms\n",
      "llama_print_timings:      sample time =      46.99 ms /    30 runs   (    1.57 ms per token,   638.38 tokens per second)\n",
      "llama_print_timings: prompt eval time =       0.00 ms /     0 tokens (    -nan ms per token,     -nan tokens per second)\n",
      "llama_print_timings:        eval time =    5454.27 ms /    30 runs   (  181.81 ms per token,     5.50 tokens per second)\n",
      "llama_print_timings:       total time =    5520.50 ms /    30 tokens\n",
      "Llama.generate: prefix-match hit\n"
     ]
    },
    {
     "name": "stdout",
     "output_type": "stream",
     "text": [
      "Score: 2.\n",
      "\n",
      "(Оценка низкая, поскольку запрос не содержит указания на конкретную территорию или местность)\n"
     ]
    },
    {
     "name": "stderr",
     "output_type": "stream",
     "text": [
      "\n",
      "llama_print_timings:        load time =    4709.02 ms\n",
      "llama_print_timings:      sample time =      56.59 ms /    38 runs   (    1.49 ms per token,   671.48 tokens per second)\n",
      "llama_print_timings: prompt eval time =       0.00 ms /     0 tokens (    -nan ms per token,     -nan tokens per second)\n",
      "llama_print_timings:        eval time =    6908.91 ms /    38 runs   (  181.81 ms per token,     5.50 tokens per second)\n",
      "llama_print_timings:       total time =    6989.18 ms /    38 tokens\n",
      "Llama.generate: prefix-match hit\n"
     ]
    },
    {
     "name": "stdout",
     "output_type": "stream",
     "text": [
      "Score: 2.\n",
      "\n",
      "(Оценка низкая из-за отсутствия конкретного вопроса и неясной информации о территориальном расположении знакомого)\n"
     ]
    },
    {
     "name": "stderr",
     "output_type": "stream",
     "text": [
      "\n",
      "llama_print_timings:        load time =    4709.02 ms\n",
      "llama_print_timings:      sample time =      55.77 ms /    36 runs   (    1.55 ms per token,   645.55 tokens per second)\n",
      "llama_print_timings: prompt eval time =       0.00 ms /     0 tokens (    -nan ms per token,     -nan tokens per second)\n",
      "llama_print_timings:        eval time =    6517.76 ms /    36 runs   (  181.05 ms per token,     5.52 tokens per second)\n",
      "llama_print_timings:       total time =    6595.56 ms /    36 tokens\n",
      "Llama.generate: prefix-match hit\n"
     ]
    },
    {
     "name": "stdout",
     "output_type": "stream",
     "text": [
      "Score: 2.\n",
      "\n",
      "(В запросе не содержится информационного наполнения, оно скорее похоже на высказывание, а не вопрос.)\n"
     ]
    },
    {
     "name": "stderr",
     "output_type": "stream",
     "text": [
      "\n",
      "llama_print_timings:        load time =    4709.02 ms\n",
      "llama_print_timings:      sample time =      66.34 ms /    41 runs   (    1.62 ms per token,   618.02 tokens per second)\n",
      "llama_print_timings: prompt eval time =       0.00 ms /     0 tokens (    -nan ms per token,     -nan tokens per second)\n",
      "llama_print_timings:        eval time =    7424.82 ms /    41 runs   (  181.09 ms per token,     5.52 tokens per second)\n",
      "llama_print_timings:       total time =    7517.30 ms /    41 tokens\n",
      "Llama.generate: prefix-match hit\n"
     ]
    },
    {
     "name": "stdout",
     "output_type": "stream",
     "text": [
      "Score: 2.\n",
      "\n",
      "(Оценка низкая, потому что запрос не содержит конкретной информации о местонахождении знакомого, и поэтому невозможно дать точный ответ.)\n"
     ]
    },
    {
     "name": "stderr",
     "output_type": "stream",
     "text": [
      "\n",
      "llama_print_timings:        load time =    4709.02 ms\n",
      "llama_print_timings:      sample time =     118.00 ms /    80 runs   (    1.48 ms per token,   677.96 tokens per second)\n",
      "llama_print_timings: prompt eval time =       0.00 ms /     0 tokens (    -nan ms per token,     -nan tokens per second)\n",
      "llama_print_timings:        eval time =   14506.41 ms /    80 runs   (  181.33 ms per token,     5.51 tokens per second)\n",
      "llama_print_timings:       total time =   14678.02 ms /    80 tokens\n",
      "Llama.generate: prefix-match hit\n"
     ]
    },
    {
     "name": "stdout",
     "output_type": "stream",
     "text": [
      "Score: 2.\n",
      "\n",
      "(В запросе не указаны конкретные детали, которые бы помогли мне дать более точный ответ. Фраза \"мой знакомый\" - это общий термин, а указание \"дважды в неделю в парке\" - это обстоятельство, которое не связано с территориальной местностью\n"
     ]
    },
    {
     "name": "stderr",
     "output_type": "stream",
     "text": [
      "\n",
      "llama_print_timings:        load time =    4709.02 ms\n",
      "llama_print_timings:      sample time =      63.43 ms /    39 runs   (    1.63 ms per token,   614.90 tokens per second)\n",
      "llama_print_timings: prompt eval time =       0.00 ms /     0 tokens (    -nan ms per token,     -nan tokens per second)\n",
      "llama_print_timings:        eval time =    7063.38 ms /    39 runs   (  181.11 ms per token,     5.52 tokens per second)\n",
      "llama_print_timings:       total time =    7151.34 ms /    39 tokens\n",
      "Llama.generate: prefix-match hit\n"
     ]
    },
    {
     "name": "stdout",
     "output_type": "stream",
     "text": [
      "Score: 2.\n",
      "\n",
      "(В запросе не указано, что знакомый - это физическое лицо, а также отсутствует информация о месте нахождения парка.)\n"
     ]
    },
    {
     "name": "stderr",
     "output_type": "stream",
     "text": [
      "\n",
      "llama_print_timings:        load time =    4709.02 ms\n",
      "llama_print_timings:      sample time =      78.98 ms /    48 runs   (    1.65 ms per token,   607.78 tokens per second)\n",
      "llama_print_timings: prompt eval time =       0.00 ms /     0 tokens (    -nan ms per token,     -nan tokens per second)\n",
      "llama_print_timings:        eval time =    8700.82 ms /    48 runs   (  181.27 ms per token,     5.52 tokens per second)\n",
      "llama_print_timings:       total time =    8809.99 ms /    48 tokens\n"
     ]
    },
    {
     "name": "stdout",
     "output_type": "stream",
     "text": [
      "Score: 2.\n",
      "\n",
      "(Ответ будет нечетким и не ожидаемым, поскольку запрос не содержит информации о местоположении знакомого или о том, что является его территориальной местностью.)\n",
      "2.0\n"
     ]
    }
   ],
   "source": [
    "cache = []\n",
    "for i in range(10):\n",
    "    output = model.generate(assistant_context, user_prompt)\n",
    "    tmp = ''\n",
    "    for item in output:\n",
    "        try:\n",
    "            tmp += item['choices'][0]['delta']['content']\n",
    "        except Exception:\n",
    "            continue\n",
    "    print(tmp)\n",
    "    cache.append(tmp)\n",
    "    \n",
    "print(np.mean(list(map(lambda v: int(re.findall('\\d+', v)[0]), cache))))"
   ]
  },
  {
   "cell_type": "markdown",
   "metadata": {},
   "source": []
  },
  {
   "cell_type": "markdown",
   "metadata": {},
   "source": []
  }
 ],
 "metadata": {
  "kernelspec": {
   "display_name": ".nlp_env",
   "language": "python",
   "name": "python3"
  },
  "language_info": {
   "codemirror_mode": {
    "name": "ipython",
    "version": 3
   },
   "file_extension": ".py",
   "mimetype": "text/x-python",
   "name": "python",
   "nbconvert_exporter": "python",
   "pygments_lexer": "ipython3",
   "version": "3.10.12"
  }
 },
 "nbformat": 4,
 "nbformat_minor": 2
}
