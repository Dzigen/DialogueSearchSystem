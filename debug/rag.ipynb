{
 "cells": [
  {
   "cell_type": "code",
   "execution_count": 1,
   "metadata": {},
   "outputs": [],
   "source": [
    "import sys\n",
    "import os\n",
    "\n",
    "cur_dir = os.getcwd()\n",
    "base_dir = cur_dir.rsplit('/', 1)[0]\n",
    "sys.path.insert(0, base_dir)\n",
    "\n",
    "from langchain_core.documents.base import Document\n",
    "from src.dialogue_loop import DialogueSearch\n",
    "from src.utils import DialogueSearchConfig\n",
    "\n",
    "from src.DocumentsSummarizer.Summarizer import SummarizerModule\n",
    "from src.DocumentsSummarizer.utils import SummarizerConfig\n",
    "from src.logger import Logger\n",
    "\n",
    "from src.DocumentsRetriever.Retriever import RetrieverModule\n",
    "from src.DocumentsRetriever.utils import RetrieverConfig\n",
    "from src.utils import DialogueState\n",
    "\n",
    "logger = Logger(False)\n",
    "log = logger.get_logger(__name__)"
   ]
  },
  {
   "cell_type": "code",
   "execution_count": 2,
   "metadata": {},
   "outputs": [],
   "source": [
    "query=\"Какое определение термина 'алгоритм зашифрования'?\""
   ]
  },
  {
   "cell_type": "code",
   "execution_count": 3,
   "metadata": {},
   "outputs": [
    {
     "name": "stderr",
     "output_type": "stream",
     "text": [
      "/home/aisummer/.nlp_env/lib/python3.12/site-packages/sentence_transformers/cross_encoder/CrossEncoder.py:11: TqdmExperimentalWarning: Using `tqdm.autonotebook.tqdm` in notebook mode. Use `tqdm.tqdm` instead to force console mode (e.g. in jupyter console)\n",
      "  from tqdm.autonotebook import tqdm, trange\n",
      "No sentence-transformers model found with name ../models/intfloat/multilingual-e5-small. Creating a new one with mean pooling.\n"
     ]
    }
   ],
   "source": [
    "config = RetrieverConfig.load(config_path='../config.yaml')\n",
    "state = DialogueState(query=query)\n",
    "\n",
    "retriever = RetrieverModule(config, log)\n",
    "retriever.base_search(state)"
   ]
  },
  {
   "cell_type": "code",
   "execution_count": 4,
   "metadata": {},
   "outputs": [
    {
     "data": {
      "text/plain": [
       "[Document(metadata={'Header 2': 'ГОСТ Р 34.13 —', 'doc_id': 'doc4.pdf'}, page_content='2.1.1  \\n**алгоритм зашифрования** (encryption algorithm): Алгоритм, реализующий зашифрование, т.е.  \\nпреобразующий открытый текст в шифртекст.  \\n[ИСО/МЭК 18033-1, статья 2.19]  \\n2.1.2'),\n",
       " Document(metadata={'Header 1': 'ПНСТ 799—', 'Header 2': '2022', 'doc_id': 'doc5.pdf'}, page_content='1 См. [5], пункт 3.28.  \\n2 См. определение термина «аутентификация стороны» в приложении Б, статья  \\nБ.2.9.  \\n180 **криптографический протокол аутентификации сторон:** Криптогра'),\n",
       " Document(metadata={'Header 1': 'КРИПТОГРАФИЧЕСКАЯ ЗАЩИТА ИНФОРМАЦИИ', 'Header 2': 'Блочные шифры', 'doc_id': 'doc3.pdf'}, page_content='В настоящем стандарте применены следующие термины с соответствующими определениями.\\n2.1.1  \\n**алгоритм зашифрования** (encryption algorithm): Алгоритм, реализующий зашифрование, т.е.\\nпреобразующий открытый текст в шифртекст.')]"
      ]
     },
     "execution_count": 4,
     "metadata": {},
     "output_type": "execute_result"
    }
   ],
   "source": [
    "state.base_relevant_docs"
   ]
  },
  {
   "cell_type": "code",
   "execution_count": 6,
   "metadata": {},
   "outputs": [
    {
     "name": "stdout",
     "output_type": "stream",
     "text": [
      "\n",
      "\n"
     ]
    }
   ],
   "source": [
    "config = SummarizerConfig.load(config_path='../config.yaml')\n",
    "\n",
    "reader = SummarizerModule(config, log)\n",
    "reader.create_answer(state)"
   ]
  },
  {
   "cell_type": "code",
   "execution_count": 7,
   "metadata": {},
   "outputs": [
    {
     "data": {
      "text/plain": [
       "'Алгоритм, реализующий zaшифрование (encryption algorithm): Алгоритм, преобразующий открытый текст в шифртекст.'"
      ]
     },
     "execution_count": 7,
     "metadata": {},
     "output_type": "execute_result"
    }
   ],
   "source": [
    "state.answer"
   ]
  },
  {
   "cell_type": "markdown",
   "metadata": {},
   "source": [
    "#### Dialogue loop"
   ]
  },
  {
   "cell_type": "code",
   "execution_count": 8,
   "metadata": {},
   "outputs": [
    {
     "name": "stdout",
     "output_type": "stream",
     "text": [
      "2024-07-12 05:32:28,744 — src.dialogue_loop — INFO — Initiating DialogueSearch-class\n",
      "2024-07-12 05:32:28,746 — src.dialogue_loop — INFO — Initiating Selector-class\n",
      "2024-07-12 05:32:28,747 — src.dialogue_loop — INFO — Initiating Aggregator-class\n",
      "2024-07-12 05:32:28,747 — src.dialogue_loop — INFO — Initiating Reducer-class\n",
      "2024-07-12 05:32:28,748 — src.dialogue_loop — INFO — Initiating Retriever-class\n"
     ]
    },
    {
     "name": "stderr",
     "output_type": "stream",
     "text": [
      "No sentence-transformers model found with name ../models/intfloat/multilingual-e5-small. Creating a new one with mean pooling.\n"
     ]
    },
    {
     "name": "stdout",
     "output_type": "stream",
     "text": [
      "2024-07-12 05:32:29,454 — src.dialogue_loop — INFO — Initiating Summarizer-class\n",
      "2024-07-12 05:32:29,455 — src.dialogue_loop — INFO — Initiating Generator-class\n",
      "2024-07-12 05:32:29,455 — src.dialogue_loop — INFO — Initiating Controller-class\n",
      "2024-07-12 05:32:29,455 — src.dialogue_loop — INFO — Initiating UserHandler-class\n"
     ]
    }
   ],
   "source": [
    "dialogue_config = DialogueSearchConfig.load('../config.yaml')\n",
    "dialogue_system = DialogueSearch(dialogue_config)"
   ]
  },
  {
   "cell_type": "code",
   "execution_count": 9,
   "metadata": {},
   "outputs": [
    {
     "name": "stdout",
     "output_type": "stream",
     "text": [
      "2024-07-12 05:32:33,753 — src.dialogue_loop — INFO — START_METHOD: Start dialogue session\n",
      "2024-07-12 05:32:33,756 — src.dialogue_loop — INFO — START_METHOD: Формирование базового набора релевантных документов\n",
      "2024-07-12 05:32:33,802 — src.dialogue_loop — INFO — END_METHOD: Формирование базового набора релевантных документов\n",
      "\n",
      "\n",
      "2024-07-12 05:32:38,674 — src.dialogue_loop — INFO — DialogueState(query=\"Какое определение термина 'алгоритм зашифрования'?\", base_relevant_docs=[Document(metadata={'Header 2': 'ГОСТ Р 34.13 —', 'doc_id': 'doc4.pdf'}, page_content='2.1.1  \\n**алгоритм зашифрования** (encryption algorithm): Алгоритм, реализующий зашифрование, т.е.  \\nпреобразующий открытый текст в шифртекст.  \\n[ИСО/МЭК 18033-1, статья 2.19]  \\n2.1.2'), Document(metadata={'Header 1': 'ПНСТ 799—', 'Header 2': '2022', 'doc_id': 'doc5.pdf'}, page_content='1 См. [5], пункт 3.28.  \\n2 См. определение термина «аутентификация стороны» в приложении Б, статья  \\nБ.2.9.  \\n180 **криптографический протокол аутентификации сторон:** Криптогра'), Document(metadata={'Header 1': 'КРИПТОГРАФИЧЕСКАЯ ЗАЩИТА ИНФОРМАЦИИ', 'Header 2': 'Блочные шифры', 'doc_id': 'doc3.pdf'}, page_content='В настоящем стандарте применены следующие термины с соответствующими определениями.\\n2.1.1  \\n**алгоритм зашифрования** (encryption algorithm): Алгоритм, реализующий зашифрование, т.е.\\nпреобразующий открытый текст в шифртекст.')], history=[], answer='Алгоритм зашифровывания (encryption algorithm): алгорим, реализующий зашифровывание, т.е., преобразователь открытого текста в шифртекст.')\n",
      "2024-07-12 05:32:38,675 — src.dialogue_loop — INFO — END_METHOD: Start dialogue session\n"
     ]
    },
    {
     "data": {
      "text/plain": [
       "DialogueState(query=\"Какое определение термина 'алгоритм зашифрования'?\", base_relevant_docs=[Document(metadata={'Header 2': 'ГОСТ Р 34.13 —', 'doc_id': 'doc4.pdf'}, page_content='2.1.1  \\n**алгоритм зашифрования** (encryption algorithm): Алгоритм, реализующий зашифрование, т.е.  \\nпреобразующий открытый текст в шифртекст.  \\n[ИСО/МЭК 18033-1, статья 2.19]  \\n2.1.2'), Document(metadata={'Header 1': 'ПНСТ 799—', 'Header 2': '2022', 'doc_id': 'doc5.pdf'}, page_content='1 См. [5], пункт 3.28.  \\n2 См. определение термина «аутентификация стороны» в приложении Б, статья  \\nБ.2.9.  \\n180 **криптографический протокол аутентификации сторон:** Криптогра'), Document(metadata={'Header 1': 'КРИПТОГРАФИЧЕСКАЯ ЗАЩИТА ИНФОРМАЦИИ', 'Header 2': 'Блочные шифры', 'doc_id': 'doc3.pdf'}, page_content='В настоящем стандарте применены следующие термины с соответствующими определениями.\\n2.1.1  \\n**алгоритм зашифрования** (encryption algorithm): Алгоритм, реализующий зашифрование, т.е.\\nпреобразующий открытый текст в шифртекст.')], history=[], answer='Алгоритм зашифровывания (encryption algorithm): алгорим, реализующий зашифровывание, т.е., преобразователь открытого текста в шифртекст.')"
      ]
     },
     "execution_count": 9,
     "metadata": {},
     "output_type": "execute_result"
    }
   ],
   "source": [
    "dialogue_system.start(\"Какое определение термина 'алгоритм зашифрования'?\")"
   ]
  },
  {
   "cell_type": "code",
   "execution_count": null,
   "metadata": {},
   "outputs": [],
   "source": []
  }
 ],
 "metadata": {
  "kernelspec": {
   "display_name": ".nlp_env",
   "language": "python",
   "name": ".nlp_env"
  },
  "language_info": {
   "codemirror_mode": {
    "name": "ipython",
    "version": 3
   },
   "file_extension": ".py",
   "mimetype": "text/x-python",
   "name": "python",
   "nbconvert_exporter": "python",
   "pygments_lexer": "ipython3",
   "version": "3.12.3"
  },
  "orig_nbformat": 4
 },
 "nbformat": 4,
 "nbformat_minor": 2
}
