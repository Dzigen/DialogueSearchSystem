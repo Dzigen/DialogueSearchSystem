{
 "cells": [
  {
   "cell_type": "code",
   "execution_count": 1,
   "metadata": {},
   "outputs": [],
   "source": [
    "import sys\n",
    "import os\n",
    "\n",
    "cur_dir = os.getcwd()\n",
    "base_dir = cur_dir.rsplit('/', 1)[0]\n",
    "sys.path.insert(0, base_dir)\n",
    "\n",
    "from langchain_core.documents.base import Document\n",
    "from src.dialogue_loop import DialogueSearch\n",
    "from src.utils import DialogueSearchConfig\n",
    "\n",
    "from src.DocumentsSummarizer.Summarizer import SummarizerModule\n",
    "from src.DocumentsSummarizer.utils import SummarizerConfig\n",
    "from src.logger import Logger\n",
    "\n",
    "from src.DocumentsRetriever.Retriever import RetrieverModule\n",
    "from src.DocumentsRetriever.utils import RetrieverConfig\n",
    "from src.utils import DialogueState\n",
    "\n",
    "logger = Logger(False)\n",
    "log = logger.get_logger(__name__)"
   ]
  },
  {
   "cell_type": "code",
   "execution_count": 2,
   "metadata": {},
   "outputs": [],
   "source": [
    "query=\"Где находится город Петрозаводск?\""
   ]
  },
  {
   "cell_type": "code",
   "execution_count": null,
   "metadata": {},
   "outputs": [],
   "source": [
    "config = RetrieverConfig.load(config_path='../config.yaml')\n",
    "retriever = RetrieverModule(config, log)\n",
    "\n",
    "config = SummarizerConfig.load(config_path='../config.yaml')\n",
    "reader = SummarizerModule(config, log)"
   ]
  },
  {
   "cell_type": "code",
   "execution_count": 4,
   "metadata": {},
   "outputs": [],
   "source": [
    "state = DialogueState(query=query)\n",
    "retriever.base_search(state)"
   ]
  },
  {
   "cell_type": "code",
   "execution_count": 5,
   "metadata": {},
   "outputs": [
    {
     "data": {
      "text/plain": [
       "[]"
      ]
     },
     "execution_count": 5,
     "metadata": {},
     "output_type": "execute_result"
    }
   ],
   "source": [
    "state.base_relevant_docs"
   ]
  },
  {
   "cell_type": "code",
   "execution_count": 5,
   "metadata": {},
   "outputs": [
    {
     "data": {
      "text/plain": [
       "[{'choices': [{'delta': {'content': 'К сожалению, в моей базе документов по информационной безопасности отсутствует релевантная информация по вашему вопросу.  Попробуйте переформулировать/уточнить ваш вопрос или выполните ручной поиск по [базе документов](https://www.gost.ru/portal/gost/home/standarts/InformationSecurity).'},\n",
       "    'message': {'content': 'К сожалению, в моей базе документов по информационной безопасности отсутствует релевантная информация по вашему вопросу.  Попробуйте переформулировать/уточнить ваш вопрос или выполните ручной поиск по [базе документов](https://www.gost.ru/portal/gost/home/standarts/InformationSecurity).'}}]}]"
      ]
     },
     "execution_count": 5,
     "metadata": {},
     "output_type": "execute_result"
    }
   ],
   "source": [
    "reader.create_answer(state)"
   ]
  },
  {
   "cell_type": "code",
   "execution_count": 6,
   "metadata": {},
   "outputs": [],
   "source": [
    "state.answer"
   ]
  },
  {
   "cell_type": "markdown",
   "metadata": {},
   "source": [
    "#### Dialogue loop"
   ]
  },
  {
   "cell_type": "code",
   "execution_count": null,
   "metadata": {},
   "outputs": [],
   "source": [
    "dialogue_config = DialogueSearchConfig.load('../config.yaml')\n",
    "dialogue_system = DialogueSearch(dialogue_config)"
   ]
  },
  {
   "cell_type": "code",
   "execution_count": 8,
   "metadata": {},
   "outputs": [],
   "source": [
    "state = DialogueState(query=\"Какое определение термина 'алгоритм зашифрования'?\")"
   ]
  },
  {
   "cell_type": "code",
   "execution_count": 9,
   "metadata": {},
   "outputs": [
    {
     "name": "stdout",
     "output_type": "stream",
     "text": [
      "2024-07-18 12:46:11,974 — src.dialogue_loop — INFO — START_METHOD: Start dialogue session\n",
      "2024-07-18 12:46:11,976 — src.dialogue_loop — INFO — START_METHOD: Формирование базового набора релевантных документов\n",
      "2024-07-18 12:46:11,991 — src.dialogue_loop — INFO — END_METHOD: Формирование базового набора релевантных документов\n",
      "2024-07-18 12:46:11,991 — src.dialogue_loop — INFO — START_METHOD: Генерация ответа на основании концентрированного набора релевантных документов\n"
     ]
    },
    {
     "name": "stderr",
     "output_type": "stream",
     "text": [
      "Llama.generate: prefix-match hit\n",
      "\n",
      "llama_print_timings:        load time =    9892.08 ms\n",
      "llama_print_timings:      sample time =      38.16 ms /    75 runs   (    0.51 ms per token,  1965.20 tokens per second)\n",
      "llama_print_timings: prompt eval time =       0.00 ms /     0 tokens (    -nan ms per token,     -nan tokens per second)\n",
      "llama_print_timings:        eval time =    7738.16 ms /    75 runs   (  103.18 ms per token,     9.69 tokens per second)\n",
      "llama_print_timings:       total time =    7820.01 ms /    75 tokens\n"
     ]
    },
    {
     "name": "stdout",
     "output_type": "stream",
     "text": [
      "2024-07-18 12:46:19,815 — src.dialogue_loop — INFO — END_METHOD: Генерация ответа на основании концентрированного набора релевантных документов\n",
      "2024-07-18 12:46:19,815 — src.dialogue_loop — INFO — END_METHOD: Start dialogue session\n"
     ]
    },
    {
     "data": {
      "text/plain": [
       "{'id': 'chatcmpl-42c805f9-0330-4d08-81f4-fee3ca449739',\n",
       " 'object': 'chat.completion',\n",
       " 'created': 1721295971,\n",
       " 'model': '/home/aisummer/nlp_models/model_llm/blobs/sha256-6a0746a1ec1aef3e7ec53868f220ff6e389f6f8ef87a01d77c96807de94ca2aa',\n",
       " 'choices': [{'index': 0,\n",
       "   'message': {'role': 'assistant',\n",
       "    'content': 'В соответствии с международными стандартами ИСО/МЭК 18033-1 и ИСО/МЭК 10116, алгоритм зашифрования (encryption algorithm) - это алгоритм, реализующий зашифрование, т.е. преобразующий открытый текст в шифртекст.'},\n",
       "   'logprobs': None,\n",
       "   'finish_reason': 'stop'}],\n",
       " 'usage': {'prompt_tokens': 922, 'completion_tokens': 74, 'total_tokens': 996}}"
      ]
     },
     "execution_count": 9,
     "metadata": {},
     "output_type": "execute_result"
    }
   ],
   "source": [
    "dialogue_system.start(state)"
   ]
  }
 ],
 "metadata": {
  "kernelspec": {
   "display_name": "nlp_env",
   "language": "python",
   "name": "nlp_env"
  },
  "language_info": {
   "codemirror_mode": {
    "name": "ipython",
    "version": 3
   },
   "file_extension": ".py",
   "mimetype": "text/x-python",
   "name": "python",
   "nbconvert_exporter": "python",
   "pygments_lexer": "ipython3",
   "version": "3.12.3"
  },
  "orig_nbformat": 4
 },
 "nbformat": 4,
 "nbformat_minor": 2
}
