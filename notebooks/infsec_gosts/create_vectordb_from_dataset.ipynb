{
 "cells": [
  {
   "cell_type": "code",
   "execution_count": 10,
   "metadata": {},
   "outputs": [],
   "source": [
    "# Полезные материалы:\n",
    "# https://api.python.langchain.com/en/latest/embeddings/langchain_huggingface.embeddings.huggingface.HuggingFaceEmbeddings.html\n",
    "# https://medium.com/@milana.shxanukova15/embeddings-normalisation-b279e32ca958\n",
    "# https://api.python.langchain.com/en/latest/vectorstores/langchain_community.vectorstores.faiss.FAISS.html\n",
    "# https://medium.com/@pankaj_pandey/faiss-efficient-similarity-search-and-clustering-of-dense-vectors-dace1df1e235\n",
    "# https://sbert.net/docs/package_reference/sentence_transformer/SentenceTransformer.html#sentence_transformers.SentenceTransformer.encode\n",
    "# https://github.com/facebookresearch/faiss/wiki/MetricType-and-distances\n",
    "# https://github.com/langchain-ai/langchain/discussions/16224"
   ]
  },
  {
   "cell_type": "code",
   "execution_count": 9,
   "metadata": {},
   "outputs": [],
   "source": [
    "import pandas as pd\n",
    "from langchain_community.vectorstores import FAISS\n",
    "from langchain.embeddings import HuggingFaceEmbeddings\n",
    "from langchain_community.vectorstores.utils import DistanceStrategy\n",
    "import ast\n",
    "\n",
    "# Есть 2 варианта формирования базы данных:\n",
    "# 1. C использованием нормализации векторов. \n",
    "#    Тогда 'normalize_embeddings' = True и 'distance_strategy' = DistanceStrategy.MAX_INNER_PRODUCT\n",
    "# 2. Без нормализации векторов.\n",
    "#    Тогда 'normalize_embeddings' = False и 'distance_strategy' = DistanceStrategy.EUCLIDEAN_DISTANCE\n",
    "\n",
    "# !!! BELOW TO CHANGE !!! \n",
    "DATASET_PATH = ''\n",
    "SAVE_DIR = ''\n",
    "DB_SAVE_PATH = f'{SAVE_DIR}/'\n",
    "DB_LOG_PATH = f'{SAVE_DIR}/db_info.log'\n",
    "\n",
    "EMBEDDING_MODEL_PATH = '../../models/'\n",
    "MODEL_KWARGS = {'device': 'cpu'}\n",
    "ENCODE_KWARGS = {'normalize_embeddings': False, 'prompt': 'passage: '}\n",
    "FAISS_KWARGS = {'distance_strategy': DistanceStrategy.EUCLIDEAN_DISTANCE}\n",
    "# !!! ABOVE TO CHANGE !!! "
   ]
  },
  {
   "cell_type": "code",
   "execution_count": null,
   "metadata": {},
   "outputs": [],
   "source": [
    "# Loading Embedder-model\n",
    "\n",
    "embeddings = HuggingFaceEmbeddings(\n",
    "    model_name=EMBEDDING_MODEL_PATH,\n",
    "    model_kwargs=MODEL_KWARGS,\n",
    "    encode_kwargs=ENCODE_KWARGS \n",
    ")"
   ]
  },
  {
   "cell_type": "code",
   "execution_count": null,
   "metadata": {},
   "outputs": [],
   "source": [
    "# Loading dataset\n",
    "\n",
    "df = pd.read_csv(DATASET_PATH)\n",
    "df['metadata'] = df['metadata'].map(lambda v: ast.literal_eval(v)) "
   ]
  },
  {
   "cell_type": "code",
   "execution_count": null,
   "metadata": {},
   "outputs": [],
   "source": [
    "# Creating DataBase\n",
    "\n",
    "faiss = FAISS.from_texts(df['text'].to_list(), embeddings, df['metadata'].to_list(), **FAISS_KWARGS)"
   ]
  },
  {
   "cell_type": "code",
   "execution_count": null,
   "metadata": {},
   "outputs": [],
   "source": [
    "# Saving DataBase\n",
    "\n",
    "with open(DB_LOG_PATH, 'r') as fd:\n",
    "    fd.writelines([DB_SAVE_PATH, EMBEDDING_MODEL_PATH, str(ENCODE_KWARGS), str(FAISS_KWARGS)])\n",
    "faiss.save_local(DB_SAVE_PATH)"
   ]
  }
 ],
 "metadata": {
  "kernelspec": {
   "display_name": ".nlp_env",
   "language": "python",
   "name": "python3"
  },
  "language_info": {
   "codemirror_mode": {
    "name": "ipython",
    "version": 3
   },
   "file_extension": ".py",
   "mimetype": "text/x-python",
   "name": "python",
   "nbconvert_exporter": "python",
   "pygments_lexer": "ipython3",
   "version": "3.12.3"
  },
  "orig_nbformat": 4
 },
 "nbformat": 4,
 "nbformat_minor": 2
}
