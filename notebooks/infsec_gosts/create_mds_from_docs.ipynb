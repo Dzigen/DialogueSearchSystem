{
 "cells": [
  {
   "cell_type": "code",
   "execution_count": 1,
   "metadata": {},
   "outputs": [],
   "source": [
    "import sys\n",
    "sys.path.insert(0, \"/home/aisummer/mikhail_workspace/nlp-service\")\n",
    "\n",
    "from src.DocumentsParser.Formatter.BaselineFormatter import BaselineFormatter\n",
    "from src.DocumentsParser.Formatter.utils import FormatterConfig\n",
    "from src.logger import Logger\n",
    "\n",
    "logger = Logger(True)\n",
    "log = logger.get_logger(__name__)"
   ]
  },
  {
   "cell_type": "code",
   "execution_count": 2,
   "metadata": {},
   "outputs": [],
   "source": [
    "# !!! TO CHANGE !!!\n",
    "LOAD_DIR = '../../data/infsec_gosts/docs/v1'\n",
    "SAVE_DIR = '../../data/infsec_gosts/mds/v1'\n",
    "\n",
    "config = FormatterConfig(load_dir=LOAD_DIR, save_dir=SAVE_DIR)\n",
    "# !!! TO CHANGE !!!"
   ]
  },
  {
   "cell_type": "code",
   "execution_count": 3,
   "metadata": {},
   "outputs": [
    {
     "name": "stdout",
     "output_type": "stream",
     "text": [
      "2024-07-08 00:24:53,987 — __main__ — INFO — Initiating BaselineFormatter-class\n"
     ]
    }
   ],
   "source": [
    "formatter = BaselineFormatter(config, log)"
   ]
  },
  {
   "cell_type": "code",
   "execution_count": 4,
   "metadata": {},
   "outputs": [
    {
     "name": "stdout",
     "output_type": "stream",
     "text": [
      "2024-07-08 00:24:56,011 — __main__ — INFO — START_METHOD: Выполнение форматирования набора документов\n",
      "2024-07-08 00:24:56,012 — __main__ — INFO — START_METHOD: Создание директории для сохранения \n",
      "                       отформатированных документов\n",
      "2024-07-08 00:24:56,014 — __main__ — INFO — END_METHOD: Создание директории для сохранения \n",
      "                       отформатированных документов\n"
     ]
    },
    {
     "name": "stderr",
     "output_type": "stream",
     "text": [
      "100%|██████████| 89/89 [01:44<00:00,  1.17s/it]"
     ]
    },
    {
     "name": "stdout",
     "output_type": "stream",
     "text": [
      "2024-07-08 00:26:40,117 — __main__ — INFO — START_METHOD: Сохранение конфигурации гиперпараметров,\n",
      "                       используемой для форматирования документов\n",
      "2024-07-08 00:26:40,117 — __main__ — INFO — END_METHOD: Сохранение конфигурации гиперпараметров,\n",
      "                       используемой для форматирования документов\n",
      "2024-07-08 00:26:40,117 — __main__ — INFO — END_METHOD: Выполнение форматирования набора документов\n"
     ]
    },
    {
     "name": "stderr",
     "output_type": "stream",
     "text": [
      "\n"
     ]
    }
   ],
   "source": [
    "formatter.formate()"
   ]
  },
  {
   "cell_type": "code",
   "execution_count": null,
   "metadata": {},
   "outputs": [],
   "source": []
  }
 ],
 "metadata": {
  "kernelspec": {
   "display_name": ".nlp_env",
   "language": "python",
   "name": "python3"
  },
  "language_info": {
   "codemirror_mode": {
    "name": "ipython",
    "version": 3
   },
   "file_extension": ".py",
   "mimetype": "text/x-python",
   "name": "python",
   "nbconvert_exporter": "python",
   "pygments_lexer": "ipython3",
   "version": "3.12.3"
  },
  "orig_nbformat": 4
 },
 "nbformat": 4,
 "nbformat_minor": 2
}
