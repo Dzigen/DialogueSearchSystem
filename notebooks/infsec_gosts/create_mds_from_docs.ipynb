{
 "cells": [
  {
   "cell_type": "code",
   "execution_count": null,
   "metadata": {},
   "outputs": [],
   "source": [
    "import pymupdf4llm"
   ]
  },
  {
   "cell_type": "code",
   "execution_count": null,
   "metadata": {},
   "outputs": [],
   "source": [
    "md_text = pymupdf4llm.to_markdown(\"../data/ai_gosts/docs/2112.04426v3.pdf\")\n",
    "\n",
    "# write markdown string to some file\n",
    "output = open(\"out-markdown2.md\", \"w\")\n",
    "output.write(md_text)\n",
    "output.close()"
   ]
  }
 ],
 "metadata": {
  "language_info": {
   "name": "python"
  },
  "orig_nbformat": 4
 },
 "nbformat": 4,
 "nbformat_minor": 2
}
