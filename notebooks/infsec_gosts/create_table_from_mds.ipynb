{
 "cells": [
  {
   "cell_type": "code",
   "execution_count": 1,
   "metadata": {},
   "outputs": [],
   "source": [
    "import sys\n",
    "sys.path.insert(0, \"/home/aisummer/mikhail_workspace/nlp-service\")\n",
    "import pandas as pd\n",
    "\n",
    "from src.DocumentsParser.Splitter.BaselineSplitter import BaselineSplitter\n",
    "from src.DocumentsParser.Splitter.utils import SplitterConfig, BaselineConfig, HEADERS_TO_SPLIT_ON\n",
    "from src.logger import Logger\n",
    "\n",
    "logger = Logger(True)\n",
    "log = logger.get_logger(__name__)"
   ]
  },
  {
   "cell_type": "code",
   "execution_count": 2,
   "metadata": {},
   "outputs": [],
   "source": [
    "# !!! TO CHANGE !!!\n",
    "LOAD_DIR = '../../data/infsec_gosts/mds/v1'\n",
    "SAVE_DIR = '../../data/infsec_gosts/table/v1'\n",
    "\n",
    "modification = BaselineConfig(\n",
    "    sequence=['markdown', 'recursive'], \n",
    "    params=[{'headers_to_split_on': HEADERS_TO_SPLIT_ON, 'strip_headers':False}, {\"chunk_size\": 250, \"chunk_overlap\": 30}])\n",
    "\n",
    "config = SplitterConfig(load_dir=LOAD_DIR, save_dir=SAVE_DIR, modification=modification)\n",
    "# !!! TO CHANGE !!!"
   ]
  },
  {
   "cell_type": "code",
   "execution_count": 3,
   "metadata": {},
   "outputs": [
    {
     "name": "stdout",
     "output_type": "stream",
     "text": [
      "2024-07-08 01:56:18,735 — __main__ — INFO — Initiating BaselineSplitter-class\n"
     ]
    }
   ],
   "source": [
    "splitter = BaselineSplitter(config, log)"
   ]
  },
  {
   "cell_type": "code",
   "execution_count": 4,
   "metadata": {},
   "outputs": [
    {
     "name": "stdout",
     "output_type": "stream",
     "text": [
      "2024-07-08 01:56:19,382 — __main__ — INFO — START_METHOD: Выполнение разбиения набора документов на чанки\n",
      "2024-07-08 01:56:19,383 — __main__ — INFO — START_METHOD: Создание директории для сохранения \n",
      "                       разбитых на чанки документов\n",
      "2024-07-08 01:56:19,383 — __main__ — INFO — END_METHOD: Создание директории для сохранения \n",
      "                       разбитых на чанки документов\n",
      "2024-07-08 01:56:19,384 — __main__ — INFO — START_METHOD: Получение идентификаторов документов\n",
      "2024-07-08 01:56:19,385 — __main__ — INFO — END_METHOD: Получение идентификаторов документов\n"
     ]
    },
    {
     "name": "stderr",
     "output_type": "stream",
     "text": [
      "89it [00:00, 193.40it/s]\n"
     ]
    },
    {
     "name": "stdout",
     "output_type": "stream",
     "text": [
      "2024-07-08 01:56:19,964 — __main__ — INFO — START_METHOD: Сохранение конфигурации гиперпараметров,\n",
      "                       используемой для разбиения документов на чанки\n",
      "2024-07-08 01:56:19,964 — __main__ — INFO — END_METHOD: Сохранение конфигурации гиперпараметров,\n",
      "                       используемой для разбиения документов на чанки\n",
      "2024-07-08 01:56:19,966 — __main__ — INFO — END_METHOD: Выполнение разбиения набора документов на чанки\n"
     ]
    }
   ],
   "source": [
    "df = splitter.split()"
   ]
  },
  {
   "cell_type": "code",
   "execution_count": 5,
   "metadata": {},
   "outputs": [
    {
     "data": {
      "text/html": [
       "<div>\n",
       "<style scoped>\n",
       "    .dataframe tbody tr th:only-of-type {\n",
       "        vertical-align: middle;\n",
       "    }\n",
       "\n",
       "    .dataframe tbody tr th {\n",
       "        vertical-align: top;\n",
       "    }\n",
       "\n",
       "    .dataframe thead th {\n",
       "        text-align: right;\n",
       "    }\n",
       "</style>\n",
       "<table border=\"1\" class=\"dataframe\">\n",
       "  <thead>\n",
       "    <tr style=\"text-align: right;\">\n",
       "      <th></th>\n",
       "      <th>chunks</th>\n",
       "      <th>metadata</th>\n",
       "    </tr>\n",
       "  </thead>\n",
       "  <tbody>\n",
       "    <tr>\n",
       "      <th>0</th>\n",
       "      <td>**ФЕДЕРАЛЬНОЕ АГЕНТСТВО**  \\n**ПО ТЕХНИЧЕСКОМУ...</td>\n",
       "      <td>{'doc_id': 'doc0.pdf'}</td>\n",
       "    </tr>\n",
       "    <tr>\n",
       "      <th>1</th>\n",
       "      <td>## Информационные технологии</td>\n",
       "      <td>{'Header 2': 'Информационные технологии', 'doc...</td>\n",
       "    </tr>\n",
       "    <tr>\n",
       "      <th>2</th>\n",
       "      <td># ГОСТ Р 59162—  \\n## 2020</td>\n",
       "      <td>{'Header 1': 'ГОСТ Р 59162—', 'Header 2': '202...</td>\n",
       "    </tr>\n",
       "    <tr>\n",
       "      <th>3</th>\n",
       "      <td># МЕТОДЫ И СРЕДСТВА ОБЕСПЕЧЕНИЯ  \\nБЕЗОПАСНОСТИ</td>\n",
       "      <td>{'Header 1': 'МЕТОДЫ И СРЕДСТВА ОБЕСПЕЧЕНИЯ', ...</td>\n",
       "    </tr>\n",
       "    <tr>\n",
       "      <th>4</th>\n",
       "      <td>## Безопасность сетей  \\n#### Ч а с т ь 6  \\n#...</td>\n",
       "      <td>{'Header 1': 'МЕТОДЫ И СРЕДСТВА ОБЕСПЕЧЕНИЯ', ...</td>\n",
       "    </tr>\n",
       "    <tr>\n",
       "      <th>...</th>\n",
       "      <td>...</td>\n",
       "      <td>...</td>\n",
       "    </tr>\n",
       "    <tr>\n",
       "      <th>28197</th>\n",
       "      <td>```  \\n-----  \\n**Р 50.1.114—2016**  \\n**Библи...</td>\n",
       "      <td>{'Header 1': 'КРИПТОГРАФИЧЕСКАЯ ЗАЩИТА ИНФОРМА...</td>\n",
       "    </tr>\n",
       "    <tr>\n",
       "      <th>28198</th>\n",
       "      <td>(Popov V., Kurepkin I. and S. Leontiev, Additi...</td>\n",
       "      <td>{'Header 1': 'КРИПТОГРАФИЧЕСКАЯ ЗАЩИТА ИНФОРМА...</td>\n",
       "    </tr>\n",
       "    <tr>\n",
       "      <th>28199</th>\n",
       "      <td>RFC 4357, January 2006)  \\nУДК 681.3.06:006.35...</td>\n",
       "      <td>{'Header 1': 'КРИПТОГРАФИЧЕСКАЯ ЗАЩИТА ИНФОРМА...</td>\n",
       "    </tr>\n",
       "    <tr>\n",
       "      <th>28200</th>\n",
       "      <td>Корректор _И.А. Королева_\\nКомпьютерная верстк...</td>\n",
       "      <td>{'Header 1': 'КРИПТОГРАФИЧЕСКАЯ ЗАЩИТА ИНФОРМА...</td>\n",
       "    </tr>\n",
       "    <tr>\n",
       "      <th>28201</th>\n",
       "      <td>Подготовлено на основе электронной версии, пре...</td>\n",
       "      <td>{'Header 1': 'КРИПТОГРАФИЧЕСКАЯ ЗАЩИТА ИНФОРМА...</td>\n",
       "    </tr>\n",
       "  </tbody>\n",
       "</table>\n",
       "<p>28202 rows × 2 columns</p>\n",
       "</div>"
      ],
      "text/plain": [
       "                                                  chunks  \\\n",
       "0      **ФЕДЕРАЛЬНОЕ АГЕНТСТВО**  \\n**ПО ТЕХНИЧЕСКОМУ...   \n",
       "1                           ## Информационные технологии   \n",
       "2                             # ГОСТ Р 59162—  \\n## 2020   \n",
       "3        # МЕТОДЫ И СРЕДСТВА ОБЕСПЕЧЕНИЯ  \\nБЕЗОПАСНОСТИ   \n",
       "4      ## Безопасность сетей  \\n#### Ч а с т ь 6  \\n#...   \n",
       "...                                                  ...   \n",
       "28197  ```  \\n-----  \\n**Р 50.1.114—2016**  \\n**Библи...   \n",
       "28198  (Popov V., Kurepkin I. and S. Leontiev, Additi...   \n",
       "28199  RFC 4357, January 2006)  \\nУДК 681.3.06:006.35...   \n",
       "28200  Корректор _И.А. Королева_\\nКомпьютерная верстк...   \n",
       "28201  Подготовлено на основе электронной версии, пре...   \n",
       "\n",
       "                                                metadata  \n",
       "0                                 {'doc_id': 'doc0.pdf'}  \n",
       "1      {'Header 2': 'Информационные технологии', 'doc...  \n",
       "2      {'Header 1': 'ГОСТ Р 59162—', 'Header 2': '202...  \n",
       "3      {'Header 1': 'МЕТОДЫ И СРЕДСТВА ОБЕСПЕЧЕНИЯ', ...  \n",
       "4      {'Header 1': 'МЕТОДЫ И СРЕДСТВА ОБЕСПЕЧЕНИЯ', ...  \n",
       "...                                                  ...  \n",
       "28197  {'Header 1': 'КРИПТОГРАФИЧЕСКАЯ ЗАЩИТА ИНФОРМА...  \n",
       "28198  {'Header 1': 'КРИПТОГРАФИЧЕСКАЯ ЗАЩИТА ИНФОРМА...  \n",
       "28199  {'Header 1': 'КРИПТОГРАФИЧЕСКАЯ ЗАЩИТА ИНФОРМА...  \n",
       "28200  {'Header 1': 'КРИПТОГРАФИЧЕСКАЯ ЗАЩИТА ИНФОРМА...  \n",
       "28201  {'Header 1': 'КРИПТОГРАФИЧЕСКАЯ ЗАЩИТА ИНФОРМА...  \n",
       "\n",
       "[28202 rows x 2 columns]"
      ]
     },
     "execution_count": 5,
     "metadata": {},
     "output_type": "execute_result"
    }
   ],
   "source": [
    "df"
   ]
  },
  {
   "cell_type": "code",
   "execution_count": null,
   "metadata": {},
   "outputs": [],
   "source": []
  }
 ],
 "metadata": {
  "kernelspec": {
   "display_name": "base",
   "language": "python",
   "name": "python3"
  },
  "language_info": {
   "codemirror_mode": {
    "name": "ipython",
    "version": 3
   },
   "file_extension": ".py",
   "mimetype": "text/x-python",
   "name": "python",
   "nbconvert_exporter": "python",
   "pygments_lexer": "ipython3",
   "version": "3.12.3"
  },
  "orig_nbformat": 4
 },
 "nbformat": 4,
 "nbformat_minor": 2
}
