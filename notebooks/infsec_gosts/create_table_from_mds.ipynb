{
 "cells": [
  {
   "cell_type": "code",
   "execution_count": 5,
   "metadata": {},
   "outputs": [],
   "source": [
    "import sys\n",
    "sys.path.insert(0, \"/home/aisummer/mikhail_workspace/nlp-service\")\n",
    "\n",
    "from src.DocumentsParser.Splitter.BaselineSplitter import BaselineSplitter\n",
    "from src.DocumentsParser.Splitter.utils import SplitterConfig, BaselineConfig, HEADERS_TO_SPLIT_ON\n",
    "from src.logger import Logger\n",
    "\n",
    "logger = Logger(True)\n",
    "log = logger.get_logger(__name__)"
   ]
  },
  {
   "cell_type": "code",
   "execution_count": 6,
   "metadata": {},
   "outputs": [],
   "source": [
    "# !!! TO CHANGE !!!\n",
    "LOAD_DIR = '../../data/infsec_gosts/mds/v1'\n",
    "SAVE_DIR = '../../data/infsec_gosts/table/v2'\n",
    "\n",
    "modification = BaselineConfig(\n",
    "    sequence=['markdown', 'recursive'], \n",
    "    params=[{'headers_to_split_on': HEADERS_TO_SPLIT_ON, 'strip_headers':False}, {\"chunk_size\": 250, \"chunk_overlap\": 30}])\n",
    "\n",
    "config = SplitterConfig(load_dir=LOAD_DIR, save_dir=SAVE_DIR, modification=modification)\n",
    "# !!! TO CHANGE !!!"
   ]
  },
  {
   "cell_type": "code",
   "execution_count": null,
   "metadata": {},
   "outputs": [],
   "source": [
    "splitter = BaselineSplitter(config, log)"
   ]
  },
  {
   "cell_type": "code",
   "execution_count": null,
   "metadata": {},
   "outputs": [],
   "source": [
    "splitter.split()"
   ]
  },
  {
   "cell_type": "code",
   "execution_count": null,
   "metadata": {},
   "outputs": [],
   "source": []
  }
 ],
 "metadata": {
  "kernelspec": {
   "display_name": "base",
   "language": "python",
   "name": "python3"
  },
  "language_info": {
   "codemirror_mode": {
    "name": "ipython",
    "version": 3
   },
   "file_extension": ".py",
   "mimetype": "text/x-python",
   "name": "python",
   "nbconvert_exporter": "python",
   "pygments_lexer": "ipython3",
   "version": "3.12.3"
  },
  "orig_nbformat": 4
 },
 "nbformat": 4,
 "nbformat_minor": 2
}
