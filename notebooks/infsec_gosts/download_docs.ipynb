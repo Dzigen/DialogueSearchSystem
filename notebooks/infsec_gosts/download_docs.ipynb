{
 "cells": [
  {
   "cell_type": "code",
   "execution_count": 5,
   "metadata": {},
   "outputs": [],
   "source": [
    "import requests\n",
    "from bs4 import BeautifulSoup\n",
    "from tqdm import tqdm\n",
    "import requests\n",
    "import pandas as pd\n",
    "\n",
    "import sys\n",
    "sys.path.insert(0, \"/home/aisummer/mikhail_workspace/nlp-service\")\n",
    "\n",
    "from src.DocumentsParser.utils import DOCS_DIR_INFO_FILE\n",
    "\n",
    "MAIN_PAGE_URL = \"https://www.gost.ru/portal/gost/home/standarts/InformationSecurity\"\n",
    "SAVE_DIR = '../../data/infsec_gosts/docs'"
   ]
  },
  {
   "cell_type": "code",
   "execution_count": 33,
   "metadata": {},
   "outputs": [],
   "source": [
    "def download_doc(url, save_path, save_name):\n",
    "    response = requests.get(url, stream=True)\n",
    "    with open(f\"{save_path}/{save_name}\", \"wb\") as handle:\n",
    "        for data in response.iter_content():\n",
    "            handle.write(data)\n",
    "\n",
    "# извлекаем названия документов\n",
    "# и ссылки на скачивание\n",
    "def get_docs_info(html_page):\n",
    "    info = []\n",
    "\n",
    "    soup = BeautifulSoup(html_page)\n",
    "    table = soup.select_one(\".wcm-editor__content > table:nth-child(2)\")\n",
    "    for row in table.find_all(\"tr\")[1:]:\n",
    "        row_items = row.find_all(\"td\")\n",
    "        doc_title = row_items[1].text.strip()\n",
    "        doc_link = row_items[-1].find_all(\"a\", href=True)[0]['href']\n",
    "        info.append([doc_title, doc_link])\n",
    "    \n",
    "    return info\n",
    "\n",
    "def get_html_page(url):\n",
    "    return requests.get(url).content.decode('utf-8')"
   ]
  },
  {
   "cell_type": "code",
   "execution_count": 34,
   "metadata": {},
   "outputs": [
    {
     "name": "stderr",
     "output_type": "stream",
     "text": [
      "100%|██████████| 89/89 [02:59<00:00,  2.02s/it]\n"
     ]
    }
   ],
   "source": [
    "html_page = get_html_page(MAIN_PAGE_URL)\n",
    "info = get_docs_info(html_page)\n",
    "\n",
    "for i in tqdm(range(len(info))):\n",
    "    file_name = f\"doc{i}.pdf\"\n",
    "    download_doc(info[i][1], SAVE_DIR, file_name)\n",
    "    info[i].append(file_name)"
   ]
  },
  {
   "cell_type": "code",
   "execution_count": 35,
   "metadata": {},
   "outputs": [],
   "source": [
    "df = pd.DataFrame(info, columns=[\"title\", 'url', \"filename\"])\n",
    "df.to_csv(f\"{SAVE_DIR}/{DOCS_DIR_INFO_FILE}\", sep=';', index=False)"
   ]
  }
 ],
 "metadata": {
  "kernelspec": {
   "display_name": ".nlp_env",
   "language": "python",
   "name": "python3"
  },
  "language_info": {
   "codemirror_mode": {
    "name": "ipython",
    "version": 3
   },
   "file_extension": ".py",
   "mimetype": "text/x-python",
   "name": "python",
   "nbconvert_exporter": "python",
   "pygments_lexer": "ipython3",
   "version": "3.12.3"
  },
  "orig_nbformat": 4
 },
 "nbformat": 4,
 "nbformat_minor": 2
}
