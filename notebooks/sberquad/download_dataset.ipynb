{
 "cells": [
  {
   "cell_type": "code",
   "execution_count": 3,
   "metadata": {},
   "outputs": [],
   "source": [
    "import pandas as pd\n",
    "from datasets import load_dataset"
   ]
  },
  {
   "cell_type": "code",
   "execution_count": 2,
   "metadata": {},
   "outputs": [],
   "source": [
    "SAVE_PATH = '../../data/sberquad/base_dataset.csv'"
   ]
  },
  {
   "cell_type": "code",
   "execution_count": 4,
   "metadata": {},
   "outputs": [
    {
     "data": {
      "application/vnd.jupyter.widget-view+json": {
       "model_id": "540aef1906e14f4d95592778120ef030",
       "version_major": 2,
       "version_minor": 0
      },
      "text/plain": [
       "Downloading builder script:   0%|          | 0.00/4.22k [00:00<?, ?B/s]"
      ]
     },
     "metadata": {},
     "output_type": "display_data"
    },
    {
     "data": {
      "application/vnd.jupyter.widget-view+json": {
       "model_id": "a1702299080940a1b99f4aaef94e5573",
       "version_major": 2,
       "version_minor": 0
      },
      "text/plain": [
       "Downloading readme:   0%|          | 0.00/4.96k [00:00<?, ?B/s]"
      ]
     },
     "metadata": {},
     "output_type": "display_data"
    },
    {
     "data": {
      "application/vnd.jupyter.widget-view+json": {
       "model_id": "bc5a8ec065c142c7832bfe06e31a7c87",
       "version_major": 2,
       "version_minor": 0
      },
      "text/plain": [
       "Downloading data:   0%|          | 0.00/5.84M [00:00<?, ?B/s]"
      ]
     },
     "metadata": {},
     "output_type": "display_data"
    },
    {
     "data": {
      "application/vnd.jupyter.widget-view+json": {
       "model_id": "e1289396dd074477b5bceda83388cc92",
       "version_major": 2,
       "version_minor": 0
      },
      "text/plain": [
       "Downloading data:   0%|          | 0.00/1.93M [00:00<?, ?B/s]"
      ]
     },
     "metadata": {},
     "output_type": "display_data"
    },
    {
     "data": {
      "application/vnd.jupyter.widget-view+json": {
       "model_id": "9fda878c47b54b1994fb02ab281f550b",
       "version_major": 2,
       "version_minor": 0
      },
      "text/plain": [
       "Downloading data:   0%|          | 0.00/2.73M [00:00<?, ?B/s]"
      ]
     },
     "metadata": {},
     "output_type": "display_data"
    },
    {
     "data": {
      "application/vnd.jupyter.widget-view+json": {
       "model_id": "83223ddf76164cbf967bc8293472ad50",
       "version_major": 2,
       "version_minor": 0
      },
      "text/plain": [
       "Generating train split:   0%|          | 0/45328 [00:00<?, ? examples/s]"
      ]
     },
     "metadata": {},
     "output_type": "display_data"
    },
    {
     "data": {
      "application/vnd.jupyter.widget-view+json": {
       "model_id": "dd543ad5108f49d981090e3b9fb475c1",
       "version_major": 2,
       "version_minor": 0
      },
      "text/plain": [
       "Generating validation split:   0%|          | 0/5036 [00:00<?, ? examples/s]"
      ]
     },
     "metadata": {},
     "output_type": "display_data"
    },
    {
     "data": {
      "application/vnd.jupyter.widget-view+json": {
       "model_id": "14c561d4a4cb4041a77b6fe3e6d6e195",
       "version_major": 2,
       "version_minor": 0
      },
      "text/plain": [
       "Generating test split:   0%|          | 0/23936 [00:00<?, ? examples/s]"
      ]
     },
     "metadata": {},
     "output_type": "display_data"
    }
   ],
   "source": [
    "dataset = load_dataset(\"kuznetsoffandrey/sberquad\")"
   ]
  },
  {
   "cell_type": "code",
   "execution_count": 12,
   "metadata": {},
   "outputs": [],
   "source": [
    "tmp_data = {'title': [], 'context': [], 'question': [], 'answers': []}\n",
    "\n",
    "for stage in ['train', 'test', 'validation']:\n",
    "    for col in tmp_data.keys():\n",
    "        tmp_data[col] += dataset[stage][col]\n",
    "\n",
    "general_df = pd.DataFrame(tmp_data)"
   ]
  },
  {
   "cell_type": "code",
   "execution_count": 14,
   "metadata": {},
   "outputs": [
    {
     "data": {
      "text/html": [
       "<div>\n",
       "<style scoped>\n",
       "    .dataframe tbody tr th:only-of-type {\n",
       "        vertical-align: middle;\n",
       "    }\n",
       "\n",
       "    .dataframe tbody tr th {\n",
       "        vertical-align: top;\n",
       "    }\n",
       "\n",
       "    .dataframe thead th {\n",
       "        text-align: right;\n",
       "    }\n",
       "</style>\n",
       "<table border=\"1\" class=\"dataframe\">\n",
       "  <thead>\n",
       "    <tr style=\"text-align: right;\">\n",
       "      <th></th>\n",
       "      <th>title</th>\n",
       "      <th>context</th>\n",
       "      <th>question</th>\n",
       "      <th>answers</th>\n",
       "    </tr>\n",
       "  </thead>\n",
       "  <tbody>\n",
       "    <tr>\n",
       "      <th>0</th>\n",
       "      <td>SberChallenge</td>\n",
       "      <td>В протерозойских отложениях органические остат...</td>\n",
       "      <td>чем представлены органические остатки?</td>\n",
       "      <td>{'text': ['известковыми выделениями сине-зелён...</td>\n",
       "    </tr>\n",
       "    <tr>\n",
       "      <th>1</th>\n",
       "      <td>SberChallenge</td>\n",
       "      <td>В протерозойских отложениях органические остат...</td>\n",
       "      <td>что найдено в кремнистых сланцах железорудной ...</td>\n",
       "      <td>{'text': ['нитевидные водоросли, грибные нити'...</td>\n",
       "    </tr>\n",
       "    <tr>\n",
       "      <th>2</th>\n",
       "      <td>SberChallenge</td>\n",
       "      <td>В протерозойских отложениях органические остат...</td>\n",
       "      <td>что встречается в протерозойских отложениях?</td>\n",
       "      <td>{'text': ['органические остатки'], 'answer_sta...</td>\n",
       "    </tr>\n",
       "    <tr>\n",
       "      <th>3</th>\n",
       "      <td>SberChallenge</td>\n",
       "      <td>В протерозойских отложениях органические остат...</td>\n",
       "      <td>что относится к числу древнейших растительных ...</td>\n",
       "      <td>{'text': ['скопления графито-углистого веществ...</td>\n",
       "    </tr>\n",
       "    <tr>\n",
       "      <th>4</th>\n",
       "      <td>SberChallenge</td>\n",
       "      <td>В протерозойских отложениях органические остат...</td>\n",
       "      <td>как образовалось графито-углистое вещество?</td>\n",
       "      <td>{'text': ['в результате разложения Corycium en...</td>\n",
       "    </tr>\n",
       "  </tbody>\n",
       "</table>\n",
       "</div>"
      ],
      "text/plain": [
       "           title                                            context  \\\n",
       "0  SberChallenge  В протерозойских отложениях органические остат...   \n",
       "1  SberChallenge  В протерозойских отложениях органические остат...   \n",
       "2  SberChallenge  В протерозойских отложениях органические остат...   \n",
       "3  SberChallenge  В протерозойских отложениях органические остат...   \n",
       "4  SberChallenge  В протерозойских отложениях органические остат...   \n",
       "\n",
       "                                            question  \\\n",
       "0             чем представлены органические остатки?   \n",
       "1  что найдено в кремнистых сланцах железорудной ...   \n",
       "2       что встречается в протерозойских отложениях?   \n",
       "3  что относится к числу древнейших растительных ...   \n",
       "4        как образовалось графито-углистое вещество?   \n",
       "\n",
       "                                             answers  \n",
       "0  {'text': ['известковыми выделениями сине-зелён...  \n",
       "1  {'text': ['нитевидные водоросли, грибные нити'...  \n",
       "2  {'text': ['органические остатки'], 'answer_sta...  \n",
       "3  {'text': ['скопления графито-углистого веществ...  \n",
       "4  {'text': ['в результате разложения Corycium en...  "
      ]
     },
     "execution_count": 14,
     "metadata": {},
     "output_type": "execute_result"
    }
   ],
   "source": [
    "general_df.head()"
   ]
  },
  {
   "cell_type": "code",
   "execution_count": 15,
   "metadata": {},
   "outputs": [],
   "source": [
    "general_df.to_csv(SAVE_PATH, sep=';', index=False)"
   ]
  },
  {
   "cell_type": "code",
   "execution_count": null,
   "metadata": {},
   "outputs": [],
   "source": []
  }
 ],
 "metadata": {
  "kernelspec": {
   "display_name": ".nlp_env",
   "language": "python",
   "name": "python3"
  },
  "language_info": {
   "codemirror_mode": {
    "name": "ipython",
    "version": 3
   },
   "file_extension": ".py",
   "mimetype": "text/x-python",
   "name": "python",
   "nbconvert_exporter": "python",
   "pygments_lexer": "ipython3",
   "version": "3.12.3"
  },
  "orig_nbformat": 4
 },
 "nbformat": 4,
 "nbformat_minor": 2
}
