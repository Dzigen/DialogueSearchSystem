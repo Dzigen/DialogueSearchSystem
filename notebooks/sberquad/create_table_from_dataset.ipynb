{
 "cells": [
  {
   "cell_type": "code",
   "execution_count": 1,
   "metadata": {},
   "outputs": [],
   "source": [
    "import sys\n",
    "sys.path.insert(0, \"/home/aisummer/mikhail_workspace/nlp-service\")\n",
    "\n",
    "from src.utils import create_id, get_hash\n",
    "from src.DocumentsParser.utils import TABLES_DIR_TABLE_NAME\n",
    "\n",
    "from tqdm import tqdm\n",
    "import pandas as pd\n",
    "import ast\n",
    "from collections import Counter\n",
    "import json\n",
    "\n",
    "LOAD_PATH = '../../data/sberquad/base_dataset.csv'\n",
    "SAVE_TABLE_PATH = f'../../data/sberquad/tables/v1/{TABLES_DIR_TABLE_NAME}'\n",
    "SAVE_BENCHMARK_PATH = '../../data/sberquad/tables/v1/benchmark.csv'"
   ]
  },
  {
   "cell_type": "code",
   "execution_count": 2,
   "metadata": {},
   "outputs": [],
   "source": [
    "df = pd.read_csv(LOAD_PATH, sep=';')"
   ]
  },
  {
   "cell_type": "code",
   "execution_count": 3,
   "metadata": {},
   "outputs": [],
   "source": [
    "# Переформатирование столбца \"answers\"\n",
    "df['answers'] = df['answers'].map(lambda v: ast.literal_eval(v))\n",
    "\n",
    "tmp_answers = []\n",
    "for i in range(df.shape[0]):\n",
    "    answers = df['answers'][i]['text']\n",
    "    tmp_answers.append(answers[0] if len(answers) else '')\n",
    "\n",
    "df['answer'] = tmp_answers\n",
    "df.drop(axis=1, columns=['answers'], inplace=True)"
   ]
  },
  {
   "cell_type": "markdown",
   "metadata": {},
   "source": [
    "### Создание таблицы для формирования БД"
   ]
  },
  {
   "cell_type": "code",
   "execution_count": 4,
   "metadata": {},
   "outputs": [
    {
     "name": "stderr",
     "output_type": "stream",
     "text": [
      "100%|██████████| 74300/74300 [00:02<00:00, 27254.18it/s] "
     ]
    },
    {
     "name": "stdout",
     "output_type": "stream",
     "text": [
      "all chunks:  74300\n",
      "unique chunks:  13489\n"
     ]
    },
    {
     "name": "stderr",
     "output_type": "stream",
     "text": [
      "\n"
     ]
    }
   ],
   "source": [
    "# Создание таблицы для формирования бд\n",
    "unique_chunk_ids = []\n",
    "\n",
    "tmp_data = []\n",
    "chunk_ids_seq = []\n",
    "\n",
    "for i in tqdm(range(df.shape[0])):\n",
    "    chunk = df['context'][i]\n",
    "    chunk_id = get_hash(chunk, hash_len=10)\n",
    "    chunk_ids_seq.append(chunk_id)\n",
    "\n",
    "    if chunk_id not in unique_chunk_ids:\n",
    "        document = [chunk, {'doc_id': df['title'][i], 'chunk_id': chunk_id, \n",
    "                            'prev_chunk_id': None, 'next_chunk_id': None}]\n",
    "        unique_chunk_ids.append(chunk_id)\n",
    "        tmp_data.append(document)\n",
    "\n",
    "df['chunk_id'] = chunk_ids_seq\n",
    "table_df = pd.DataFrame(tmp_data, columns=['chunks', 'metadata'])\n",
    "\n",
    "print(\"all chunks: \", df['context'].shape[0])\n",
    "print(\"unique chunks: \", len(unique_chunk_ids))"
   ]
  },
  {
   "cell_type": "code",
   "execution_count": 5,
   "metadata": {},
   "outputs": [],
   "source": [
    "table_df.to_csv(SAVE_TABLE_PATH, sep=';', index=False)"
   ]
  },
  {
   "cell_type": "markdown",
   "metadata": {},
   "source": [
    "#### Создание таблицы для оценки качества Retriever/Reader-частей"
   ]
  },
  {
   "cell_type": "code",
   "execution_count": 14,
   "metadata": {},
   "outputs": [
    {
     "name": "stderr",
     "output_type": "stream",
     "text": [
      " 23%|██▎       | 16765/74300 [00:00<00:00, 90914.09it/s]"
     ]
    },
    {
     "name": "stderr",
     "output_type": "stream",
     "text": [
      "100%|██████████| 74300/74300 [00:00<00:00, 100753.46it/s]\n"
     ]
    }
   ],
   "source": [
    "tmp_data = {}\n",
    "for i in tqdm(range(df.shape[0])):\n",
    "    qst_hash = get_hash(df['question'][i])\n",
    "    if qst_hash in tmp_data.keys():\n",
    "        tmp_data[qst_hash]['chunk_ids'].append(df['chunk_id'][i])\n",
    "        tmp_data[qst_hash]['contexts'].append(df['context'][i])\n",
    "    else:\n",
    "        tmp_data[qst_hash] = {'question': df['question'][i], 'answer': df['answer'][i], \n",
    "                              'chunk_ids': [df['chunk_id'][i]], 'contexts': [df['context'][i]]}\n",
    "\n",
    "    tmp_data[qst_hash]['chunk_ids'] = list(set(tmp_data[qst_hash]['chunk_ids']))\n",
    "    tmp_data[qst_hash]['contexts'] = list(set(tmp_data[qst_hash]['contexts']))"
   ]
  },
  {
   "cell_type": "code",
   "execution_count": 15,
   "metadata": {},
   "outputs": [],
   "source": [
    "benchmark_df = pd.DataFrame(list(tmp_data.values()))"
   ]
  },
  {
   "cell_type": "code",
   "execution_count": 16,
   "metadata": {},
   "outputs": [
    {
     "data": {
      "text/plain": [
       "Counter({1: 74218, 2: 38})"
      ]
     },
     "execution_count": 16,
     "metadata": {},
     "output_type": "execute_result"
    }
   ],
   "source": [
    "Counter(list(map(len, benchmark_df['chunk_ids'])))"
   ]
  },
  {
   "cell_type": "code",
   "execution_count": 17,
   "metadata": {},
   "outputs": [],
   "source": [
    "benchmark_df.to_csv(SAVE_BENCHMARK_PATH, sep=';', index=False)"
   ]
  },
  {
   "cell_type": "code",
   "execution_count": null,
   "metadata": {},
   "outputs": [],
   "source": []
  }
 ],
 "metadata": {
  "kernelspec": {
   "display_name": ".nlp_env",
   "language": "python",
   "name": "python3"
  },
  "language_info": {
   "codemirror_mode": {
    "name": "ipython",
    "version": 3
   },
   "file_extension": ".py",
   "mimetype": "text/x-python",
   "name": "python",
   "nbconvert_exporter": "python",
   "pygments_lexer": "ipython3",
   "version": "3.12.3"
  },
  "orig_nbformat": 4
 },
 "nbformat": 4,
 "nbformat_minor": 2
}
