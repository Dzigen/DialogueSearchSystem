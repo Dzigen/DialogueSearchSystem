{
 "cells": [
  {
   "cell_type": "code",
   "execution_count": 1,
   "metadata": {},
   "outputs": [],
   "source": [
    "import sys\n",
    "sys.path.insert(0, \"/home/aisummer/mikhail_workspace/nlp-service\")\n",
    "\n",
    "from src.utils import create_id, get_hash\n",
    "from src.DocumentsParser.utils import TABLES_DIR_TABLE_NAME\n",
    "\n",
    "from tqdm import tqdm\n",
    "import pandas as pd\n",
    "import ast\n",
    "from collections import Counter\n",
    "import json\n",
    "\n",
    "LOAD_PATH = '../../data/squadv2/base_dataset.csv'\n",
    "SAVE_TABLE_PATH = f'../../data/squadv2/tables/v1/{TABLES_DIR_TABLE_NAME}'\n",
    "SAVE_BENCHMARK_PATH = '../../data/squadv2/tables/v1/benchmark.csv'"
   ]
  },
  {
   "cell_type": "code",
   "execution_count": 2,
   "metadata": {},
   "outputs": [],
   "source": [
    "df = pd.read_csv(LOAD_PATH, sep=';')"
   ]
  },
  {
   "cell_type": "code",
   "execution_count": 3,
   "metadata": {},
   "outputs": [],
   "source": [
    "# Переформатирование столбца \"answers\"\n",
    "df['answers'] = df['answers'].map(lambda v: ast.literal_eval(v))\n",
    "\n",
    "tmp_answers = []\n",
    "for i in range(df.shape[0]):\n",
    "    answers = df['answers'][i]['text']\n",
    "    tmp_answers.append(answers[0] if len(answers) else '')\n",
    "\n",
    "df['answer'] = tmp_answers\n",
    "df.drop(axis=1, columns=['answers'], inplace=True)"
   ]
  },
  {
   "cell_type": "markdown",
   "metadata": {},
   "source": [
    "### Создание таблицы для формирования БД"
   ]
  },
  {
   "cell_type": "code",
   "execution_count": 4,
   "metadata": {},
   "outputs": [
    {
     "name": "stderr",
     "output_type": "stream",
     "text": [
      "  8%|▊         | 11030/142192 [00:00<00:01, 110283.54it/s]"
     ]
    },
    {
     "name": "stderr",
     "output_type": "stream",
     "text": [
      "100%|██████████| 142192/142192 [00:08<00:00, 16256.80it/s]"
     ]
    },
    {
     "name": "stdout",
     "output_type": "stream",
     "text": [
      "all chunks:  142192\n",
      "unique chunks:  20233\n"
     ]
    },
    {
     "name": "stderr",
     "output_type": "stream",
     "text": [
      "\n"
     ]
    }
   ],
   "source": [
    "# Создание таблицы для формирования бд\n",
    "unique_chunk_ids = []\n",
    "\n",
    "tmp_data = []\n",
    "chunk_ids_seq = []\n",
    "\n",
    "for i in tqdm(range(df.shape[0])):\n",
    "    cntx = df['context'][i]\n",
    "    chunk = f\"{df['title'][i]}\\n{df['context'][i]}\"\n",
    "    chunk_id = get_hash(chunk, hash_len=10)\n",
    "    chunk_ids_seq.append(chunk_id)\n",
    "\n",
    "    if chunk_id not in unique_chunk_ids:\n",
    "        document = [chunk, {'doc_id': df['title'][i], 'chunk_id': chunk_id, \n",
    "                            'prev_chunk_id': None, 'next_chunk_id': None}]\n",
    "        unique_chunk_ids.append(chunk_id)\n",
    "        tmp_data.append(document)\n",
    "\n",
    "df['chunk_id'] = chunk_ids_seq\n",
    "table_df = pd.DataFrame(tmp_data, columns=['chunks', 'metadata'])\n",
    "\n",
    "print(\"all chunks: \", df['context'].shape[0])\n",
    "print(\"unique chunks: \", len(unique_chunk_ids))"
   ]
  },
  {
   "cell_type": "code",
   "execution_count": 5,
   "metadata": {},
   "outputs": [],
   "source": [
    "table_df.to_csv(SAVE_TABLE_PATH, sep=';', index=False)"
   ]
  },
  {
   "cell_type": "markdown",
   "metadata": {},
   "source": [
    "#### Создание таблицы для оценки качества Retriever/Reader-частей"
   ]
  },
  {
   "cell_type": "code",
   "execution_count": 6,
   "metadata": {},
   "outputs": [
    {
     "name": "stderr",
     "output_type": "stream",
     "text": [
      "100%|██████████| 142192/142192 [00:01<00:00, 104356.52it/s]\n"
     ]
    }
   ],
   "source": [
    "tmp_data = {}\n",
    "for i in tqdm(range(df.shape[0])):\n",
    "    qst_hash = get_hash(df['question'][i])\n",
    "    if qst_hash in tmp_data.keys():\n",
    "        tmp_data[qst_hash]['chunk_ids'].append(df['chunk_id'][i])\n",
    "        tmp_data[qst_hash]['contexts'].append(df['context'][i])\n",
    "    else:\n",
    "        tmp_data[qst_hash] = {'question': df['question'][i], 'answer': df['answer'][i], \n",
    "                              'chunk_ids': [df['chunk_id'][i]], 'contexts': [df['context'][i]]}\n",
    "\n",
    "    tmp_data[qst_hash]['chunk_ids'] = list(set(tmp_data[qst_hash]['chunk_ids']))\n",
    "    tmp_data[qst_hash]['contexts'] = list(set(tmp_data[qst_hash]['contexts']))"
   ]
  },
  {
   "cell_type": "code",
   "execution_count": 7,
   "metadata": {},
   "outputs": [],
   "source": [
    "benchmark_df = pd.DataFrame(list(tmp_data.values()))"
   ]
  },
  {
   "cell_type": "code",
   "execution_count": 8,
   "metadata": {},
   "outputs": [
    {
     "data": {
      "text/plain": [
       "Counter({1: 141836, 2: 141, 3: 1})"
      ]
     },
     "execution_count": 8,
     "metadata": {},
     "output_type": "execute_result"
    }
   ],
   "source": [
    "Counter(list(map(len, benchmark_df['chunk_ids'])))"
   ]
  },
  {
   "cell_type": "code",
   "execution_count": 9,
   "metadata": {},
   "outputs": [],
   "source": [
    "benchmark_df.to_csv(SAVE_BENCHMARK_PATH, sep=';', index=False)"
   ]
  },
  {
   "cell_type": "code",
   "execution_count": 10,
   "metadata": {},
   "outputs": [
    {
     "data": {
      "text/html": [
       "<div>\n",
       "<style scoped>\n",
       "    .dataframe tbody tr th:only-of-type {\n",
       "        vertical-align: middle;\n",
       "    }\n",
       "\n",
       "    .dataframe tbody tr th {\n",
       "        vertical-align: top;\n",
       "    }\n",
       "\n",
       "    .dataframe thead th {\n",
       "        text-align: right;\n",
       "    }\n",
       "</style>\n",
       "<table border=\"1\" class=\"dataframe\">\n",
       "  <thead>\n",
       "    <tr style=\"text-align: right;\">\n",
       "      <th></th>\n",
       "      <th>question</th>\n",
       "      <th>answer</th>\n",
       "      <th>chunk_ids</th>\n",
       "      <th>contexts</th>\n",
       "    </tr>\n",
       "  </thead>\n",
       "  <tbody>\n",
       "    <tr>\n",
       "      <th>0</th>\n",
       "      <td>When did Beyonce start becoming popular?</td>\n",
       "      <td>in the late 1990s</td>\n",
       "      <td>[8268865924]</td>\n",
       "      <td>[Beyoncé Giselle Knowles-Carter (/biːˈjɒnseɪ/ ...</td>\n",
       "    </tr>\n",
       "    <tr>\n",
       "      <th>1</th>\n",
       "      <td>What areas did Beyonce compete in when she was...</td>\n",
       "      <td>singing and dancing</td>\n",
       "      <td>[8268865924]</td>\n",
       "      <td>[Beyoncé Giselle Knowles-Carter (/biːˈjɒnseɪ/ ...</td>\n",
       "    </tr>\n",
       "    <tr>\n",
       "      <th>2</th>\n",
       "      <td>When did Beyonce leave Destiny's Child and bec...</td>\n",
       "      <td>2003</td>\n",
       "      <td>[8268865924]</td>\n",
       "      <td>[Beyoncé Giselle Knowles-Carter (/biːˈjɒnseɪ/ ...</td>\n",
       "    </tr>\n",
       "    <tr>\n",
       "      <th>3</th>\n",
       "      <td>In what city and state did Beyonce  grow up?</td>\n",
       "      <td>Houston, Texas</td>\n",
       "      <td>[8268865924]</td>\n",
       "      <td>[Beyoncé Giselle Knowles-Carter (/biːˈjɒnseɪ/ ...</td>\n",
       "    </tr>\n",
       "    <tr>\n",
       "      <th>4</th>\n",
       "      <td>In which decade did Beyonce become famous?</td>\n",
       "      <td>late 1990s</td>\n",
       "      <td>[8268865924]</td>\n",
       "      <td>[Beyoncé Giselle Knowles-Carter (/biːˈjɒnseɪ/ ...</td>\n",
       "    </tr>\n",
       "  </tbody>\n",
       "</table>\n",
       "</div>"
      ],
      "text/plain": [
       "                                            question               answer  \\\n",
       "0           When did Beyonce start becoming popular?    in the late 1990s   \n",
       "1  What areas did Beyonce compete in when she was...  singing and dancing   \n",
       "2  When did Beyonce leave Destiny's Child and bec...                 2003   \n",
       "3      In what city and state did Beyonce  grow up?        Houston, Texas   \n",
       "4         In which decade did Beyonce become famous?           late 1990s   \n",
       "\n",
       "      chunk_ids                                           contexts  \n",
       "0  [8268865924]  [Beyoncé Giselle Knowles-Carter (/biːˈjɒnseɪ/ ...  \n",
       "1  [8268865924]  [Beyoncé Giselle Knowles-Carter (/biːˈjɒnseɪ/ ...  \n",
       "2  [8268865924]  [Beyoncé Giselle Knowles-Carter (/biːˈjɒnseɪ/ ...  \n",
       "3  [8268865924]  [Beyoncé Giselle Knowles-Carter (/biːˈjɒnseɪ/ ...  \n",
       "4  [8268865924]  [Beyoncé Giselle Knowles-Carter (/biːˈjɒnseɪ/ ...  "
      ]
     },
     "execution_count": 10,
     "metadata": {},
     "output_type": "execute_result"
    }
   ],
   "source": [
    "benchmark_df.head()"
   ]
  },
  {
   "cell_type": "code",
   "execution_count": null,
   "metadata": {},
   "outputs": [],
   "source": []
  }
 ],
 "metadata": {
  "kernelspec": {
   "display_name": ".nlp_env",
   "language": "python",
   "name": "python3"
  },
  "language_info": {
   "codemirror_mode": {
    "name": "ipython",
    "version": 3
   },
   "file_extension": ".py",
   "mimetype": "text/x-python",
   "name": "python",
   "nbconvert_exporter": "python",
   "pygments_lexer": "ipython3",
   "version": "3.12.3"
  },
  "orig_nbformat": 4
 },
 "nbformat": 4,
 "nbformat_minor": 2
}
