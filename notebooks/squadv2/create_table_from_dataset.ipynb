{
 "cells": [
  {
   "cell_type": "code",
   "execution_count": 10,
   "metadata": {},
   "outputs": [],
   "source": [
    "import sys\n",
    "sys.path.insert(0, \"/home/aisummer/mikhail_workspace/nlp-service\")\n",
    "\n",
    "from src.utils import create_id, get_hash\n",
    "from src.DocumentsParser.utils import TABLES_DIR_TABLE_NAME\n",
    "\n",
    "from tqdm import tqdm\n",
    "import pandas as pd\n",
    "import ast\n",
    "import json\n",
    "\n",
    "LOAD_PATH = '../../data/squadv2/base_dataset.csv'\n",
    "SAVE_TABLE_PATH = f'../../data/squadv2/tables/{TABLES_DIR_TABLE_NAME}'"
   ]
  },
  {
   "cell_type": "code",
   "execution_count": 2,
   "metadata": {},
   "outputs": [],
   "source": [
    "df = pd.read_csv(LOAD_PATH, sep=';')"
   ]
  },
  {
   "cell_type": "code",
   "execution_count": 3,
   "metadata": {},
   "outputs": [],
   "source": [
    "# Переформатирование столбца \"answers\"\n",
    "df['answers'] = df['answers'].map(lambda v: ast.literal_eval(v))\n",
    "\n",
    "tmp_answers = []\n",
    "for i in range(df.shape[0]):\n",
    "    answers = df['answers'][i]['text']\n",
    "    tmp_answers.append(answers[0] if len(answers) else '')\n",
    "\n",
    "df['answer'] = tmp_answers\n",
    "df.drop(axis=1, columns=['answers'], inplace=True)"
   ]
  },
  {
   "cell_type": "markdown",
   "metadata": {},
   "source": [
    "### Создание таблицы для формирования БД"
   ]
  },
  {
   "cell_type": "code",
   "execution_count": 8,
   "metadata": {},
   "outputs": [
    {
     "name": "stderr",
     "output_type": "stream",
     "text": [
      "  9%|▉         | 12997/142192 [00:00<00:00, 129961.76it/s]"
     ]
    },
    {
     "name": "stderr",
     "output_type": "stream",
     "text": [
      "100%|██████████| 142192/142192 [00:08<00:00, 17132.17it/s]"
     ]
    },
    {
     "name": "stdout",
     "output_type": "stream",
     "text": [
      "all chunks:  142192\n",
      "unique chunks:  20233\n"
     ]
    },
    {
     "name": "stderr",
     "output_type": "stream",
     "text": [
      "\n"
     ]
    }
   ],
   "source": [
    "# Создание таблицы для формирования бд\n",
    "unique_chunk_ids = []\n",
    "tmp_data = []\n",
    "for i in tqdm(range(df.shape[0])):\n",
    "    cntx = df['context'][i]\n",
    "    cntx_hash = get_hash(cntx, hash_len=10)\n",
    "\n",
    "    if cntx_hash not in unique_chunk_ids:\n",
    "        chunk = f\"{df['title'][i]}\\n{df['context'][i]}\"\n",
    "        document = [chunk, {'doc_id': df['title'][i], 'chunk_id': cntx_hash, \n",
    "                            'prev_chunk_id': None, 'next_chunk_id': None}]\n",
    "        unique_chunk_ids.append(cntx_hash)\n",
    "        tmp_data.append(document)\n",
    "\n",
    "table_df = pd.DataFrame(tmp_data, columns=['chunks', 'metadata'])\n",
    "\n",
    "print(\"all chunks: \", df['context'].shape[0])\n",
    "print(\"unique chunks: \", len(unique_chunk_ids))"
   ]
  },
  {
   "cell_type": "code",
   "execution_count": 12,
   "metadata": {},
   "outputs": [],
   "source": [
    "table_df.to_csv(SAVE_TABLE_PATH, sep=';', index=False)"
   ]
  },
  {
   "cell_type": "markdown",
   "metadata": {},
   "source": [
    "#### Создание таблицы для оценки качества Retriever/Reader-частей"
   ]
  },
  {
   "cell_type": "code",
   "execution_count": 14,
   "metadata": {},
   "outputs": [
    {
     "data": {
      "text/html": [
       "<div>\n",
       "<style scoped>\n",
       "    .dataframe tbody tr th:only-of-type {\n",
       "        vertical-align: middle;\n",
       "    }\n",
       "\n",
       "    .dataframe tbody tr th {\n",
       "        vertical-align: top;\n",
       "    }\n",
       "\n",
       "    .dataframe thead th {\n",
       "        text-align: right;\n",
       "    }\n",
       "</style>\n",
       "<table border=\"1\" class=\"dataframe\">\n",
       "  <thead>\n",
       "    <tr style=\"text-align: right;\">\n",
       "      <th></th>\n",
       "      <th>id</th>\n",
       "      <th>title</th>\n",
       "      <th>context</th>\n",
       "      <th>question</th>\n",
       "      <th>answer</th>\n",
       "    </tr>\n",
       "  </thead>\n",
       "  <tbody>\n",
       "    <tr>\n",
       "      <th>0</th>\n",
       "      <td>56be85543aeaaa14008c9063</td>\n",
       "      <td>Beyoncé</td>\n",
       "      <td>Beyoncé Giselle Knowles-Carter (/biːˈjɒnseɪ/ b...</td>\n",
       "      <td>When did Beyonce start becoming popular?</td>\n",
       "      <td>in the late 1990s</td>\n",
       "    </tr>\n",
       "    <tr>\n",
       "      <th>1</th>\n",
       "      <td>56be85543aeaaa14008c9065</td>\n",
       "      <td>Beyoncé</td>\n",
       "      <td>Beyoncé Giselle Knowles-Carter (/biːˈjɒnseɪ/ b...</td>\n",
       "      <td>What areas did Beyonce compete in when she was...</td>\n",
       "      <td>singing and dancing</td>\n",
       "    </tr>\n",
       "    <tr>\n",
       "      <th>2</th>\n",
       "      <td>56be85543aeaaa14008c9066</td>\n",
       "      <td>Beyoncé</td>\n",
       "      <td>Beyoncé Giselle Knowles-Carter (/biːˈjɒnseɪ/ b...</td>\n",
       "      <td>When did Beyonce leave Destiny's Child and bec...</td>\n",
       "      <td>2003</td>\n",
       "    </tr>\n",
       "    <tr>\n",
       "      <th>3</th>\n",
       "      <td>56bf6b0f3aeaaa14008c9601</td>\n",
       "      <td>Beyoncé</td>\n",
       "      <td>Beyoncé Giselle Knowles-Carter (/biːˈjɒnseɪ/ b...</td>\n",
       "      <td>In what city and state did Beyonce  grow up?</td>\n",
       "      <td>Houston, Texas</td>\n",
       "    </tr>\n",
       "    <tr>\n",
       "      <th>4</th>\n",
       "      <td>56bf6b0f3aeaaa14008c9602</td>\n",
       "      <td>Beyoncé</td>\n",
       "      <td>Beyoncé Giselle Knowles-Carter (/biːˈjɒnseɪ/ b...</td>\n",
       "      <td>In which decade did Beyonce become famous?</td>\n",
       "      <td>late 1990s</td>\n",
       "    </tr>\n",
       "    <tr>\n",
       "      <th>...</th>\n",
       "      <td>...</td>\n",
       "      <td>...</td>\n",
       "      <td>...</td>\n",
       "      <td>...</td>\n",
       "      <td>...</td>\n",
       "    </tr>\n",
       "    <tr>\n",
       "      <th>142187</th>\n",
       "      <td>5737aafd1c456719005744ff</td>\n",
       "      <td>Force</td>\n",
       "      <td>The pound-force has a metric counterpart, less...</td>\n",
       "      <td>What is the seldom used force unit equal to on...</td>\n",
       "      <td>sthène</td>\n",
       "    </tr>\n",
       "    <tr>\n",
       "      <th>142188</th>\n",
       "      <td>5ad28ad0d7d075001a4299cc</td>\n",
       "      <td>Force</td>\n",
       "      <td>The pound-force has a metric counterpart, less...</td>\n",
       "      <td>What does not have a metric counterpart?</td>\n",
       "      <td></td>\n",
       "    </tr>\n",
       "    <tr>\n",
       "      <th>142189</th>\n",
       "      <td>5ad28ad0d7d075001a4299cd</td>\n",
       "      <td>Force</td>\n",
       "      <td>The pound-force has a metric counterpart, less...</td>\n",
       "      <td>What is the force exerted by standard gravity ...</td>\n",
       "      <td></td>\n",
       "    </tr>\n",
       "    <tr>\n",
       "      <th>142190</th>\n",
       "      <td>5ad28ad0d7d075001a4299ce</td>\n",
       "      <td>Force</td>\n",
       "      <td>The pound-force has a metric counterpart, less...</td>\n",
       "      <td>What force leads to a commonly used unit of mass?</td>\n",
       "      <td></td>\n",
       "    </tr>\n",
       "    <tr>\n",
       "      <th>142191</th>\n",
       "      <td>5ad28ad0d7d075001a4299cf</td>\n",
       "      <td>Force</td>\n",
       "      <td>The pound-force has a metric counterpart, less...</td>\n",
       "      <td>What force is part of the modern SI system?</td>\n",
       "      <td></td>\n",
       "    </tr>\n",
       "  </tbody>\n",
       "</table>\n",
       "<p>142192 rows × 5 columns</p>\n",
       "</div>"
      ],
      "text/plain": [
       "                              id    title  \\\n",
       "0       56be85543aeaaa14008c9063  Beyoncé   \n",
       "1       56be85543aeaaa14008c9065  Beyoncé   \n",
       "2       56be85543aeaaa14008c9066  Beyoncé   \n",
       "3       56bf6b0f3aeaaa14008c9601  Beyoncé   \n",
       "4       56bf6b0f3aeaaa14008c9602  Beyoncé   \n",
       "...                          ...      ...   \n",
       "142187  5737aafd1c456719005744ff    Force   \n",
       "142188  5ad28ad0d7d075001a4299cc    Force   \n",
       "142189  5ad28ad0d7d075001a4299cd    Force   \n",
       "142190  5ad28ad0d7d075001a4299ce    Force   \n",
       "142191  5ad28ad0d7d075001a4299cf    Force   \n",
       "\n",
       "                                                  context  \\\n",
       "0       Beyoncé Giselle Knowles-Carter (/biːˈjɒnseɪ/ b...   \n",
       "1       Beyoncé Giselle Knowles-Carter (/biːˈjɒnseɪ/ b...   \n",
       "2       Beyoncé Giselle Knowles-Carter (/biːˈjɒnseɪ/ b...   \n",
       "3       Beyoncé Giselle Knowles-Carter (/biːˈjɒnseɪ/ b...   \n",
       "4       Beyoncé Giselle Knowles-Carter (/biːˈjɒnseɪ/ b...   \n",
       "...                                                   ...   \n",
       "142187  The pound-force has a metric counterpart, less...   \n",
       "142188  The pound-force has a metric counterpart, less...   \n",
       "142189  The pound-force has a metric counterpart, less...   \n",
       "142190  The pound-force has a metric counterpart, less...   \n",
       "142191  The pound-force has a metric counterpart, less...   \n",
       "\n",
       "                                                 question               answer  \n",
       "0                When did Beyonce start becoming popular?    in the late 1990s  \n",
       "1       What areas did Beyonce compete in when she was...  singing and dancing  \n",
       "2       When did Beyonce leave Destiny's Child and bec...                 2003  \n",
       "3           In what city and state did Beyonce  grow up?        Houston, Texas  \n",
       "4              In which decade did Beyonce become famous?           late 1990s  \n",
       "...                                                   ...                  ...  \n",
       "142187  What is the seldom used force unit equal to on...               sthène  \n",
       "142188           What does not have a metric counterpart?                       \n",
       "142189  What is the force exerted by standard gravity ...                       \n",
       "142190  What force leads to a commonly used unit of mass?                       \n",
       "142191        What force is part of the modern SI system?                       \n",
       "\n",
       "[142192 rows x 5 columns]"
      ]
     },
     "execution_count": 14,
     "metadata": {},
     "output_type": "execute_result"
    }
   ],
   "source": [
    "df"
   ]
  },
  {
   "cell_type": "code",
   "execution_count": null,
   "metadata": {},
   "outputs": [],
   "source": []
  }
 ],
 "metadata": {
  "kernelspec": {
   "display_name": ".nlp_env",
   "language": "python",
   "name": "python3"
  },
  "language_info": {
   "codemirror_mode": {
    "name": "ipython",
    "version": 3
   },
   "file_extension": ".py",
   "mimetype": "text/x-python",
   "name": "python",
   "nbconvert_exporter": "python",
   "pygments_lexer": "ipython3",
   "version": "3.12.3"
  },
  "orig_nbformat": 4
 },
 "nbformat": 4,
 "nbformat_minor": 2
}
