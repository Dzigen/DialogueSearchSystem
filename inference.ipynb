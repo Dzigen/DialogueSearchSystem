{
 "cells": [
  {
   "cell_type": "code",
   "execution_count": 1,
   "metadata": {},
   "outputs": [],
   "source": [
    "from src.main import DialogueSearch\n",
    "from src.utils import DialogueSearchConfig"
   ]
  },
  {
   "cell_type": "code",
   "execution_count": 2,
   "metadata": {},
   "outputs": [
    {
     "name": "stdout",
     "output_type": "stream",
     "text": [
      "2024-07-03 16:45:37,980 — src.main — INFO — Initiating DialogueSearch-class\n",
      "2024-07-03 16:45:37,981 — src.main — INFO — Initiating Selector-class\n",
      "2024-07-03 16:45:37,981 — src.main — INFO — Initiating Aggregator-class\n",
      "2024-07-03 16:45:37,981 — src.main — INFO — Initiating Reducer-class\n",
      "2024-07-03 16:45:37,982 — src.main — INFO — Initiating Retriever-class\n",
      "2024-07-03 16:45:37,982 — src.main — INFO — Initiating Summarizer-class\n",
      "2024-07-03 16:45:37,983 — src.main — INFO — Initiating Generator-class\n",
      "2024-07-03 16:45:37,983 — src.main — INFO — Initiating Controller-class\n",
      "2024-07-03 16:45:37,984 — src.main — INFO — Initiating UserHandler-class\n"
     ]
    }
   ],
   "source": [
    "config = DialogueSearchConfig().load()\n",
    "ds_search = DialogueSearch(config, show_log=False)"
   ]
  },
  {
   "cell_type": "code",
   "execution_count": 3,
   "metadata": {},
   "outputs": [
    {
     "name": "stdout",
     "output_type": "stream",
     "text": [
      "2024-07-03 16:45:41,903 — src.main — INFO — START_METHOD: Start dialogue session\n",
      "2024-07-03 16:45:41,907 — src.main — INFO — START_METHOD: Ожидаем запрос от пользователя\n",
      "[BOT] Введите ваш запрос\n",
      "2024-07-03 16:45:47,484 — src.main — INFO — END_METHOD: Ожидаем запрос от пользователя\n",
      "2024-07-03 16:45:47,486 — src.main — INFO — START_METHOD: Формирование базового набора релевантных документов\n",
      "2024-07-03 16:45:47,488 — src.main — INFO — END_METHOD: Формирование базового набора релевантных документов\n",
      "2024-07-03 16:45:47,489 — src.main — INFO — START_METHOD: Поиск критерия для аггрегации документов\n",
      "2024-07-03 16:45:47,492 — src.main — INFO — END_METHOD: Поиск критерия для аггрегации документов\n",
      "2024-07-03 16:45:47,493 — src.main — INFO — START_METHOD: Извлечение информации из документов по заданному критерию\n",
      "2024-07-03 16:45:47,495 — src.main — INFO — END_METHOD: Извлечение информации из документов по заданному критерию\n",
      "2024-07-03 16:45:47,496 — src.main — INFO — START_METHOD: Формирование общих тем из документов по заданному критерию\n",
      "2024-07-03 16:45:47,499 — src.main — INFO — END_METHOD: Формирование общих тем из документов по заданному критерию\n",
      "2024-07-03 16:45:47,499 — src.main — INFO — START_METHOD: Генерация уточняющего вопроса\n",
      "2024-07-03 16:45:47,500 — src.main — INFO — END_METHOD: Генерация уточняющего вопроса\n",
      "2024-07-03 16:45:47,500 — src.main — INFO — START_METHOD: Ожидаем уточняющий ответ от пользователя\n",
      "[BOT] Уточните следующую информацию:\n",
      "test question\n",
      "1. topic1\n",
      "2. topic2\n",
      "3. topic3\n",
      "4. topic3\n",
      "2024-07-03 16:45:49,220 — src.main — INFO — END_METHOD: Ожидаем уточняющий ответ от пользователя\n",
      "2024-07-03 16:45:49,221 — src.main — INFO — START_METHOD: Фильтрация документов на основании уточняющего ответа\n",
      "2024-07-03 16:45:49,223 — src.main — INFO — END_METHOD: Фильтрация документов на основании уточняющего ответа\n",
      "2024-07-03 16:45:49,225 — src.main — INFO — START_METHOD: Поиск критерия для аггрегации документов\n",
      "2024-07-03 16:45:49,227 — src.main — INFO — END_METHOD: Поиск критерия для аггрегации документов\n",
      "2024-07-03 16:45:49,228 — src.main — INFO — START_METHOD: Извлечение информации из документов по заданному критерию\n",
      "2024-07-03 16:45:49,229 — src.main — INFO — END_METHOD: Извлечение информации из документов по заданному критерию\n",
      "2024-07-03 16:45:49,231 — src.main — INFO — START_METHOD: Формирование общих тем из документов по заданному критерию\n",
      "2024-07-03 16:45:49,232 — src.main — INFO — END_METHOD: Формирование общих тем из документов по заданному критерию\n",
      "2024-07-03 16:45:49,234 — src.main — INFO — START_METHOD: Генерация уточняющего вопроса\n",
      "2024-07-03 16:45:49,235 — src.main — INFO — END_METHOD: Генерация уточняющего вопроса\n",
      "2024-07-03 16:45:49,235 — src.main — INFO — START_METHOD: Ожидаем уточняющий ответ от пользователя\n",
      "[BOT] Уточните следующую информацию:\n",
      "test question\n",
      "1. topic1\n",
      "2. topic2\n",
      "3. topic3\n",
      "4. topic3\n",
      "2024-07-03 16:45:50,082 — src.main — INFO — END_METHOD: Ожидаем уточняющий ответ от пользователя\n",
      "2024-07-03 16:45:50,084 — src.main — INFO — START_METHOD: Фильтрация документов на основании уточняющего ответа\n",
      "2024-07-03 16:45:50,086 — src.main — INFO — END_METHOD: Фильтрация документов на основании уточняющего ответа\n",
      "2024-07-03 16:45:50,088 — src.main — INFO — START_METHOD: Поиск критерия для аггрегации документов\n",
      "2024-07-03 16:45:50,089 — src.main — INFO — END_METHOD: Поиск критерия для аггрегации документов\n",
      "2024-07-03 16:45:50,091 — src.main — INFO — START_METHOD: Генерация ответа на основании концентрированного набора релевантных документов\n",
      "2024-07-03 16:45:50,092 — src.main — INFO — END_METHOD: Генерация ответа на основании концентрированного набора релевантных документов\n",
      "2024-07-03 16:45:50,094 — src.main — INFO — START_METHOD: Отправляет финальный ответ системы пользователяю\n",
      "[BOT] По вашему запросу был найден следующий ответ:\n",
      " test_answer\n",
      "2024-07-03 16:45:50,095 — src.main — INFO — END_METHOD: Отправляет финальный ответ системы пользователяю\n",
      "2024-07-03 16:45:50,097 — src.main — INFO — DialogueState(query='qweq', base_relevant_docs=['doc1', 'doc2', 'doc3'], history=[DialogueTurn(topic='test_criteria', question='test question', raw_info=['info1', 'info2', 'info3', 'info4', 'info5', 'info6'], choices=['topic1', 'topic2', 'topic3', 'topic3'], answer=1, filtered_relevant_docs=[1, 3]), DialogueTurn(topic='test_criteria', question='test question', raw_info=['info1', 'info2', 'info3', 'info4', 'info5', 'info6'], choices=['topic1', 'topic2', 'topic3', 'topic3'], answer=2, filtered_relevant_docs=[1, 3]), DialogueTurn(topic='test_criteria', question=None, raw_info=[], choices=[], answer=None, filtered_relevant_docs=[])], answer='test_answer')\n",
      "2024-07-03 16:45:50,099 — src.main — INFO — END_METHOD: Start dialogue session\n"
     ]
    }
   ],
   "source": [
    "ds_search.start(dialogue_format='multi-turn')"
   ]
  },
  {
   "cell_type": "code",
   "execution_count": null,
   "metadata": {},
   "outputs": [],
   "source": []
  }
 ],
 "metadata": {
  "kernelspec": {
   "display_name": "base",
   "language": "python",
   "name": "python3"
  },
  "language_info": {
   "codemirror_mode": {
    "name": "ipython",
    "version": 3
   },
   "file_extension": ".py",
   "mimetype": "text/x-python",
   "name": "python",
   "nbconvert_exporter": "python",
   "pygments_lexer": "ipython3",
   "version": "3.11.4"
  },
  "orig_nbformat": 4
 },
 "nbformat": 4,
 "nbformat_minor": 2
}
