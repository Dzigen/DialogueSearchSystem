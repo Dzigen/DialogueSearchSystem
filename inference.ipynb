{
 "cells": [
  {
   "cell_type": "code",
   "execution_count": 1,
   "metadata": {},
   "outputs": [],
   "source": [
    "from src.main import DialogueSearch\n",
    "from src.utils import DialogueSearchConfig"
   ]
  },
  {
   "cell_type": "code",
   "execution_count": 2,
   "metadata": {},
   "outputs": [
    {
     "name": "stdout",
     "output_type": "stream",
     "text": [
      "2024-07-03 16:24:34,725 — src.main — INFO — Initiating DialogueSearch-class\n",
      "2024-07-03 16:24:34,725 — src.CriteriaSelector.Selector — INFO — Initiating Selector-class\n",
      "2024-07-03 16:24:34,726 — src.DocumentsAggregator.Aggregator — INFO — Initiating Aggregator-class\n",
      "2024-07-03 16:24:34,726 — src.DocumentsReducer.Reducer — INFO — Initiating Reducer-class\n",
      "2024-07-03 16:24:34,727 — src.DocumentsRetriever.Retriever — INFO — Initiating Retriever-class\n",
      "2024-07-03 16:24:34,727 — src.DocumentsSummarizer.Summarizer — INFO — Initiating Summarizer-class\n",
      "2024-07-03 16:24:34,728 — src.QuestionGenerator.Generator — INFO — Initiating Generator-class\n",
      "2024-07-03 16:24:34,728 — src.StopConditionController.Controller — INFO — Initiating Controller-class\n"
     ]
    }
   ],
   "source": [
    "config = DialogueSearchConfig().load()\n",
    "ds_search = DialogueSearch(config)"
   ]
  },
  {
   "cell_type": "code",
   "execution_count": 4,
   "metadata": {},
   "outputs": [
    {
     "name": "stdout",
     "output_type": "stream",
     "text": [
      "2024-07-03 16:25:10,484 — src.main — INFO — START_METHOD: Start dialogue session\n",
      "2024-07-03 16:25:12,882 — src.DocumentsRetriever.Retriever — INFO — START_METHOD: Формирование базового набора \n",
      "                       релевантных документов\n",
      "2024-07-03 16:25:12,884 — src.DocumentsRetriever.Retriever — INFO — END_METHOD: Формирование базового набора \n",
      "                       релевантных документов\n",
      "2024-07-03 16:25:12,885 — src.CriteriaSelector.Selector — INFO — START_METHOD: поиск критерия \n",
      "                       для аггрегации документов\n",
      "2024-07-03 16:25:12,887 — src.CriteriaSelector.Selector — INFO — END_METHOD: поиск критерия \n",
      "                       для аггрегации документов\n",
      "2024-07-03 16:25:12,888 — src.DocumentsAggregator.Aggregator — INFO — START_METHOD: Извлечение информации из документов \n",
      "                       по заданному критерию\n",
      "2024-07-03 16:25:12,890 — src.DocumentsAggregator.Aggregator — INFO — END_METHOD: Извлечение информации из документов \n",
      "                       по заданному критерию\n",
      "2024-07-03 16:25:12,891 — src.DocumentsAggregator.Aggregator — INFO — START_METHOD: Формирование общих тем из документов\n",
      "                       по заданному критерию\n",
      "2024-07-03 16:25:12,893 — src.DocumentsAggregator.Aggregator — INFO — END_METHOD: Формирование общих тем из документов\n",
      "                       по заданному критерию\n",
      "2024-07-03 16:25:12,896 — src.QuestionGenerator.Generator — INFO — START_METHOD: Генерация уточняющего вопроса\n",
      "2024-07-03 16:25:12,897 — src.QuestionGenerator.Generator — INFO — END_METHOD: Генерация уточняющего вопроса\n",
      "[BOT] Уточните следующую информацию:\n",
      "test question\n",
      "1. topic1\n",
      "2. topic2\n",
      "3. topic3\n",
      "4. topic3\n",
      "2024-07-03 16:25:22,684 — src.DocumentsReducer.Reducer — INFO — START_METHOD: Фильтрация документов\n",
      "                       на основании уточняющего ответа\n",
      "2024-07-03 16:25:22,685 — src.DocumentsReducer.Reducer — INFO — END_METHOD: Фильтрация документов\n",
      "                       на основании уточняющего ответа\n",
      "2024-07-03 16:25:22,687 — src.CriteriaSelector.Selector — INFO — START_METHOD: поиск критерия \n",
      "                       для аггрегации документов\n",
      "2024-07-03 16:25:22,689 — src.CriteriaSelector.Selector — INFO — END_METHOD: поиск критерия \n",
      "                       для аггрегации документов\n",
      "2024-07-03 16:25:22,691 — src.DocumentsAggregator.Aggregator — INFO — START_METHOD: Извлечение информации из документов \n",
      "                       по заданному критерию\n",
      "2024-07-03 16:25:22,692 — src.DocumentsAggregator.Aggregator — INFO — END_METHOD: Извлечение информации из документов \n",
      "                       по заданному критерию\n",
      "2024-07-03 16:25:22,694 — src.DocumentsAggregator.Aggregator — INFO — START_METHOD: Формирование общих тем из документов\n",
      "                       по заданному критерию\n",
      "2024-07-03 16:25:22,695 — src.DocumentsAggregator.Aggregator — INFO — END_METHOD: Формирование общих тем из документов\n",
      "                       по заданному критерию\n",
      "2024-07-03 16:25:22,695 — src.QuestionGenerator.Generator — INFO — START_METHOD: Генерация уточняющего вопроса\n",
      "2024-07-03 16:25:22,696 — src.QuestionGenerator.Generator — INFO — END_METHOD: Генерация уточняющего вопроса\n",
      "[BOT] Уточните следующую информацию:\n",
      "test question\n",
      "1. topic1\n",
      "2. topic2\n",
      "3. topic3\n",
      "4. topic3\n",
      "2024-07-03 16:25:26,132 — src.DocumentsReducer.Reducer — INFO — START_METHOD: Фильтрация документов\n",
      "                       на основании уточняющего ответа\n",
      "2024-07-03 16:25:26,133 — src.DocumentsReducer.Reducer — INFO — END_METHOD: Фильтрация документов\n",
      "                       на основании уточняющего ответа\n",
      "2024-07-03 16:25:26,135 — src.CriteriaSelector.Selector — INFO — START_METHOD: поиск критерия \n",
      "                       для аггрегации документов\n",
      "2024-07-03 16:25:26,137 — src.CriteriaSelector.Selector — INFO — END_METHOD: поиск критерия \n",
      "                       для аггрегации документов\n",
      "2024-07-03 16:25:26,139 — src.DocumentsSummarizer.Summarizer — INFO — START_METHOD: Генерация ответа на основании концентрированного\n",
      "                       набора релевантных документов\n",
      "2024-07-03 16:25:26,140 — src.DocumentsSummarizer.Summarizer — INFO — END_METHOD: Генерация ответа на основании концентрированного\n",
      "                       набора релевантных документов\n",
      "[BOT] По вашему запросу был найден следующий ответ:\n",
      " test_answer\n",
      "2024-07-03 16:25:26,142 — src.main — INFO — DialogueState(query='', base_relevant_docs=['doc1', 'doc2', 'doc3'], history=[DialogueTurn(topic='test_criteria', question='test question', raw_info=['info1', 'info2', 'info3', 'info4', 'info5', 'info6'], choices=['topic1', 'topic2', 'topic3', 'topic3'], answer=2, filtered_relevant_docs=[1, 3]), DialogueTurn(topic='test_criteria', question='test question', raw_info=['info1', 'info2', 'info3', 'info4', 'info5', 'info6'], choices=['topic1', 'topic2', 'topic3', 'topic3'], answer=3, filtered_relevant_docs=[1, 3]), DialogueTurn(topic='test_criteria', question=None, raw_info=[], choices=[], answer=None, filtered_relevant_docs=[])], answer='test_answer')\n",
      "2024-07-03 16:25:26,144 — src.main — INFO — END_METHOD: Start dialogue session\n"
     ]
    }
   ],
   "source": [
    "ds_search.start(dialogue_format='multi-turn')"
   ]
  },
  {
   "cell_type": "code",
   "execution_count": null,
   "metadata": {},
   "outputs": [],
   "source": []
  }
 ],
 "metadata": {
  "kernelspec": {
   "display_name": "base",
   "language": "python",
   "name": "python3"
  },
  "language_info": {
   "codemirror_mode": {
    "name": "ipython",
    "version": 3
   },
   "file_extension": ".py",
   "mimetype": "text/x-python",
   "name": "python",
   "nbconvert_exporter": "python",
   "pygments_lexer": "ipython3",
   "version": "3.11.4"
  },
  "orig_nbformat": 4
 },
 "nbformat": 4,
 "nbformat_minor": 2
}
