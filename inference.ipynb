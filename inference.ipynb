{
 "cells": [
  {
   "cell_type": "code",
   "execution_count": 1,
   "metadata": {},
   "outputs": [],
   "source": [
    "from src.main import DialogueSearch\n",
    "from src.utils import DialogueSearchConfig"
   ]
  },
  {
   "cell_type": "code",
   "execution_count": 2,
   "metadata": {},
   "outputs": [],
   "source": [
    "config = DialogueSearchConfig().load()\n",
    "ds_search = DialogueSearch(config, show_log=False)"
   ]
  },
  {
   "cell_type": "code",
   "execution_count": 3,
   "metadata": {},
   "outputs": [
    {
     "name": "stdout",
     "output_type": "stream",
     "text": [
      "[BOT] Введите ваш запрос\n",
      "[BOT] Уточните следующую информацию:\n",
      "test question\n",
      "1. topic1\n",
      "2. topic2\n",
      "3. topic3\n",
      "4. topic3\n",
      "[BOT] Уточните следующую информацию:\n",
      "test question\n",
      "1. topic1\n",
      "2. topic2\n",
      "3. topic3\n",
      "4. topic3\n",
      "[BOT] По вашему запросу был найден следующий ответ:\n",
      " test_answer\n"
     ]
    }
   ],
   "source": [
    "ds_search.start(dialogue_format='multi-turn')"
   ]
  },
  {
   "cell_type": "code",
   "execution_count": null,
   "metadata": {},
   "outputs": [],
   "source": []
  }
 ],
 "metadata": {
  "kernelspec": {
   "display_name": "base",
   "language": "python",
   "name": "python3"
  },
  "language_info": {
   "codemirror_mode": {
    "name": "ipython",
    "version": 3
   },
   "file_extension": ".py",
   "mimetype": "text/x-python",
   "name": "python",
   "nbconvert_exporter": "python",
   "pygments_lexer": "ipython3",
   "version": "3.11.4"
  },
  "orig_nbformat": 4
 },
 "nbformat": 4,
 "nbformat_minor": 2
}
