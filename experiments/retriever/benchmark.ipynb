{
 "cells": [
  {
   "cell_type": "code",
   "execution_count": 16,
   "metadata": {},
   "outputs": [],
   "source": [
    "import sys\n",
    "sys.path.insert(0, \"/home/aisummer/mikhail_workspace/nlp-service\")\n",
    "\n",
    "import pandas as pd \n",
    "import ast\n",
    "import numpy as np\n",
    "import json\n",
    "from tqdm import tqdm\n",
    "import os\n",
    "\n",
    "from src.DocumentsParser.utils import DBS_DIR_DENSE_VECTORDB_NAME, DBS_DIR_SPARSE_VECTORDB_NAME\n",
    "from src.DocumentsRetriever.Retriever import RetrieverModule, RetrieverConfig\n",
    "from src.evaluation_metrics import RetrievalMetrics\n",
    "from src.utils import DialogueState\n",
    "from src.logger import Logger"
   ]
  },
  {
   "cell_type": "code",
   "execution_count": 114,
   "metadata": {},
   "outputs": [],
   "source": [
    "# !!! TO CHANGE !!!\n",
    "SAVE_LOGFILE = './logs/trial21.json'\n",
    "BENCHMARKS_INFO = {'sberquad': {'db': 'v2', 'table': 'v1'}, 'squadv2': {'db': 'v2', 'table': 'v1'}}\n",
    "MODEL_PATH = \"/home/aisummer/mikhail_workspace/nlp-service/models/intfloat/multilingual-e5-small\"\n",
    "ENCODE_KWARGS = {'normalize_embeddings': True, 'prompt': 'query: '}\n",
    "PARAMS = {'similarity': {'k': 3}, 'mmr': {'lambda_mult': 0.5, 'fetch_k': 20, 'k': 3}, 'bm25': {'k': 3}}\n",
    "WEIGHTS = [0.5, 0.1, 0.4]\n",
    "BENCHES_SIZE = 1000\n",
    "# !!! TO CHANGE !!!"
   ]
  },
  {
   "cell_type": "code",
   "execution_count": 115,
   "metadata": {},
   "outputs": [],
   "source": [
    "banchmark_paths = {}\n",
    "for name, version in BENCHMARKS_INFO.items():\n",
    "    banchmark_paths[name] = {\n",
    "        'table': f\"../../data/{name}/tables/{version['table']}/benchmark.csv\",\n",
    "        'dense_db': f\"../../data/{name}/dbs/{version['db']}/{DBS_DIR_DENSE_VECTORDB_NAME}\",\n",
    "        'sparse_db':  f\"../../data/{name}/dbs/{version['db']}/{DBS_DIR_SPARSE_VECTORDB_NAME}\"\n",
    "    }\n",
    "\n",
    "benchmark_config = {}\n",
    "for name, paths in banchmark_paths.items():\n",
    "    benchmark_config[name] = RetrieverConfig(\n",
    "        model_path=MODEL_PATH,\n",
    "        densedb_path=paths['dense_db'],\n",
    "        sparsedb_path=paths['sparse_db'],\n",
    "        encode_kwargs=ENCODE_KWARGS,\n",
    "        params=PARAMS,\n",
    "        weights=WEIGHTS)"
   ]
  },
  {
   "cell_type": "code",
   "execution_count": 116,
   "metadata": {},
   "outputs": [],
   "source": [
    "# загрузить benchmark-датасет\n",
    "benchmarks_df = {}\n",
    "for name, bench_path in banchmark_paths.items():\n",
    "    benchmarks_df[name] = pd.read_csv(banchmark_paths[name]['table'], sep=';').iloc[:BENCHES_SIZE,:]\n",
    "    benchmarks_df[name]['chunk_ids'] = benchmarks_df[name]['chunk_ids'].map(lambda v: ast.literal_eval(v)) \n",
    "    benchmarks_df[name]['contexts'] = benchmarks_df[name]['contexts'].map(lambda v: ast.literal_eval(v)) \n",
    "\n",
    "# инифицализировать класс с метриками\n",
    "metrics = RetrievalMetrics()\n",
    "\n",
    "# logging\n",
    "logger = Logger(False)\n",
    "log = logger.get_logger(__name__)"
   ]
  },
  {
   "cell_type": "code",
   "execution_count": 117,
   "metadata": {},
   "outputs": [
    {
     "name": "stderr",
     "output_type": "stream",
     "text": [
      "No sentence-transformers model found with name /home/aisummer/mikhail_workspace/nlp-service/models/intfloat/multilingual-e5-small. Creating a new one with mean pooling.\n",
      "No sentence-transformers model found with name /home/aisummer/mikhail_workspace/nlp-service/models/intfloat/multilingual-e5-small. Creating a new one with mean pooling.\n"
     ]
    }
   ],
   "source": [
    "# инициализировать ретриверов\n",
    "retrievers = {name: RetrieverModule(b_config, log) for name, b_config in benchmark_config.items()}"
   ]
  },
  {
   "cell_type": "code",
   "execution_count": 118,
   "metadata": {},
   "outputs": [
    {
     "name": "stdout",
     "output_type": "stream",
     "text": [
      "sberquad\n"
     ]
    },
    {
     "name": "stderr",
     "output_type": "stream",
     "text": [
      "100%|██████████| 1000/1000 [00:27<00:00, 36.96it/s]\n",
      "/home/aisummer/mikhail_workspace/nlp-service/src/evaluation_metrics.py:35: RuntimeWarning: invalid value encountered in scalar divide\n",
      "  return (2 * self.precision(pred_cands, gold_cands, k) * self.recall(pred_cands, gold_cands, k)) / (self.precision(pred_cands, gold_cands, k) + self.recall(pred_cands, gold_cands, k))\n"
     ]
    },
    {
     "name": "stdout",
     "output_type": "stream",
     "text": [
      "MRR:  0.83216659\n",
      "median Recall:  1.0\n",
      "median Precision:  0.33333\n",
      "median F1:  0.499996249990625\n",
      "squadv2\n"
     ]
    },
    {
     "name": "stderr",
     "output_type": "stream",
     "text": [
      "100%|██████████| 1000/1000 [00:40<00:00, 24.84it/s]"
     ]
    },
    {
     "name": "stdout",
     "output_type": "stream",
     "text": [
      "MRR:  0.71383315\n",
      "median Recall:  1.0\n",
      "median Precision:  0.33333\n",
      "median F1:  0.499996249990625\n"
     ]
    },
    {
     "name": "stderr",
     "output_type": "stream",
     "text": [
      "\n",
      "/home/aisummer/mikhail_workspace/nlp-service/src/evaluation_metrics.py:35: RuntimeWarning: invalid value encountered in scalar divide\n",
      "  return (2 * self.precision(pred_cands, gold_cands, k) * self.recall(pred_cands, gold_cands, k)) / (self.precision(pred_cands, gold_cands, k) + self.recall(pred_cands, gold_cands, k))\n"
     ]
    }
   ],
   "source": [
    "def get_relevant_chunk_ids(df, retriever):\n",
    "    relevant_chunk_ids = []\n",
    "    for i in tqdm(range(df.shape[0])):\n",
    "        state = DialogueState(query=df['question'][i])\n",
    "        retriever.base_search(state)\n",
    "        relevant_chunk_ids.append([item.metadata['chunk_id'] for item in state.base_relevant_docs])\n",
    "    \n",
    "    return relevant_chunk_ids\n",
    "\n",
    "\n",
    "benchmarks_score = {}\n",
    "for i, name in enumerate(benchmarks_df.keys()):\n",
    "    print(name)\n",
    "    # для каждого запроса получить список релевантных чанков\n",
    "    bench_pred_chunk_ids = get_relevant_chunk_ids(benchmarks_df[name], retrievers[name])\n",
    "    bench_golden_chunk_ids = benchmarks_df[name]['chunk_ids'].to_list()\n",
    "\n",
    "    mrr_score = metrics.MRR(bench_pred_chunk_ids, bench_golden_chunk_ids)\n",
    "    print(\"MRR: \", mrr_score)\n",
    "    \n",
    "    recall = [metrics.recall(relevant_ids, golden_ids, k=3) \n",
    "              for relevant_ids, golden_ids in zip(bench_pred_chunk_ids, bench_golden_chunk_ids)]\n",
    "    print(\"median Recall: \", np.median(recall))\n",
    "\n",
    "    precision = [metrics.precision(relevant_ids, golden_ids, k=3) \n",
    "                 for relevant_ids, golden_ids in zip(bench_pred_chunk_ids, bench_golden_chunk_ids)]\n",
    "    print(\"median Precision: \", np.median(precision))\n",
    "\n",
    "    f1 = list(map(lambda v: 0 if np.isnan(v) else v, [metrics.f1_score(relevant_ids, golden_ids, k=3) \n",
    "          for relevant_ids, golden_ids in zip(bench_pred_chunk_ids, bench_golden_chunk_ids)]))\n",
    "    print(\"median F1: \", np.median(f1))\n",
    "\n",
    "    # посчитать метрики \n",
    "    score = {\n",
    "        'MRR': mrr_score,\n",
    "        'Recall': np.median(recall),\n",
    "        'Precision': np.median(precision),\n",
    "        'F1': np.median(f1)\n",
    "    }\n",
    "\n",
    "    benchmarks_score[name] = score"
   ]
  },
  {
   "cell_type": "code",
   "execution_count": 119,
   "metadata": {},
   "outputs": [],
   "source": [
    "# сохранить результат\n",
    "if os.path.exists(SAVE_LOGFILE):\n",
    "    print(\"Файл существует!\")\n",
    "    raise ValueError\n",
    "\n",
    "log_data = {'info': BENCHMARKS_INFO,\n",
    "            'hyperp': {\n",
    "                'model_path': MODEL_PATH, 'encode_kwargs': ENCODE_KWARGS, \n",
    "                'params': PARAMS, 'weights': WEIGHTS, 'benchmark_sizes': BENCHES_SIZE},\n",
    "            'scores': benchmarks_score}\n",
    "\n",
    "with open(SAVE_LOGFILE, 'w', encoding='utf-8') as fd:\n",
    "    fd.write(json.dumps(log_data, indent=1))"
   ]
  },
  {
   "cell_type": "code",
   "execution_count": null,
   "metadata": {},
   "outputs": [],
   "source": []
  }
 ],
 "metadata": {
  "kernelspec": {
   "display_name": ".nlp_env",
   "language": "python",
   "name": ".nlp_env"
  },
  "orig_nbformat": 4
 },
 "nbformat": 4,
 "nbformat_minor": 2
}
