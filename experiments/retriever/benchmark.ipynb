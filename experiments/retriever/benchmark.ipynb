{
 "cells": [
  {
   "cell_type": "code",
   "execution_count": 4,
   "metadata": {},
   "outputs": [],
   "source": [
    "import sys\n",
    "sys.path.insert(0, \"/home/aisummer/mikhail_workspace/nlp-service\")\n",
    "\n",
    "import pandas as pd \n",
    "import ast\n",
    "import numpy as np\n",
    "import json\n",
    "from tqdm import tqdm\n",
    "import os\n",
    "\n",
    "from src.DocumentsParser.utils import DBS_DIR_DENSE_VECTORDB_NAME, DBS_DIR_SPARSE_VECTORDB_NAME\n",
    "from src.DocumentsRetriever.Retriever import RetrieverModule, RetrieverConfig\n",
    "from src.evaluation_metrics import RetrievalMetrics\n",
    "from src.utils import DialogueState\n",
    "from src.logger import Logger"
   ]
  },
  {
   "cell_type": "code",
   "execution_count": 5,
   "metadata": {},
   "outputs": [],
   "source": [
    "# !!! TO CHANGE !!!\n",
    "SAVE_LOGFILE = './logs/trial1.json'\n",
    "BENCHMARKS_INFO = {'sberquad': 'v1', 'squadv2': 'v1'}\n",
    "MODEL_PATH = \"/home/aisummer/mikhail_workspace/nlp-service/models/intfloat/multilingual-e5-small\"\n",
    "ENCODE_KWARGS = {'normalize_embeddings': False, 'prompt': 'query: '}\n",
    "PARAMS = {'similarity': {'k': 4}, 'mmr': {'lambda_mult': 0.5, 'fetch_k': 20, 'k': 4}, 'bm25': {'k': 4}}\n",
    "WEIGHTS = [0.3, 0.4, 0.3]\n",
    "# !!! TO CHANGE !!!"
   ]
  },
  {
   "cell_type": "code",
   "execution_count": 6,
   "metadata": {},
   "outputs": [],
   "source": [
    "banchmark_paths = {}\n",
    "for name, version in BENCHMARKS_INFO.items():\n",
    "    banchmark_paths[name] = {\n",
    "        'table': f\"../../data/{name}/tables/{version}/benchmark.csv\",\n",
    "        'dense_db': f\"../../data/{name}/dbs/{version}/{DBS_DIR_DENSE_VECTORDB_NAME}\",\n",
    "        'sparse_db':  f\"../../data/{name}/dbs/{version}/{DBS_DIR_SPARSE_VECTORDB_NAME}\"\n",
    "    }\n",
    "\n",
    "benchmark_config = {}\n",
    "for name, paths in banchmark_paths.items():\n",
    "    benchmark_config[name] = RetrieverConfig(\n",
    "        model_path=MODEL_PATH,\n",
    "        densedb_path=paths['dense_db'],\n",
    "        sparsedb_path=paths['sparse_db'],\n",
    "        encode_kwargs=ENCODE_KWARGS,\n",
    "        params=PARAMS,\n",
    "        weights=WEIGHTS)"
   ]
  },
  {
   "cell_type": "code",
   "execution_count": 7,
   "metadata": {},
   "outputs": [],
   "source": [
    "# загрузить benchmark-датасет\n",
    "benchmarks_df = {}\n",
    "for name, bench_path in banchmark_paths.items():\n",
    "    benchmarks_df[name] = pd.read_csv(banchmark_paths[name]['table'], sep=';')\n",
    "    benchmarks_df[name]['chunk_ids'] = benchmarks_df[name]['chunk_ids'].map(lambda v: ast.literal_eval(v)) \n",
    "\n",
    "# инифицализировать класс с метриками\n",
    "metrics = RetrievalMetrics()\n",
    "\n",
    "# logging\n",
    "logger = Logger(True)\n",
    "log = logger.get_logger(__name__)"
   ]
  },
  {
   "cell_type": "code",
   "execution_count": 8,
   "metadata": {},
   "outputs": [
    {
     "name": "stdout",
     "output_type": "stream",
     "text": [
      "2024-07-10 13:05:29,821 — __main__ — INFO — Initiating Retriever-class\n"
     ]
    },
    {
     "name": "stderr",
     "output_type": "stream",
     "text": [
      "No sentence-transformers model found with name /home/aisummer/mikhail_workspace/nlp-service/models/intfloat/multilingual-e5-small. Creating a new one with mean pooling.\n"
     ]
    },
    {
     "name": "stdout",
     "output_type": "stream",
     "text": [
      "2024-07-10 13:05:30,709 — __main__ — INFO — Initiating Retriever-class\n"
     ]
    },
    {
     "name": "stderr",
     "output_type": "stream",
     "text": [
      "No sentence-transformers model found with name /home/aisummer/mikhail_workspace/nlp-service/models/intfloat/multilingual-e5-small. Creating a new one with mean pooling.\n"
     ]
    }
   ],
   "source": [
    "# инициализировать ретриверов\n",
    "retrievers = {name: RetrieverModule(b_config, log) for name, b_config in benchmark_config.items()}"
   ]
  },
  {
   "cell_type": "code",
   "execution_count": 9,
   "metadata": {},
   "outputs": [
    {
     "name": "stdout",
     "output_type": "stream",
     "text": [
      "2024-07-10 13:05:36,794 — __main__ — INFO — START_METHOD: Формирование базового набора релевантных документов\n"
     ]
    },
    {
     "ename": "ValueError",
     "evalue": "Number of rank lists must be equal to the number of weights.",
     "output_type": "error",
     "traceback": [
      "\u001b[0;31m---------------------------------------------------------------------------\u001b[0m",
      "\u001b[0;31mValueError\u001b[0m                                Traceback (most recent call last)",
      "Cell \u001b[0;32mIn[9], line 15\u001b[0m\n\u001b[1;32m     12\u001b[0m benchmarks_score \u001b[39m=\u001b[39m []\n\u001b[1;32m     13\u001b[0m \u001b[39mfor\u001b[39;00m i, name \u001b[39min\u001b[39;00m \u001b[39menumerate\u001b[39m(benchmarks_df\u001b[39m.\u001b[39mkeys()):\n\u001b[1;32m     14\u001b[0m     \u001b[39m# для каждого запроса получить список релевантных чанков\u001b[39;00m\n\u001b[0;32m---> 15\u001b[0m     bench_relevant_chunk_ids\u001b[39m.\u001b[39mappend(get_relevant_chunk_ids(benchmarks_df[name], retrievers[name]))\n\u001b[1;32m     16\u001b[0m     bench_golden_chunk_ids \u001b[39m=\u001b[39m benchmarks_df[name][\u001b[39m'\u001b[39m\u001b[39mchunk_ids\u001b[39m\u001b[39m'\u001b[39m]\n\u001b[1;32m     18\u001b[0m     \u001b[39m# посчитать метрики \u001b[39;00m\n",
      "Cell \u001b[0;32mIn[9], line 5\u001b[0m, in \u001b[0;36mget_relevant_chunk_ids\u001b[0;34m(df, retriever)\u001b[0m\n\u001b[1;32m      3\u001b[0m \u001b[39mfor\u001b[39;00m i \u001b[39min\u001b[39;00m \u001b[39mrange\u001b[39m(df\u001b[39m.\u001b[39mshape[\u001b[39m0\u001b[39m]):\n\u001b[1;32m      4\u001b[0m     state \u001b[39m=\u001b[39m DialogueState(query\u001b[39m=\u001b[39mdf[\u001b[39m'\u001b[39m\u001b[39mquestion\u001b[39m\u001b[39m'\u001b[39m][i])\n\u001b[0;32m----> 5\u001b[0m     retriever\u001b[39m.\u001b[39;49mbase_search(state)\n\u001b[1;32m      6\u001b[0m     relevant_chunk_ids\u001b[39m.\u001b[39mappend([item\u001b[39m.\u001b[39mmetadata[\u001b[39m'\u001b[39m\u001b[39mchunk_id\u001b[39m\u001b[39m'\u001b[39m] \u001b[39mfor\u001b[39;00m item \u001b[39min\u001b[39;00m state\u001b[39m.\u001b[39mbase_relevant_docs])\n\u001b[1;32m      8\u001b[0m \u001b[39mreturn\u001b[39;00m relevant_chunk_ids\n",
      "File \u001b[0;32m~/mikhail_workspace/nlp-service/src/logger.py:76\u001b[0m, in \u001b[0;36mLogger.cls_se_log.<locals>.wrap.<locals>.wrapped_f\u001b[0;34m(self, *args, **kwargs)\u001b[0m\n\u001b[1;32m     73\u001b[0m \u001b[39m@functools\u001b[39m\u001b[39m.\u001b[39mwraps(func)\n\u001b[1;32m     74\u001b[0m \u001b[39mdef\u001b[39;00m \u001b[39mwrapped_f\u001b[39m(\u001b[39mself\u001b[39m, \u001b[39m*\u001b[39margs, \u001b[39m*\u001b[39m\u001b[39m*\u001b[39mkwargs):\n\u001b[1;32m     75\u001b[0m     \u001b[39mself\u001b[39m\u001b[39m.\u001b[39mlog\u001b[39m.\u001b[39minfo(\u001b[39m'\u001b[39m\u001b[39mSTART_METHOD: \u001b[39m\u001b[39m'\u001b[39m \u001b[39m+\u001b[39m info)\n\u001b[0;32m---> 76\u001b[0m     value \u001b[39m=\u001b[39m func(\u001b[39mself\u001b[39;49m, \u001b[39m*\u001b[39;49margs, \u001b[39m*\u001b[39;49m\u001b[39m*\u001b[39;49mkwargs)\n\u001b[1;32m     77\u001b[0m     \u001b[39mself\u001b[39m\u001b[39m.\u001b[39mlog\u001b[39m.\u001b[39minfo(\u001b[39m'\u001b[39m\u001b[39mEND_METHOD: \u001b[39m\u001b[39m'\u001b[39m \u001b[39m+\u001b[39m info)\n\u001b[1;32m     78\u001b[0m     \u001b[39mreturn\u001b[39;00m value\n",
      "File \u001b[0;32m~/mikhail_workspace/nlp-service/src/DocumentsRetriever/Retriever.py:67\u001b[0m, in \u001b[0;36mRetrieverModule.base_search\u001b[0;34m(self, state)\u001b[0m\n\u001b[1;32m     65\u001b[0m \u001b[39m@Logger\u001b[39m\u001b[39m.\u001b[39mcls_se_log(\u001b[39m'''\u001b[39m\u001b[39mФормирование базового набора релевантных документов\u001b[39m\u001b[39m'''\u001b[39m)\n\u001b[1;32m     66\u001b[0m \u001b[39mdef\u001b[39;00m \u001b[39mbase_search\u001b[39m(\u001b[39mself\u001b[39m, state: DialogueState):\n\u001b[0;32m---> 67\u001b[0m     state\u001b[39m.\u001b[39mbase_relevant_docs \u001b[39m=\u001b[39m \u001b[39mself\u001b[39;49m\u001b[39m.\u001b[39;49mretriever\u001b[39m.\u001b[39;49minvoke(state\u001b[39m.\u001b[39;49mquery)\n",
      "File \u001b[0;32m~/.nlp_env/lib/python3.12/site-packages/langchain/retrievers/ensemble.py:117\u001b[0m, in \u001b[0;36mEnsembleRetriever.invoke\u001b[0;34m(self, input, config, **kwargs)\u001b[0m\n\u001b[1;32m    115\u001b[0m \u001b[39mexcept\u001b[39;00m \u001b[39mException\u001b[39;00m \u001b[39mas\u001b[39;00m e:\n\u001b[1;32m    116\u001b[0m     run_manager\u001b[39m.\u001b[39mon_retriever_error(e)\n\u001b[0;32m--> 117\u001b[0m     \u001b[39mraise\u001b[39;00m e\n\u001b[1;32m    118\u001b[0m \u001b[39melse\u001b[39;00m:\n\u001b[1;32m    119\u001b[0m     run_manager\u001b[39m.\u001b[39mon_retriever_end(\n\u001b[1;32m    120\u001b[0m         result,\n\u001b[1;32m    121\u001b[0m         \u001b[39m*\u001b[39m\u001b[39m*\u001b[39mkwargs,\n\u001b[1;32m    122\u001b[0m     )\n",
      "File \u001b[0;32m~/.nlp_env/lib/python3.12/site-packages/langchain/retrievers/ensemble.py:114\u001b[0m, in \u001b[0;36mEnsembleRetriever.invoke\u001b[0;34m(self, input, config, **kwargs)\u001b[0m\n\u001b[1;32m    107\u001b[0m run_manager \u001b[39m=\u001b[39m callback_manager\u001b[39m.\u001b[39mon_retriever_start(\n\u001b[1;32m    108\u001b[0m     dumpd(\u001b[39mself\u001b[39m),\n\u001b[1;32m    109\u001b[0m     \u001b[39minput\u001b[39m,\n\u001b[1;32m    110\u001b[0m     name\u001b[39m=\u001b[39mconfig\u001b[39m.\u001b[39mget(\u001b[39m\"\u001b[39m\u001b[39mrun_name\u001b[39m\u001b[39m\"\u001b[39m),\n\u001b[1;32m    111\u001b[0m     \u001b[39m*\u001b[39m\u001b[39m*\u001b[39mkwargs,\n\u001b[1;32m    112\u001b[0m )\n\u001b[1;32m    113\u001b[0m \u001b[39mtry\u001b[39;00m:\n\u001b[0;32m--> 114\u001b[0m     result \u001b[39m=\u001b[39m \u001b[39mself\u001b[39;49m\u001b[39m.\u001b[39;49mrank_fusion(\u001b[39minput\u001b[39;49m, run_manager\u001b[39m=\u001b[39;49mrun_manager, config\u001b[39m=\u001b[39;49mconfig)\n\u001b[1;32m    115\u001b[0m \u001b[39mexcept\u001b[39;00m \u001b[39mException\u001b[39;00m \u001b[39mas\u001b[39;00m e:\n\u001b[1;32m    116\u001b[0m     run_manager\u001b[39m.\u001b[39mon_retriever_error(e)\n",
      "File \u001b[0;32m~/.nlp_env/lib/python3.12/site-packages/langchain/retrievers/ensemble.py:239\u001b[0m, in \u001b[0;36mEnsembleRetriever.rank_fusion\u001b[0;34m(self, query, run_manager, config)\u001b[0m\n\u001b[1;32m    233\u001b[0m     retriever_docs[i] \u001b[39m=\u001b[39m [\n\u001b[1;32m    234\u001b[0m         Document(page_content\u001b[39m=\u001b[39mcast(\u001b[39mstr\u001b[39m, doc)) \u001b[39mif\u001b[39;00m \u001b[39misinstance\u001b[39m(doc, \u001b[39mstr\u001b[39m) \u001b[39melse\u001b[39;00m doc\n\u001b[1;32m    235\u001b[0m         \u001b[39mfor\u001b[39;00m doc \u001b[39min\u001b[39;00m retriever_docs[i]\n\u001b[1;32m    236\u001b[0m     ]\n\u001b[1;32m    238\u001b[0m \u001b[39m# apply rank fusion\u001b[39;00m\n\u001b[0;32m--> 239\u001b[0m fused_documents \u001b[39m=\u001b[39m \u001b[39mself\u001b[39;49m\u001b[39m.\u001b[39;49mweighted_reciprocal_rank(retriever_docs)\n\u001b[1;32m    241\u001b[0m \u001b[39mreturn\u001b[39;00m fused_documents\n",
      "File \u001b[0;32m~/.nlp_env/lib/python3.12/site-packages/langchain/retrievers/ensemble.py:302\u001b[0m, in \u001b[0;36mEnsembleRetriever.weighted_reciprocal_rank\u001b[0;34m(self, doc_lists)\u001b[0m\n\u001b[1;32m    289\u001b[0m \u001b[39m\u001b[39m\u001b[39m\"\"\"\u001b[39;00m\n\u001b[1;32m    290\u001b[0m \u001b[39mPerform weighted Reciprocal Rank Fusion on multiple rank lists.\u001b[39;00m\n\u001b[1;32m    291\u001b[0m \u001b[39mYou can find more details about RRF here:\u001b[39;00m\n\u001b[0;32m   (...)\u001b[0m\n\u001b[1;32m    299\u001b[0m \u001b[39m            scores in descending order.\u001b[39;00m\n\u001b[1;32m    300\u001b[0m \u001b[39m\"\"\"\u001b[39;00m\n\u001b[1;32m    301\u001b[0m \u001b[39mif\u001b[39;00m \u001b[39mlen\u001b[39m(doc_lists) \u001b[39m!=\u001b[39m \u001b[39mlen\u001b[39m(\u001b[39mself\u001b[39m\u001b[39m.\u001b[39mweights):\n\u001b[0;32m--> 302\u001b[0m     \u001b[39mraise\u001b[39;00m \u001b[39mValueError\u001b[39;00m(\n\u001b[1;32m    303\u001b[0m         \u001b[39m\"\u001b[39m\u001b[39mNumber of rank lists must be equal to the number of weights.\u001b[39m\u001b[39m\"\u001b[39m\n\u001b[1;32m    304\u001b[0m     )\n\u001b[1;32m    306\u001b[0m \u001b[39m# Associate each doc's content with its RRF score for later sorting by it\u001b[39;00m\n\u001b[1;32m    307\u001b[0m \u001b[39m# Duplicated contents across retrievers are collapsed & scored cumulatively\u001b[39;00m\n\u001b[1;32m    308\u001b[0m rrf_score: Dict[\u001b[39mstr\u001b[39m, \u001b[39mfloat\u001b[39m] \u001b[39m=\u001b[39m defaultdict(\u001b[39mfloat\u001b[39m)\n",
      "\u001b[0;31mValueError\u001b[0m: Number of rank lists must be equal to the number of weights."
     ]
    }
   ],
   "source": [
    "def get_relevant_chunk_ids(df, retriever):\n",
    "    relevant_chunk_ids = []\n",
    "    for i in range(df.shape[0]):\n",
    "        state = DialogueState(query=df['question'][i])\n",
    "        retriever.base_search(state)\n",
    "        relevant_chunk_ids.append([item.metadata['chunk_id'] for item in state.base_relevant_docs])\n",
    "    \n",
    "    return relevant_chunk_ids\n",
    "\n",
    "\n",
    "bench_relevant_chunk_ids = []\n",
    "benchmarks_score = []\n",
    "for i, name in enumerate(benchmarks_df.keys()):\n",
    "    # для каждого запроса получить список релевантных чанков\n",
    "    bench_relevant_chunk_ids.append(get_relevant_chunk_ids(benchmarks_df[name], retrievers[name]))\n",
    "    bench_golden_chunk_ids = benchmarks_df[name]['chunk_ids']\n",
    "\n",
    "    # посчитать метрики \n",
    "    score = {\n",
    "        'MRR': metrics.MRR(bench_relevant_chunk_ids, bench_golden_chunk_ids),\n",
    "        'mAP': metrics.mAP(bench_relevant_chunk_ids, bench_golden_chunk_ids),\n",
    "        'Recall': np.mean([metrics.recall(relevant_ids, golden_ids) \n",
    "                           for relevant_ids, golden_ids in tqdm(zip(bench_relevant_chunk_ids, benchmarks_df[name]))]),\n",
    "        'Precision': np.mean([metrics.precision(relevant_ids, golden_ids) \n",
    "                              for relevant_ids, golden_ids in tqdm(zip(bench_relevant_chunk_ids, benchmarks_df[name]))])\n",
    "    }\n",
    "\n",
    "    benchmarks_score.append(score)"
   ]
  },
  {
   "cell_type": "code",
   "execution_count": null,
   "metadata": {},
   "outputs": [],
   "source": [
    "# сохранить результат\n",
    "if os.path.exists(SAVE_LOGFILE):\n",
    "    print(\"Файл существует!\")\n",
    "    raise ValueError\n",
    "\n",
    "log_data = {'info': BENCHMARKS_INFO,  'model_path': MODEL_PATH,\n",
    "            'encode_kwargs': ENCODE_KWARGS, 'params': PARAMS}\n",
    "\n",
    "with open(SAVE_LOGFILE, 'w', encoding='utf-8') as fd:\n",
    "    fd.write(json.dumps(log_data, indent=1))"
   ]
  },
  {
   "cell_type": "code",
   "execution_count": null,
   "metadata": {},
   "outputs": [],
   "source": []
  }
 ],
 "metadata": {
  "kernelspec": {
   "display_name": ".nlp_env",
   "language": "python",
   "name": "python3"
  },
  "language_info": {
   "codemirror_mode": {
    "name": "ipython",
    "version": 3
   },
   "file_extension": ".py",
   "mimetype": "text/x-python",
   "name": "python",
   "nbconvert_exporter": "python",
   "pygments_lexer": "ipython3",
   "version": "3.12.3"
  },
  "orig_nbformat": 4
 },
 "nbformat": 4,
 "nbformat_minor": 2
}
