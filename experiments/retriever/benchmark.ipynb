{
 "cells": [
  {
   "cell_type": "code",
   "execution_count": 1,
   "metadata": {},
   "outputs": [],
   "source": [
    "import sys\n",
    "sys.path.insert(0, \"/home/aisummer/mikhail_workspace/nlp-service\")\n",
    "\n",
    "import pandas as pd \n",
    "import ast\n",
    "import numpy as np\n",
    "import json\n",
    "import os\n",
    "\n",
    "from src.DocumentsParser.utils import DBS_DIR_DENSE_VECTORDB_NAME, DBS_DIR_SPARSE_VECTORDB_NAME\n",
    "from src.DocumentsRetriever.Retriever import RetrieverModule, RetrieverConfig\n",
    "from src.evaluation_metrics import RetrievalMetrics\n",
    "from src.utils import DialogueState\n",
    "from src.logger import Logger"
   ]
  },
  {
   "cell_type": "code",
   "execution_count": null,
   "metadata": {},
   "outputs": [],
   "source": [
    "# !!! TO CHANGE !!!\n",
    "SAVE_LOGFILE = './logs/trial1.json'\n",
    "BENCHMARKS_INFO = {'sberquad': 'v1', 'squadv2': 'v1'}\n",
    "MODEL_PATH = \"/home/aisummer/mikhail_workspace/nlp-service/models/intfloat/multilingual-e5-small\"\n",
    "ENCODE_KWARGS = {'normalize_embeddings': False, 'prompt': 'query: '}\n",
    "PARAMS = {'similarity': {'k': 4}, 'mmr': {'lambda_mult': 0.5, 'fetch_k': 20, 'k': 4}, 'bm25': {'k': 4}}\n",
    "# !!! TO CHANGE !!!"
   ]
  },
  {
   "cell_type": "code",
   "execution_count": 2,
   "metadata": {},
   "outputs": [],
   "source": [
    "banchmark_paths = {}\n",
    "for name, version in BENCHMARKS_INFO.items():\n",
    "    banchmark_paths[name] = {\n",
    "        'table': f\"../../data/{name}/{version}/benchmark.csv\",\n",
    "        'dense_db': f\"../../data/{name}/dbs/{version}/{DBS_DIR_DENSE_VECTORDB_NAME}\",\n",
    "        'sparse_db':  f\"../../data/{name}/dbs/{version}/{DBS_DIR_SPARSE_VECTORDB_NAME}\"\n",
    "    }\n",
    "\n",
    "benchmark_config = {}\n",
    "for name, paths in banchmark_paths.items():\n",
    "    benchmark_config[name] = RetrieverConfig(\n",
    "        model_path=MODEL_PATH,\n",
    "        densedb_path=paths['dense_db'],\n",
    "        sparsedb_path=paths['sparse_db'],\n",
    "        encode_kwargs=ENCODE_KWARGS,\n",
    "        params=PARAMS)"
   ]
  },
  {
   "cell_type": "code",
   "execution_count": null,
   "metadata": {},
   "outputs": [],
   "source": [
    "# загрузить benchmark-датасет\n",
    "benchmarks_df = {}\n",
    "for name, bench_path in banchmark_paths.items():\n",
    "    benchmarks_df.append(pd.read_csv(bench_path[name]['table']))\n",
    "    benchmarks_df[name]['chunk_ids'] = benchmarks_df[name]['chunk_ids'].map(lambda v: ast.literal_eval(v)) \n",
    "\n",
    "# инифицализировать класс с метриками\n",
    "metrics = RetrievalMetrics()\n",
    "\n",
    "# logging\n",
    "logger = Logger(True)\n",
    "log = logger.get_logger(__name__)"
   ]
  },
  {
   "cell_type": "code",
   "execution_count": null,
   "metadata": {},
   "outputs": [],
   "source": [
    "# инициализировать ретриверов\n",
    "retrievers = {name: RetrieverModule(b_config, log) for name, b_config in benchmark_config.items()}"
   ]
  },
  {
   "cell_type": "code",
   "execution_count": null,
   "metadata": {},
   "outputs": [],
   "source": [
    "def get_relevant_chunk_ids(df, retriever):\n",
    "    relevant_chunk_ids = []\n",
    "    for i in range(df.shape[0]):\n",
    "        state = DialogueState(query=df['question'][i])\n",
    "        retriever.base_search(state)\n",
    "        relevant_chunk_ids.append([item.metadata['chunk_id'] for item in state.base_relevant_docs])\n",
    "    \n",
    "    return relevant_chunk_ids\n",
    "\n",
    "\n",
    "bench_relevant_chunk_ids = []\n",
    "benchmarks_score = []\n",
    "for i, name in enumerate(benchmarks_df.keys()):\n",
    "    # для каждого запроса получить список релевантных чанков\n",
    "    bench_relevant_chunk_ids.append(get_relevant_chunk_ids(benchmarks_df[name], retrievers[name]))\n",
    "    bench_golden_chunk_ids = benchmarks_df[name]['chunk_ids']\n",
    "\n",
    "    # посчитать метрики \n",
    "    score = {\n",
    "        'MRR': metrics.MRR(bench_relevant_chunk_ids, bench_golden_chunk_ids),\n",
    "        'mAP': metrics.mAP(bench_relevant_chunk_ids, bench_golden_chunk_ids),\n",
    "        'Recall': np.mean([metrics.recall(relevant_ids, golden_ids) \n",
    "                           for relevant_ids, golden_ids in zip(bench_relevant_chunk_ids, benchmarks_df[name])]),\n",
    "        'Precision': np.mean([metrics.precision(relevant_ids, golden_ids) \n",
    "                              for relevant_ids, golden_ids in zip(bench_relevant_chunk_ids, benchmarks_df[name])])\n",
    "    }\n",
    "\n",
    "    benchmarks_score.append(score)"
   ]
  },
  {
   "cell_type": "code",
   "execution_count": null,
   "metadata": {},
   "outputs": [],
   "source": [
    "# сохранить результат\n",
    "if os.path.exists(SAVE_LOGFILE):\n",
    "    print(\"Файл существует!\")\n",
    "    raise ValueError\n",
    "\n",
    "log_data = {'info': BENCHMARKS_INFO,  'model_path': MODEL_PATH,\n",
    "            'encode_kwargs': ENCODE_KWARGS, 'params': PARAMS}\n",
    "\n",
    "with open(SAVE_LOGFILE, 'w', encoding='utf-8') as fd:\n",
    "    fd.write(json.dumps(log_data, indent=1))"
   ]
  },
  {
   "cell_type": "code",
   "execution_count": null,
   "metadata": {},
   "outputs": [],
   "source": []
  }
 ],
 "metadata": {
  "kernelspec": {
   "display_name": ".nlp_env",
   "language": "python",
   "name": "python3"
  },
  "language_info": {
   "codemirror_mode": {
    "name": "ipython",
    "version": 3
   },
   "file_extension": ".py",
   "mimetype": "text/x-python",
   "name": "python",
   "nbconvert_exporter": "python",
   "pygments_lexer": "ipython3",
   "version": "3.12.3"
  },
  "orig_nbformat": 4
 },
 "nbformat": 4,
 "nbformat_minor": 2
}
