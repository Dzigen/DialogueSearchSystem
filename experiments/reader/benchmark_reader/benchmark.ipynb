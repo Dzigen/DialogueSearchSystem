{
 "cells": [
  {
   "cell_type": "code",
   "execution_count": 134,
   "metadata": {},
   "outputs": [],
   "source": [
    "import sys\n",
    "sys.path.insert(0, \"/home/aisummer/ssemenov_workspace/nlp-service\")\n",
    "\n",
    "import pandas as pd \n",
    "import json\n",
    "import os\n",
    "import time\n",
    "import tqdm\n",
    "\n",
    "from src.DocumentsParser.utils import DBS_DIR_DENSE_VECTORDB_NAME, DBS_DIR_SPARSE_VECTORDB_NAME\n",
    "from src.evaluation_metrics import ReaderMetrics\n",
    "from src.DocumentsSummarizer.Summarizer import SummarizerModule\n",
    "from src.LLM_build.utils import llmConfig\n",
    "from src.utils import DialogueState\n",
    "from src.logger import Logger"
   ]
  },
  {
   "cell_type": "markdown",
   "metadata": {},
   "source": [
    "### 1) Создаём объекты"
   ]
  },
  {
   "cell_type": "code",
   "execution_count": 2,
   "metadata": {},
   "outputs": [],
   "source": [
    "reader = SummarizerModule()\n",
    "config = DialogueState()\n",
    "configLLM = llmConfig()\n",
    "\n",
    "options = {\n",
    "\"num_keep\": configLLM.num_keep,\n",
    "\"seed\": configLLM.seed,\n",
    "\"num_predict\": configLLM.num_predict,\n",
    "\"top_k\": configLLM.top_k,\n",
    "\"top_p\": configLLM.top_p,\n",
    "\"tfs_z\": configLLM.tfs_z,\n",
    "\"typical_p\": configLLM.typical_p,\n",
    "\"repeat_last_n\": configLLM.repeat_last_n,\n",
    "\"temperature\": configLLM.temperature,\n",
    "\"repeat_penalty\": configLLM.repeat_penalty,\n",
    "\"presence_penalty\": configLLM.presence_penalty,\n",
    "\"frequency_penalty\": configLLM.frequency_penalty,\n",
    "\"mirostat\": configLLM.mirostat,\n",
    "\"mirostat_tau\": configLLM.mirostat_tau,\n",
    "\"mirostat_eta\": configLLM.mirostat_eta,\n",
    "\"penalize_newline\": configLLM.penalize_newline,\n",
    "#\"stop\": config.stop,\n",
    "\"numa\": configLLM.numa,\n",
    "\"num_ctx\": configLLM.num_ctx,\n",
    "\"num_batch\": configLLM.num_batch,\n",
    "\"num_gpu\": configLLM.num_gpu,\n",
    "\"main_gpu\": configLLM.main_gpu,\n",
    "\"low_vram\": configLLM.low_vram,\n",
    "\"f16_kv\": configLLM.f16_kv,\n",
    "\"vocab_only\": configLLM.vocab_only,\n",
    "\"use_mmap\": configLLM.use_mmap,\n",
    "\"use_mlock\": configLLM.use_mlock,\n",
    "\"num_thread\": configLLM.num_thread\n",
    "}"
   ]
  },
  {
   "cell_type": "markdown",
   "metadata": {},
   "source": [
    "### 2) Указываем инфо для данных"
   ]
  },
  {
   "cell_type": "code",
   "execution_count": 3,
   "metadata": {},
   "outputs": [],
   "source": [
    "BENCHMARKS_INFO = {'sberquad': 'v1', 'squadv2': 'v1'}\n",
    "banchmark_paths = {}\n",
    "for name, version in BENCHMARKS_INFO.items():\n",
    "    banchmark_paths[name] = {\n",
    "        'table': f\"../data/{name}/tables/{version}/benchmark.csv\",\n",
    "        'dense_db': f\"../data/{name}/dbs/{version}/{DBS_DIR_DENSE_VECTORDB_NAME}\",\n",
    "        'sparse_db':  f\"../data/{name}/dbs/{version}/{DBS_DIR_SPARSE_VECTORDB_NAME}\"\n",
    "    }"
   ]
  },
  {
   "cell_type": "markdown",
   "metadata": {},
   "source": [
    "### 3) Загрузка датасета"
   ]
  },
  {
   "cell_type": "code",
   "execution_count": 4,
   "metadata": {},
   "outputs": [
    {
     "name": "stdout",
     "output_type": "stream",
     "text": [
      "Loading Meteor...\n",
      "Loading ExactMatch\n"
     ]
    }
   ],
   "source": [
    "# загрузить benchmark-датасет\n",
    "benchmarks_df = {}\n",
    "for name, bench_path in banchmark_paths.items():\n",
    "    benchmarks_df[name] = pd.read_csv(banchmark_paths[name]['table'], sep=';')\n",
    "\n",
    "# инициализировать класс с метриками\n",
    "base_dir = '/home/aisummer/ssemenov_workspace/nlp-service'\n",
    "metrics = ReaderMetrics(base_dir)\n",
    "\n",
    "# logging\n",
    "logger = Logger(False)\n",
    "log = logger.get_logger(__name__)"
   ]
  },
  {
   "cell_type": "code",
   "execution_count": 26,
   "metadata": {},
   "outputs": [
    {
     "data": {
      "text/html": [
       "<div>\n",
       "<style scoped>\n",
       "    .dataframe tbody tr th:only-of-type {\n",
       "        vertical-align: middle;\n",
       "    }\n",
       "\n",
       "    .dataframe tbody tr th {\n",
       "        vertical-align: top;\n",
       "    }\n",
       "\n",
       "    .dataframe thead th {\n",
       "        text-align: right;\n",
       "    }\n",
       "</style>\n",
       "<table border=\"1\" class=\"dataframe\">\n",
       "  <thead>\n",
       "    <tr style=\"text-align: right;\">\n",
       "      <th></th>\n",
       "      <th>question</th>\n",
       "      <th>answer</th>\n",
       "      <th>chunk_ids</th>\n",
       "      <th>contexts</th>\n",
       "    </tr>\n",
       "  </thead>\n",
       "  <tbody>\n",
       "    <tr>\n",
       "      <th>0</th>\n",
       "      <td>чем представлены органические остатки?</td>\n",
       "      <td>известковыми выделениями сине-зелёных водорослей</td>\n",
       "      <td>[4974587056]</td>\n",
       "      <td>['В протерозойских отложениях органические ост...</td>\n",
       "    </tr>\n",
       "    <tr>\n",
       "      <th>1</th>\n",
       "      <td>что найдено в кремнистых сланцах железорудной ...</td>\n",
       "      <td>нитевидные водоросли, грибные нити</td>\n",
       "      <td>[4974587056]</td>\n",
       "      <td>['В протерозойских отложениях органические ост...</td>\n",
       "    </tr>\n",
       "    <tr>\n",
       "      <th>2</th>\n",
       "      <td>что встречается в протерозойских отложениях?</td>\n",
       "      <td>органические остатки</td>\n",
       "      <td>[4974587056]</td>\n",
       "      <td>['В протерозойских отложениях органические ост...</td>\n",
       "    </tr>\n",
       "    <tr>\n",
       "      <th>3</th>\n",
       "      <td>что относится к числу древнейших растительных ...</td>\n",
       "      <td>скопления графито-углистого вещества</td>\n",
       "      <td>[4974587056]</td>\n",
       "      <td>['В протерозойских отложениях органические ост...</td>\n",
       "    </tr>\n",
       "    <tr>\n",
       "      <th>4</th>\n",
       "      <td>как образовалось графито-углистое вещество?</td>\n",
       "      <td>в результате разложения Corycium enigmaticum</td>\n",
       "      <td>[4974587056]</td>\n",
       "      <td>['В протерозойских отложениях органические ост...</td>\n",
       "    </tr>\n",
       "    <tr>\n",
       "      <th>...</th>\n",
       "      <td>...</td>\n",
       "      <td>...</td>\n",
       "      <td>...</td>\n",
       "      <td>...</td>\n",
       "    </tr>\n",
       "    <tr>\n",
       "      <th>74251</th>\n",
       "      <td>Где используется классическая трёхуровневая си...</td>\n",
       "      <td>в рубиновом лазере.</td>\n",
       "      <td>[1898313107]</td>\n",
       "      <td>['Классическая трёхуровневая система накачки р...</td>\n",
       "    </tr>\n",
       "    <tr>\n",
       "      <th>74252</th>\n",
       "      <td>какой инвестиционный банк входил в состав Amer...</td>\n",
       "      <td>Lehman Brothers</td>\n",
       "      <td>[4929086505]</td>\n",
       "      <td>['Первая платёжная карта American Express появ...</td>\n",
       "    </tr>\n",
       "    <tr>\n",
       "      <th>74253</th>\n",
       "      <td>С каким альбомом был созвучен альбом Дэвида Бо...</td>\n",
       "      <td>Low</td>\n",
       "      <td>[1303094225]</td>\n",
       "      <td>['Следующий альбом Heroes был во многом созвуч...</td>\n",
       "    </tr>\n",
       "    <tr>\n",
       "      <th>74254</th>\n",
       "      <td>В каком техасском оркестре выступал гитарист Л...</td>\n",
       "      <td>Light Crust Doughboys</td>\n",
       "      <td>[934655466]</td>\n",
       "      <td>['Одним из тех, на кого игра Данна произвела н...</td>\n",
       "    </tr>\n",
       "    <tr>\n",
       "      <th>74255</th>\n",
       "      <td>Когда произошло зарождение банковского дела на...</td>\n",
       "      <td>в III веке до нашей эры</td>\n",
       "      <td>[1466134820]</td>\n",
       "      <td>['Банковское дело на территории Италии зародил...</td>\n",
       "    </tr>\n",
       "  </tbody>\n",
       "</table>\n",
       "<p>74256 rows × 4 columns</p>\n",
       "</div>"
      ],
      "text/plain": [
       "                                                question  \\\n",
       "0                 чем представлены органические остатки?   \n",
       "1      что найдено в кремнистых сланцах железорудной ...   \n",
       "2           что встречается в протерозойских отложениях?   \n",
       "3      что относится к числу древнейших растительных ...   \n",
       "4            как образовалось графито-углистое вещество?   \n",
       "...                                                  ...   \n",
       "74251  Где используется классическая трёхуровневая си...   \n",
       "74252  какой инвестиционный банк входил в состав Amer...   \n",
       "74253  С каким альбомом был созвучен альбом Дэвида Бо...   \n",
       "74254  В каком техасском оркестре выступал гитарист Л...   \n",
       "74255  Когда произошло зарождение банковского дела на...   \n",
       "\n",
       "                                                 answer     chunk_ids  \\\n",
       "0      известковыми выделениями сине-зелёных водорослей  [4974587056]   \n",
       "1                    нитевидные водоросли, грибные нити  [4974587056]   \n",
       "2                                  органические остатки  [4974587056]   \n",
       "3                  скопления графито-углистого вещества  [4974587056]   \n",
       "4          в результате разложения Corycium enigmaticum  [4974587056]   \n",
       "...                                                 ...           ...   \n",
       "74251                               в рубиновом лазере.  [1898313107]   \n",
       "74252                                   Lehman Brothers  [4929086505]   \n",
       "74253                                               Low  [1303094225]   \n",
       "74254                             Light Crust Doughboys   [934655466]   \n",
       "74255                           в III веке до нашей эры  [1466134820]   \n",
       "\n",
       "                                                contexts  \n",
       "0      ['В протерозойских отложениях органические ост...  \n",
       "1      ['В протерозойских отложениях органические ост...  \n",
       "2      ['В протерозойских отложениях органические ост...  \n",
       "3      ['В протерозойских отложениях органические ост...  \n",
       "4      ['В протерозойских отложениях органические ост...  \n",
       "...                                                  ...  \n",
       "74251  ['Классическая трёхуровневая система накачки р...  \n",
       "74252  ['Первая платёжная карта American Express появ...  \n",
       "74253  ['Следующий альбом Heroes был во многом созвуч...  \n",
       "74254  ['Одним из тех, на кого игра Данна произвела н...  \n",
       "74255  ['Банковское дело на территории Италии зародил...  \n",
       "\n",
       "[74256 rows x 4 columns]"
      ]
     },
     "execution_count": 26,
     "metadata": {},
     "output_type": "execute_result"
    }
   ],
   "source": [
    "benchmarks_df['sberquad']"
   ]
  },
  {
   "cell_type": "code",
   "execution_count": 27,
   "metadata": {},
   "outputs": [
    {
     "data": {
      "text/html": [
       "<div>\n",
       "<style scoped>\n",
       "    .dataframe tbody tr th:only-of-type {\n",
       "        vertical-align: middle;\n",
       "    }\n",
       "\n",
       "    .dataframe tbody tr th {\n",
       "        vertical-align: top;\n",
       "    }\n",
       "\n",
       "    .dataframe thead th {\n",
       "        text-align: right;\n",
       "    }\n",
       "</style>\n",
       "<table border=\"1\" class=\"dataframe\">\n",
       "  <thead>\n",
       "    <tr style=\"text-align: right;\">\n",
       "      <th></th>\n",
       "      <th>question</th>\n",
       "      <th>answer</th>\n",
       "      <th>chunk_ids</th>\n",
       "    </tr>\n",
       "  </thead>\n",
       "  <tbody>\n",
       "    <tr>\n",
       "      <th>0</th>\n",
       "      <td>When did Beyonce start becoming popular?</td>\n",
       "      <td>in the late 1990s</td>\n",
       "      <td>[621329309]</td>\n",
       "    </tr>\n",
       "    <tr>\n",
       "      <th>1</th>\n",
       "      <td>What areas did Beyonce compete in when she was...</td>\n",
       "      <td>singing and dancing</td>\n",
       "      <td>[621329309]</td>\n",
       "    </tr>\n",
       "    <tr>\n",
       "      <th>2</th>\n",
       "      <td>When did Beyonce leave Destiny's Child and bec...</td>\n",
       "      <td>2003</td>\n",
       "      <td>[621329309]</td>\n",
       "    </tr>\n",
       "    <tr>\n",
       "      <th>3</th>\n",
       "      <td>In what city and state did Beyonce  grow up?</td>\n",
       "      <td>Houston, Texas</td>\n",
       "      <td>[621329309]</td>\n",
       "    </tr>\n",
       "    <tr>\n",
       "      <th>4</th>\n",
       "      <td>In which decade did Beyonce become famous?</td>\n",
       "      <td>late 1990s</td>\n",
       "      <td>[621329309]</td>\n",
       "    </tr>\n",
       "    <tr>\n",
       "      <th>...</th>\n",
       "      <td>...</td>\n",
       "      <td>...</td>\n",
       "      <td>...</td>\n",
       "    </tr>\n",
       "    <tr>\n",
       "      <th>141964</th>\n",
       "      <td>What is the seldom used force unit equal to on...</td>\n",
       "      <td>sthène</td>\n",
       "      <td>[2990931136]</td>\n",
       "    </tr>\n",
       "    <tr>\n",
       "      <th>141965</th>\n",
       "      <td>What does not have a metric counterpart?</td>\n",
       "      <td>NaN</td>\n",
       "      <td>[2990931136]</td>\n",
       "    </tr>\n",
       "    <tr>\n",
       "      <th>141966</th>\n",
       "      <td>What is the force exerted by standard gravity ...</td>\n",
       "      <td>NaN</td>\n",
       "      <td>[2990931136]</td>\n",
       "    </tr>\n",
       "    <tr>\n",
       "      <th>141967</th>\n",
       "      <td>What force leads to a commonly used unit of mass?</td>\n",
       "      <td>NaN</td>\n",
       "      <td>[2990931136]</td>\n",
       "    </tr>\n",
       "    <tr>\n",
       "      <th>141968</th>\n",
       "      <td>What force is part of the modern SI system?</td>\n",
       "      <td>NaN</td>\n",
       "      <td>[2990931136]</td>\n",
       "    </tr>\n",
       "  </tbody>\n",
       "</table>\n",
       "<p>141969 rows × 3 columns</p>\n",
       "</div>"
      ],
      "text/plain": [
       "                                                 question  \\\n",
       "0                When did Beyonce start becoming popular?   \n",
       "1       What areas did Beyonce compete in when she was...   \n",
       "2       When did Beyonce leave Destiny's Child and bec...   \n",
       "3           In what city and state did Beyonce  grow up?    \n",
       "4              In which decade did Beyonce become famous?   \n",
       "...                                                   ...   \n",
       "141964  What is the seldom used force unit equal to on...   \n",
       "141965           What does not have a metric counterpart?   \n",
       "141966  What is the force exerted by standard gravity ...   \n",
       "141967  What force leads to a commonly used unit of mass?   \n",
       "141968        What force is part of the modern SI system?   \n",
       "\n",
       "                     answer     chunk_ids  \n",
       "0         in the late 1990s   [621329309]  \n",
       "1       singing and dancing   [621329309]  \n",
       "2                      2003   [621329309]  \n",
       "3            Houston, Texas   [621329309]  \n",
       "4                late 1990s   [621329309]  \n",
       "...                     ...           ...  \n",
       "141964               sthène  [2990931136]  \n",
       "141965                  NaN  [2990931136]  \n",
       "141966                  NaN  [2990931136]  \n",
       "141967                  NaN  [2990931136]  \n",
       "141968                  NaN  [2990931136]  \n",
       "\n",
       "[141969 rows x 3 columns]"
      ]
     },
     "execution_count": 27,
     "metadata": {},
     "output_type": "execute_result"
    }
   ],
   "source": [
    "benchmarks_df['squadv2']"
   ]
  },
  {
   "cell_type": "markdown",
   "metadata": {},
   "source": [
    "### 4) Предскажем ответы по вопросам из датасетов "
   ]
  },
  {
   "cell_type": "code",
   "execution_count": 136,
   "metadata": {},
   "outputs": [],
   "source": [
    "def get_relevant_ans(df: dict, reader: SummarizerModule, cnt: int, contexts: bool) -> list:\n",
    "    relevant_ans = []\n",
    "    questions = []\n",
    "    context = []\n",
    "    question = df['question']\n",
    "    \n",
    "    for i in tqdm.tqdm(range(cnt)):\n",
    "\n",
    "        questions.append(question[i])\n",
    "\n",
    "        if contexts:\n",
    "            context.append(df['contexts'][i].strip('[]').strip(\"'\"))\n",
    "            contexts = df['contexts'][i].strip('[]').strip(\"'\")\n",
    "        else:\n",
    "            contexts = ''\n",
    "\n",
    "        reader.create_answer(config, configLLM, question[i], contexts.strip('[]').strip(\"'\"))\n",
    "        relevant_ans.append(config.answer)\n",
    "    return questions, relevant_ans, context"
   ]
  },
  {
   "cell_type": "markdown",
   "metadata": {},
   "source": [
    "### sberquad "
   ]
  },
  {
   "cell_type": "code",
   "execution_count": 137,
   "metadata": {},
   "outputs": [
    {
     "name": "stderr",
     "output_type": "stream",
     "text": [
      " 20%|██        | 1/5 [00:15<01:02, 15.70s/it]"
     ]
    },
    {
     "name": "stdout",
     "output_type": "stream",
     "text": [
      "\n",
      "\n"
     ]
    },
    {
     "name": "stderr",
     "output_type": "stream",
     "text": [
      " 40%|████      | 2/5 [00:21<00:30, 10.14s/it]"
     ]
    },
    {
     "name": "stdout",
     "output_type": "stream",
     "text": [
      "\n",
      "\n"
     ]
    },
    {
     "name": "stderr",
     "output_type": "stream",
     "text": [
      " 60%|██████    | 3/5 [00:27<00:15,  7.85s/it]"
     ]
    },
    {
     "name": "stdout",
     "output_type": "stream",
     "text": [
      "\n",
      "\n"
     ]
    },
    {
     "name": "stderr",
     "output_type": "stream",
     "text": [
      " 80%|████████  | 4/5 [00:33<00:07,  7.26s/it]"
     ]
    },
    {
     "name": "stdout",
     "output_type": "stream",
     "text": [
      "\n",
      "\n"
     ]
    },
    {
     "name": "stderr",
     "output_type": "stream",
     "text": [
      "100%|██████████| 5/5 [00:41<00:00,  8.33s/it]"
     ]
    },
    {
     "name": "stdout",
     "output_type": "stream",
     "text": [
      "\n",
      "\n"
     ]
    },
    {
     "name": "stderr",
     "output_type": "stream",
     "text": [
      "\n"
     ]
    }
   ],
   "source": [
    "start_time_sberquad = time.time()\n",
    "\n",
    "cnt = 5\n",
    "questions_sberquad, predicted_sberquad, context_sberquad = get_relevant_ans(benchmarks_df['sberquad'], reader, cnt, True)\n",
    "targets_sberquad = benchmarks_df['sberquad']['answer'].to_list()[:cnt]\n",
    "\n",
    "time_execute_sberquad = time.time() - start_time_sberquad\n",
    "\n",
    "q_and_a_sberquad = {\n",
    "    'question': questions_sberquad,\n",
    "    'predicted_answer': predicted_sberquad,\n",
    "    'target': targets_sberquad,\n",
    "    'context': context_sberquad\n",
    "    }"
   ]
  },
  {
   "cell_type": "code",
   "execution_count": 138,
   "metadata": {},
   "outputs": [
    {
     "data": {
      "text/html": [
       "<div>\n",
       "<style scoped>\n",
       "    .dataframe tbody tr th:only-of-type {\n",
       "        vertical-align: middle;\n",
       "    }\n",
       "\n",
       "    .dataframe tbody tr th {\n",
       "        vertical-align: top;\n",
       "    }\n",
       "\n",
       "    .dataframe thead th {\n",
       "        text-align: right;\n",
       "    }\n",
       "</style>\n",
       "<table border=\"1\" class=\"dataframe\">\n",
       "  <thead>\n",
       "    <tr style=\"text-align: right;\">\n",
       "      <th></th>\n",
       "      <th>question</th>\n",
       "      <th>predicted_answer</th>\n",
       "      <th>target</th>\n",
       "      <th>context</th>\n",
       "    </tr>\n",
       "  </thead>\n",
       "  <tbody>\n",
       "    <tr>\n",
       "      <th>0</th>\n",
       "      <td>чем представлены органические остатки?</td>\n",
       "      <td>Органические остатки в протерозойских отложени...</td>\n",
       "      <td>известковыми выделениями сине-зелёных водорослей</td>\n",
       "      <td>В протерозойских отложениях органические остат...</td>\n",
       "    </tr>\n",
       "    <tr>\n",
       "      <th>1</th>\n",
       "      <td>что найдено в кремнистых сланцах железорудной ...</td>\n",
       "      <td>В cremnitsykh sglants (кремистых сланка) желез...</td>\n",
       "      <td>нитевидные водоросли, грибные нити</td>\n",
       "      <td>В протерозойских отложениях органические остат...</td>\n",
       "    </tr>\n",
       "    <tr>\n",
       "      <th>2</th>\n",
       "      <td>что встречается в протерозойских отложениях?</td>\n",
       "      <td>В Протерозое обнаружены органические остатки, ...</td>\n",
       "      <td>органические остатки</td>\n",
       "      <td>В протерозойских отложениях органические остат...</td>\n",
       "    </tr>\n",
       "    <tr>\n",
       "      <th>3</th>\n",
       "      <td>что относится к числу древнейших растительных ...</td>\n",
       "      <td>В протерозойских отложениях органические остат...</td>\n",
       "      <td>скопления графито-углистого вещества</td>\n",
       "      <td>В протерозойских отложениях органические остат...</td>\n",
       "    </tr>\n",
       "    <tr>\n",
       "      <th>4</th>\n",
       "      <td>как образовалось графито-углистое вещество?</td>\n",
       "      <td>Графито-углистым веществом называют остатки др...</td>\n",
       "      <td>в результате разложения Corycium enigmaticum</td>\n",
       "      <td>В протерозойских отложениях органические остат...</td>\n",
       "    </tr>\n",
       "  </tbody>\n",
       "</table>\n",
       "</div>"
      ],
      "text/plain": [
       "                                            question  \\\n",
       "0             чем представлены органические остатки?   \n",
       "1  что найдено в кремнистых сланцах железорудной ...   \n",
       "2       что встречается в протерозойских отложениях?   \n",
       "3  что относится к числу древнейших растительных ...   \n",
       "4        как образовалось графито-углистое вещество?   \n",
       "\n",
       "                                    predicted_answer  \\\n",
       "0  Органические остатки в протерозойских отложени...   \n",
       "1  В cremnitsykh sglants (кремистых сланка) желез...   \n",
       "2  В Протерозое обнаружены органические остатки, ...   \n",
       "3  В протерозойских отложениях органические остат...   \n",
       "4  Графито-углистым веществом называют остатки др...   \n",
       "\n",
       "                                             target  \\\n",
       "0  известковыми выделениями сине-зелёных водорослей   \n",
       "1                нитевидные водоросли, грибные нити   \n",
       "2                              органические остатки   \n",
       "3              скопления графито-углистого вещества   \n",
       "4      в результате разложения Corycium enigmaticum   \n",
       "\n",
       "                                             context  \n",
       "0  В протерозойских отложениях органические остат...  \n",
       "1  В протерозойских отложениях органические остат...  \n",
       "2  В протерозойских отложениях органические остат...  \n",
       "3  В протерозойских отложениях органические остат...  \n",
       "4  В протерозойских отложениях органические остат...  "
      ]
     },
     "execution_count": 138,
     "metadata": {},
     "output_type": "execute_result"
    }
   ],
   "source": [
    "df_sberquad = pd.DataFrame(q_and_a_sberquad)\n",
    "df_sberquad.to_csv(f'sberquad_qa_{cnt}')\n",
    "df_sberquad.head(10)"
   ]
  },
  {
   "cell_type": "markdown",
   "metadata": {},
   "source": [
    "### squadv2"
   ]
  },
  {
   "cell_type": "code",
   "execution_count": 139,
   "metadata": {},
   "outputs": [
    {
     "name": "stderr",
     "output_type": "stream",
     "text": [
      " 20%|██        | 1/5 [00:06<00:25,  6.35s/it]"
     ]
    },
    {
     "name": "stdout",
     "output_type": "stream",
     "text": [
      "\n",
      "\n"
     ]
    },
    {
     "name": "stderr",
     "output_type": "stream",
     "text": [
      " 40%|████      | 2/5 [00:09<00:13,  4.60s/it]"
     ]
    },
    {
     "name": "stdout",
     "output_type": "stream",
     "text": [
      "\n",
      "\n"
     ]
    },
    {
     "name": "stderr",
     "output_type": "stream",
     "text": [
      " 60%|██████    | 3/5 [00:15<00:10,  5.12s/it]"
     ]
    },
    {
     "name": "stdout",
     "output_type": "stream",
     "text": [
      "\n",
      "\n"
     ]
    },
    {
     "name": "stderr",
     "output_type": "stream",
     "text": [
      " 80%|████████  | 4/5 [00:18<00:04,  4.47s/it]"
     ]
    },
    {
     "name": "stdout",
     "output_type": "stream",
     "text": [
      "\n",
      "\n"
     ]
    },
    {
     "name": "stderr",
     "output_type": "stream",
     "text": [
      "100%|██████████| 5/5 [00:23<00:00,  4.66s/it]"
     ]
    },
    {
     "name": "stdout",
     "output_type": "stream",
     "text": [
      "\n",
      "\n"
     ]
    },
    {
     "name": "stderr",
     "output_type": "stream",
     "text": [
      "\n"
     ]
    }
   ],
   "source": [
    "start_time_squadv2 = time.time()\n",
    "\n",
    "questions_squadv2, predicted_squadv2, _ = get_relevant_ans(benchmarks_df['squadv2'], reader, cnt, False)\n",
    "targets_squadv2 = benchmarks_df['squadv2']['answer'].to_list()[:cnt]\n",
    "\n",
    "time_execute_squadv2 = time.time() - start_time_squadv2\n",
    "\n",
    "q_and_a_squadv2 = {\n",
    "    'question': questions_squadv2,\n",
    "    'predicted_answer': predicted_squadv2,\n",
    "    'target': targets_squadv2\n",
    "}"
   ]
  },
  {
   "cell_type": "code",
   "execution_count": 140,
   "metadata": {},
   "outputs": [
    {
     "data": {
      "text/html": [
       "<div>\n",
       "<style scoped>\n",
       "    .dataframe tbody tr th:only-of-type {\n",
       "        vertical-align: middle;\n",
       "    }\n",
       "\n",
       "    .dataframe tbody tr th {\n",
       "        vertical-align: top;\n",
       "    }\n",
       "\n",
       "    .dataframe thead th {\n",
       "        text-align: right;\n",
       "    }\n",
       "</style>\n",
       "<table border=\"1\" class=\"dataframe\">\n",
       "  <thead>\n",
       "    <tr style=\"text-align: right;\">\n",
       "      <th></th>\n",
       "      <th>question</th>\n",
       "      <th>predicted_answer</th>\n",
       "      <th>target</th>\n",
       "    </tr>\n",
       "  </thead>\n",
       "  <tbody>\n",
       "    <tr>\n",
       "      <th>0</th>\n",
       "      <td>When did Beyonce start becoming popular?</td>\n",
       "      <td>Beyoncé's popularity started to grow in the ea...</td>\n",
       "      <td>in the late 1990s</td>\n",
       "    </tr>\n",
       "    <tr>\n",
       "      <th>1</th>\n",
       "      <td>What areas did Beyonce compete in when she was...</td>\n",
       "      <td>Когда была маленькой, Бейонсе соревновалась в ...</td>\n",
       "      <td>singing and dancing</td>\n",
       "    </tr>\n",
       "    <tr>\n",
       "      <th>2</th>\n",
       "      <td>When did Beyonce leave Destiny's Child and bec...</td>\n",
       "      <td>Beyoncé left Destiny's Child in 2004. The grou...</td>\n",
       "      <td>2003</td>\n",
       "    </tr>\n",
       "    <tr>\n",
       "      <th>3</th>\n",
       "      <td>In what city and state did Beyonce  grow up?</td>\n",
       "      <td>Бейонсе выросла в Хьюстоне, штат Техас. (Beyon...</td>\n",
       "      <td>Houston, Texas</td>\n",
       "    </tr>\n",
       "    <tr>\n",
       "      <th>4</th>\n",
       "      <td>In which decade did Beyonce become famous?</td>\n",
       "      <td>Beyoncé became famous in the early 2000s, spec...</td>\n",
       "      <td>late 1990s</td>\n",
       "    </tr>\n",
       "  </tbody>\n",
       "</table>\n",
       "</div>"
      ],
      "text/plain": [
       "                                            question  \\\n",
       "0           When did Beyonce start becoming popular?   \n",
       "1  What areas did Beyonce compete in when she was...   \n",
       "2  When did Beyonce leave Destiny's Child and bec...   \n",
       "3      In what city and state did Beyonce  grow up?    \n",
       "4         In which decade did Beyonce become famous?   \n",
       "\n",
       "                                    predicted_answer               target  \n",
       "0  Beyoncé's popularity started to grow in the ea...    in the late 1990s  \n",
       "1  Когда была маленькой, Бейонсе соревновалась в ...  singing and dancing  \n",
       "2  Beyoncé left Destiny's Child in 2004. The grou...                 2003  \n",
       "3  Бейонсе выросла в Хьюстоне, штат Техас. (Beyon...       Houston, Texas  \n",
       "4  Beyoncé became famous in the early 2000s, spec...           late 1990s  "
      ]
     },
     "execution_count": 140,
     "metadata": {},
     "output_type": "execute_result"
    }
   ],
   "source": [
    "df_squadv2 = pd.DataFrame(q_and_a_squadv2)\n",
    "df_squadv2.to_csv(f'squadv2_qa_{cnt}')\n",
    "df_squadv2.head(10)"
   ]
  },
  {
   "cell_type": "markdown",
   "metadata": {},
   "source": [
    "### 6) Посчитаем метрики"
   ]
  },
  {
   "cell_type": "code",
   "execution_count": 141,
   "metadata": {},
   "outputs": [
    {
     "name": "stdout",
     "output_type": "stream",
     "text": [
      "Dataset sberquad \n",
      "\n",
      "rouge:  0.0\n",
      "bleu:  0.08359\n",
      "meteor:  0.36824\n",
      "exact_match:  0.0 \n",
      "\n",
      "Dataset squadv2 \n",
      "\n",
      "rouge:  0.11818\n",
      "bleu:  0.00775\n",
      "meteor:  0.16575\n",
      "exact_match:  0.0 \n",
      "\n"
     ]
    }
   ],
   "source": [
    "\n",
    "def metric(predicted: list[str], targets: list[str], name:str) -> None:\n",
    "    \n",
    "    length = len(predicted)\n",
    "\n",
    "    print('Dataset', name, '\\n')\n",
    "    rouge_score = metrics.rouge(predicted, targets[:length])\n",
    "    print(\"rouge: \", rouge_score)\n",
    "\n",
    "    bleu_score = metrics.bleu(predicted, targets[:length])\n",
    "    print(\"bleu: \", bleu_score)\n",
    "\n",
    "    meteor = metrics.meteor(predicted, targets[:length])\n",
    "    print(\"meteor: \", meteor)\n",
    "\n",
    "    exact_match = metrics.exact_match(predicted, targets[:length])\n",
    "    print(\"exact_match: \", exact_match, '\\n')\n",
    "\n",
    "    # посчитать метрики \n",
    "    score = {\n",
    "        'info': BENCHMARKS_INFO, \n",
    "        'params': options,\n",
    "        'name': name,\n",
    "        'rouge': rouge_score,\n",
    "        'bleu': bleu_score,\n",
    "        'meteor': meteor,\n",
    "        'exact_match': exact_match\n",
    "    }\n",
    "\n",
    "    return score\n",
    "\n",
    "\n",
    "\n",
    "score = metric(predicted_sberquad, targets_sberquad,'sberquad')\n",
    "\n",
    "with open(f'../benchmark/logs/log_sberquad_{cnt}.txt', 'w') as f:\n",
    "        f.write(f\"info: {score['name']}\\n\")\n",
    "        f.write(f\"params: {score['params']}\\n\")\n",
    "        f.write(f\"Time of generation {cnt} answers: {time_execute_sberquad} seconds\\n\")\n",
    "        f.write(f\"Time of generation 1 answer: {time_execute_sberquad / cnt} seconds\\n\")\n",
    "        f.write(f\"rouge: {score['rouge']}\\n\")\n",
    "        f.write(f\"bleu: {score['bleu']}\\n\")\n",
    "        f.write(f\"meteor: {score['meteor']}\\n\")\n",
    "        f.write(f\"exact_match: {score['exact_match']}\\n\")\n",
    "        f.write(\"\\n\")  \n",
    "\n",
    "score = metric(predicted_squadv2, targets_squadv2, 'squadv2')\n",
    "\n",
    "with open(f'../benchmark/logs/log_squadv2_{cnt}.txt', 'w') as f:\n",
    "        f.write(f\"info: {score['name']}\\n\")\n",
    "        f.write(f\"params: {score['params']}\\n\")\n",
    "        f.write(f\"Time of generation {cnt} answers: {time_execute_squadv2} seconds\\n\")\n",
    "        f.write(f\"Time of generation 1 answer: {time_execute_squadv2 / cnt} seconds\\n\")\n",
    "        f.write(f\"rouge: {score['rouge']}\\n\")\n",
    "        f.write(f\"bleu: {score['bleu']}\\n\")\n",
    "        f.write(f\"meteor: {score['meteor']}\\n\")\n",
    "        f.write(f\"exact_match: {score['exact_match']}\\n\")\n",
    "        f.write(\"\\n\") "
   ]
  },
  {
   "cell_type": "code",
   "execution_count": null,
   "metadata": {},
   "outputs": [],
   "source": []
  }
 ],
 "metadata": {
  "kernelspec": {
   "display_name": ".nlp_env",
   "language": "python",
   "name": "python3"
  },
  "language_info": {
   "codemirror_mode": {
    "name": "ipython",
    "version": 3
   },
   "file_extension": ".py",
   "mimetype": "text/x-python",
   "name": "python",
   "nbconvert_exporter": "python",
   "pygments_lexer": "ipython3",
   "version": "3.12.3"
  }
 },
 "nbformat": 4,
 "nbformat_minor": 2
}
